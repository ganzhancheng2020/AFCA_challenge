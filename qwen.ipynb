{
 "cells": [
  {
   "cell_type": "code",
   "execution_count": 4,
   "id": "65b94a19-e36c-4e18-80f2-93261b367201",
   "metadata": {
    "ExecutionIndicator": {
     "show": true
    },
    "execution": {
     "iopub.execute_input": "2024-07-06T03:44:39.754761Z",
     "iopub.status.busy": "2024-07-06T03:44:39.754324Z",
     "iopub.status.idle": "2024-07-06T03:44:40.311307Z",
     "shell.execute_reply": "2024-07-06T03:44:40.310687Z",
     "shell.execute_reply.started": "2024-07-06T03:44:39.754734Z"
    },
    "tags": []
   },
   "outputs": [
    {
     "name": "stdout",
     "output_type": "stream",
     "text": [
      "你好！很高兴能为你服务。有什么我可以帮助你的吗？\n"
     ]
    }
   ],
   "source": [
    "from openai import OpenAI\n",
    "import os\n",
    "from dotenv import dotenv_values\n",
    "config = dotenv_values('.env')\n",
    "client = OpenAI(\n",
    "    api_key = config['qwen_key'],\n",
    "    base_url = config['qwen_url']\n",
    ")\n",
    "\n",
    "def get_response(prompt):\n",
    "    completion = client.chat.completions.create(\n",
    "        model=\"qwen2-7b-instruct\",\n",
    "        messages=[{'role': 'user', 'content': prompt}]\n",
    "        )\n",
    "    result = completion.choices[0].message.content\n",
    "    return result\n",
    "\n",
    "if __name__ == '__main__':\n",
    "    result = get_response(\"你好\")\n",
    "    print(result)"
   ]
  },
  {
   "cell_type": "code",
   "execution_count": null,
   "id": "af70fbf8-5f04-4271-a984-8ce1edc3516e",
   "metadata": {},
   "outputs": [],
   "source": []
  },
  {
   "cell_type": "markdown",
   "id": "86fc179f-60b2-48ea-9a3b-2afd8eecf130",
   "metadata": {},
   "source": [
    "### 参考资料"
   ]
  },
  {
   "cell_type": "markdown",
   "id": "3f0de316-f32f-45dc-9fe5-61129933bf24",
   "metadata": {},
   "source": [
    "https://dashscope.console.aliyun.com/billing"
   ]
  }
 ],
 "metadata": {
  "kernelspec": {
   "display_name": "Python 3 (ipykernel)",
   "language": "python",
   "name": "python3"
  },
  "language_info": {
   "codemirror_mode": {
    "name": "ipython",
    "version": 3
   },
   "file_extension": ".py",
   "mimetype": "text/x-python",
   "name": "python",
   "nbconvert_exporter": "python",
   "pygments_lexer": "ipython3",
   "version": "3.10.13"
  }
 },
 "nbformat": 4,
 "nbformat_minor": 5
}
