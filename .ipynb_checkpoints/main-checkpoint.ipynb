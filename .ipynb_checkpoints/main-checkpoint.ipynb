{
 "cells": [
  {
   "cell_type": "code",
   "execution_count": 1,
   "id": "65b94a19-e36c-4e18-80f2-93261b367201",
   "metadata": {
    "ExecutionIndicator": {
     "show": true
    },
    "execution": {
     "iopub.execute_input": "2024-07-14T15:46:26.378803Z",
     "iopub.status.busy": "2024-07-14T15:46:26.378473Z",
     "iopub.status.idle": "2024-07-14T15:49:06.328418Z",
     "shell.execute_reply": "2024-07-14T15:49:06.327852Z",
     "shell.execute_reply.started": "2024-07-14T15:46:26.378783Z"
    },
    "tags": []
   },
   "outputs": [
    {
     "name": "stderr",
     "output_type": "stream",
     "text": [
      "/usr/local/lib/python3.10/site-packages/tqdm/auto.py:21: TqdmWarning: IProgress not found. Please update jupyter and ipywidgets. See https://ipywidgets.readthedocs.io/en/stable/user_install.html\n",
      "  from .autonotebook import tqdm as notebook_tqdm\n",
      "2024-07-14 23:46:29.815023: I tensorflow/core/util/port.cc:113] oneDNN custom operations are on. You may see slightly different numerical results due to floating-point round-off errors from different computation orders. To turn them off, set the environment variable `TF_ENABLE_ONEDNN_OPTS=0`.\n",
      "2024-07-14 23:46:29.857063: I tensorflow/core/platform/cpu_feature_guard.cc:210] This TensorFlow binary is optimized to use available CPU instructions in performance-critical operations.\n",
      "To enable the following instructions: AVX2 AVX512F AVX512_VNNI FMA, in other operations, rebuild TensorFlow with the appropriate compiler flags.\n",
      "2024-07-14 23:46:31.140882: W tensorflow/compiler/tf2tensorrt/utils/py_utils.cc:38] TF-TRT Warning: Could not find TensorRT\n",
      "Downloading: 100%|██████████| 663/663 [00:00<00:00, 1.44kB/s]\n",
      "Downloading: 100%|██████████| 48.0/48.0 [00:00<00:00, 111B/s]\n",
      "Downloading: 100%|██████████| 243/243 [00:00<00:00, 579B/s]\n",
      "Downloading: 100%|██████████| 11.1k/11.1k [00:00<00:00, 21.4kB/s]\n",
      "Downloading: 100%|██████████| 1.59M/1.59M [00:00<00:00, 2.46MB/s]\n",
      "Downloading: 100%|██████████| 3.67G/3.67G [00:09<00:00, 401MB/s] \n",
      "Downloading: 100%|██████████| 3.60G/3.60G [00:12<00:00, 316MB/s]  \n",
      "Downloading: 100%|██████████| 3.60G/3.60G [00:11<00:00, 324MB/s] \n",
      "Downloading: 100%|██████████| 3.31G/3.31G [00:10<00:00, 324MB/s] \n",
      "Downloading: 100%|██████████| 27.1k/27.1k [00:01<00:00, 17.9kB/s]\n",
      "Downloading: 100%|██████████| 6.41k/6.41k [00:00<00:00, 16.7kB/s]\n",
      "Downloading: 100%|██████████| 6.70M/6.70M [00:00<00:00, 11.4MB/s]\n",
      "Downloading: 100%|██████████| 1.26k/1.26k [00:00<00:00, 3.28kB/s]\n",
      "Downloading: 100%|██████████| 2.65M/2.65M [00:00<00:00, 6.21MB/s]\n",
      "Loading checkpoint shards: 100%|██████████| 4/4 [00:52<00:00, 13.02s/it]\n",
      "Special tokens have been added in the vocabulary, make sure the associated word embeddings are fine-tuned or trained.\n"
     ]
    }
   ],
   "source": [
    "from openai import OpenAI\n",
    "import os\n",
    "from dotenv import dotenv_values\n",
    "from ReadLoad import read_jsonl, write_jsonl, read_json,write_json\n",
    "from tqdm import tqdm\n",
    "from evaluation import get_embedding, cosine_similarity\n",
    "from prompt_template import get_sys_prompt, get_qa_prompt\n",
    "#from shusheng import  get_respond\n",
    "from qwen import qwen_response\n",
    "import pandas as pd\n",
    "import time\n",
    "\n",
    "config = dotenv_values('.env')\n",
    "client = OpenAI(\n",
    "    api_key=config['qwen_key'],\n",
    "    base_url=config['qwen_url']\n",
    ")\n",
    "\n",
    "\n",
    "def get_response(prompt):\n",
    "    time.sleep(0.1)\n",
    "    try:\n",
    "        completion = client.chat.completions.create(\n",
    "            model=\"qwen2-7b-instruct\",\n",
    "            messages=[\n",
    "                {'role': 'system', 'content': get_sys_prompt()},\n",
    "                {'role': 'user', 'content': prompt}\n",
    "            ]\n",
    "\n",
    "            )\n",
    "        return completion.choices[0].message.content\n",
    "    except Exception as e:\n",
    "    # Handle any other unexpected exceptions\n",
    "        print(f\"An unexpected error occurred: {e}\")\n",
    "        return f\"An unexpected error occurred: {e}\"\n"
   ]
  },
  {
   "cell_type": "code",
   "execution_count": 2,
   "id": "1ad2555a-89a6-48d7-aa98-34ad67cc8f6c",
   "metadata": {
    "ExecutionIndicator": {
     "show": true
    },
    "execution": {
     "iopub.execute_input": "2024-07-14T15:49:06.330478Z",
     "iopub.status.busy": "2024-07-14T15:49:06.330002Z",
     "iopub.status.idle": "2024-07-14T15:49:06.335372Z",
     "shell.execute_reply": "2024-07-14T15:49:06.334830Z",
     "shell.execute_reply.started": "2024-07-14T15:49:06.330456Z"
    },
    "tags": []
   },
   "outputs": [],
   "source": [
    "def completion(data):\n",
    "    for d in tqdm(data):\n",
    "        query = d['问题']\n",
    "        clause = d['条款']\n",
    "        name = d['产品名']\n",
    "        prompt = get_qa_prompt(name,clause,query)\n",
    "        d['prompt'] = prompt\n",
    "        #d['answer'] = get_response(prompt)\n",
    "        #d['answer'] = get_respond(prompt)\n",
    "        d['answer'] = qwen_response(prompt)\n",
    "    return data"
   ]
  },
  {
   "cell_type": "code",
   "execution_count": 3,
   "id": "9b3ce02f-6c56-4b5f-af8a-cafc12ea95f7",
   "metadata": {
    "ExecutionIndicator": {
     "show": true
    },
    "execution": {
     "iopub.execute_input": "2024-07-14T15:49:06.336474Z",
     "iopub.status.busy": "2024-07-14T15:49:06.336082Z",
     "iopub.status.idle": "2024-07-14T15:49:06.342562Z",
     "shell.execute_reply": "2024-07-14T15:49:06.342131Z",
     "shell.execute_reply.started": "2024-07-14T15:49:06.336457Z"
    },
    "tags": []
   },
   "outputs": [],
   "source": [
    "def evaluation(data, name=\"测试数据\"):\n",
    "    similaritys = []\n",
    "    for d in tqdm(data):\n",
    "        vec1 = dev_data_embd[d['ID']]\n",
    "        vec2 = get_embedding(d['answer'])\n",
    "        similarity = cosine_similarity(vec1, vec2)\n",
    "        d['similarity'] = similarity\n",
    "        similaritys.append(similarity)\n",
    "    length = len(data)\n",
    "    score = sum(similaritys)/length\n",
    "    print(f'测评数据集：{length} 模型推理结果与答案的相识度得分：{score}')\n",
    "    df = pd.DataFrame(data)\n",
    "    df.to_excel(f\"{name}_score_{score}.xlsx\", index=False)\n",
    "    return data"
   ]
  },
  {
   "cell_type": "code",
   "execution_count": 8,
   "id": "77369f89-2d8a-483e-b50f-a41ce77e2a9c",
   "metadata": {
    "ExecutionIndicator": {
     "show": true
    },
    "execution": {
     "iopub.execute_input": "2024-07-14T16:15:46.377811Z",
     "iopub.status.busy": "2024-07-14T16:15:46.377467Z",
     "iopub.status.idle": "2024-07-14T16:15:46.381661Z",
     "shell.execute_reply": "2024-07-14T16:15:46.380912Z",
     "shell.execute_reply.started": "2024-07-14T16:15:46.377793Z"
    },
    "tags": []
   },
   "outputs": [],
   "source": [
    "def to_summit_json(data, commit=\"大道至简_result\"):\n",
    "    result = []\n",
    "    for d in data:\n",
    "        rd = {\n",
    "            \"ID\": d['ID'],\n",
    "            \"question\": d['问题'],\n",
    "            \"answer\": d['answer']\n",
    "        }\n",
    "        result.append(rd)\n",
    "    #write_json(result, commit)\n",
    "    write_jsonl(result, commit)"
   ]
  },
  {
   "cell_type": "markdown",
   "id": "c47b107e-4453-4bc6-b33b-0f9e07c4fcdd",
   "metadata": {},
   "source": [
    "### loading data"
   ]
  },
  {
   "cell_type": "code",
   "execution_count": 5,
   "id": "0df35a68-bade-4048-8944-a1d885dff3b3",
   "metadata": {
    "ExecutionIndicator": {
     "show": true
    },
    "execution": {
     "iopub.execute_input": "2024-07-14T15:49:06.347362Z",
     "iopub.status.busy": "2024-07-14T15:49:06.347113Z",
     "iopub.status.idle": "2024-07-14T15:49:06.357678Z",
     "shell.execute_reply": "2024-07-14T15:49:06.357216Z",
     "shell.execute_reply.started": "2024-07-14T15:49:06.347343Z"
    },
    "tags": []
   },
   "outputs": [],
   "source": [
    "test_data = read_json(\"dataset/test.json\")\n",
    "# dev_data = read_jsonl(\"dataset/resultdev_with_embedding.jsonl\")\n",
    "# dev_data_embd = {}\n",
    "# for d in dev_data:\n",
    "#     dev_data_embd[d['ID']] = d['ans_embedding']\n",
    "#     d.pop('ans_embedding')"
   ]
  },
  {
   "cell_type": "code",
   "execution_count": 9,
   "id": "256fa651-bc68-440e-a7d8-2d7fe84232f2",
   "metadata": {
    "ExecutionIndicator": {
     "show": true
    },
    "execution": {
     "iopub.execute_input": "2024-07-14T16:16:01.173301Z",
     "iopub.status.busy": "2024-07-14T16:16:01.172943Z",
     "iopub.status.idle": "2024-07-14T16:16:01.186760Z",
     "shell.execute_reply": "2024-07-14T16:16:01.186156Z",
     "shell.execute_reply.started": "2024-07-14T16:16:01.173277Z"
    },
    "tags": []
   },
   "outputs": [],
   "source": [
    "# 将数据也移到GPU上\n",
    "#comp_data = completion(dev_data[200:300])\n",
    "#eval_data = evaluation(comp_data)\n",
    "\n",
    "#test_data_result = completion(test_data)\n",
    "to_summit_json(test_data_result)\n"
   ]
  },
  {
   "cell_type": "code",
   "execution_count": 1,
   "id": "b1aef090-1de2-477f-a3d0-2ce7c1389335",
   "metadata": {
    "ExecutionIndicator": {
     "show": true
    },
    "execution": {
     "iopub.execute_input": "2024-07-14T14:31:34.696030Z",
     "iopub.status.busy": "2024-07-14T14:31:34.695685Z",
     "iopub.status.idle": "2024-07-14T14:32:23.137754Z",
     "shell.execute_reply": "2024-07-14T14:32:23.137234Z",
     "shell.execute_reply.started": "2024-07-14T14:31:34.695998Z"
    },
    "tags": []
   },
   "outputs": [
    {
     "name": "stderr",
     "output_type": "stream",
     "text": [
      "/usr/local/lib/python3.10/site-packages/tqdm/auto.py:21: TqdmWarning: IProgress not found. Please update jupyter and ipywidgets. See https://ipywidgets.readthedocs.io/en/stable/user_install.html\n",
      "  from .autonotebook import tqdm as notebook_tqdm\n",
      "2024-07-14 22:31:38.184116: I tensorflow/core/util/port.cc:113] oneDNN custom operations are on. You may see slightly different numerical results due to floating-point round-off errors from different computation orders. To turn them off, set the environment variable `TF_ENABLE_ONEDNN_OPTS=0`.\n",
      "2024-07-14 22:31:38.228197: I tensorflow/core/platform/cpu_feature_guard.cc:210] This TensorFlow binary is optimized to use available CPU instructions in performance-critical operations.\n",
      "To enable the following instructions: AVX2 AVX512F AVX512_VNNI FMA, in other operations, rebuild TensorFlow with the appropriate compiler flags.\n",
      "2024-07-14 22:31:39.429869: W tensorflow/compiler/tf2tensorrt/utils/py_utils.cc:38] TF-TRT Warning: Could not find TensorRT\n",
      "Loading checkpoint shards: 100%|██████████| 4/4 [00:33<00:00,  8.46s/it]\n",
      "Special tokens have been added in the vocabulary, make sure the associated word embeddings are fine-tuned or trained.\n"
     ]
    },
    {
     "data": {
      "text/plain": [
       "'您好！有什么关于保险条款的问题我可以帮助您解答吗？'"
      ]
     },
     "execution_count": 1,
     "metadata": {},
     "output_type": "execute_result"
    }
   ],
   "source": [
    "from qwen import qwen_response\n",
    "qwen_response(\"你好\")"
   ]
  },
  {
   "cell_type": "markdown",
   "id": "86fc179f-60b2-48ea-9a3b-2afd8eecf130",
   "metadata": {},
   "source": [
    "### 参考资料"
   ]
  },
  {
   "cell_type": "markdown",
   "id": "3f0de316-f32f-45dc-9fe5-61129933bf24",
   "metadata": {},
   "source": [
    "https://dashscope.console.aliyun.com/billing"
   ]
  }
 ],
 "metadata": {
  "kernelspec": {
   "display_name": "Python 3 (ipykernel)",
   "language": "python",
   "name": "python3"
  },
  "language_info": {
   "codemirror_mode": {
    "name": "ipython",
    "version": 3
   },
   "file_extension": ".py",
   "mimetype": "text/x-python",
   "name": "python",
   "nbconvert_exporter": "python",
   "pygments_lexer": "ipython3",
   "version": "3.10.14"
  }
 },
 "nbformat": 4,
 "nbformat_minor": 5
}
