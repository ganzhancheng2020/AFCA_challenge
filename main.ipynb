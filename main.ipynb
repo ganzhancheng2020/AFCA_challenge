{
 "cells": [
  {
   "cell_type": "code",
   "execution_count": 1,
   "id": "65b94a19-e36c-4e18-80f2-93261b367201",
   "metadata": {
    "ExecutionIndicator": {
     "show": false
    },
    "execution": {
     "iopub.execute_input": "2024-07-07T10:38:24.658954Z",
     "iopub.status.busy": "2024-07-07T10:38:24.658668Z",
     "iopub.status.idle": "2024-07-07T10:38:25.662751Z",
     "shell.execute_reply": "2024-07-07T10:38:25.662227Z",
     "shell.execute_reply.started": "2024-07-07T10:38:24.658927Z"
    },
    "tags": []
   },
   "outputs": [],
   "source": [
    "from openai import OpenAI\n",
    "import os\n",
    "from dotenv import dotenv_values\n",
    "from ReadLoad import read_jsonl, write_jsonl, read_json,write_json\n",
    "from tqdm import tqdm\n",
    "from evaluation import get_embedding, cosine_similarity\n",
    "from prompt_template import get_sys_prompt, get_qa_prompt\n",
    "import pandas as pd\n",
    "import time\n",
    "\n",
    "config = dotenv_values('.env')\n",
    "client = OpenAI(\n",
    "    api_key=config['qwen_key'],\n",
    "    base_url=config['qwen_url']\n",
    ")\n",
    "\n",
    "\n",
    "def get_response(prompt):\n",
    "    time.sleep(0.1)\n",
    "    try:\n",
    "        completion = client.chat.completions.create(\n",
    "            model=\"qwen2-7b-instruct\",\n",
    "            messages=[\n",
    "                {'role': 'system', 'content': get_sys_prompt()},\n",
    "                {'role': 'user', 'content': prompt}\n",
    "            ]\n",
    "\n",
    "            )\n",
    "        return completion.choices[0].message.content\n",
    "    except Exception as e:\n",
    "    # Handle any other unexpected exceptions\n",
    "        print(f\"An unexpected error occurred: {e}\")\n",
    "        return f\"An unexpected error occurred: {e}\"\n"
   ]
  },
  {
   "cell_type": "code",
   "execution_count": 16,
   "id": "1ad2555a-89a6-48d7-aa98-34ad67cc8f6c",
   "metadata": {
    "ExecutionIndicator": {
     "show": true
    },
    "execution": {
     "iopub.execute_input": "2024-07-07T10:57:15.062819Z",
     "iopub.status.busy": "2024-07-07T10:57:15.062451Z",
     "iopub.status.idle": "2024-07-07T10:57:15.066296Z",
     "shell.execute_reply": "2024-07-07T10:57:15.065729Z",
     "shell.execute_reply.started": "2024-07-07T10:57:15.062798Z"
    },
    "tags": []
   },
   "outputs": [],
   "source": [
    "def completion(data):\n",
    "    for d in tqdm(data):\n",
    "        query = d['问题']\n",
    "        clause = d['条款']\n",
    "        prompt = get_qa_prompt(clause, query)\n",
    "        d['prompt'] = prompt\n",
    "        d['answer'] = get_response(prompt)\n",
    "    return data"
   ]
  },
  {
   "cell_type": "code",
   "execution_count": 26,
   "id": "9b3ce02f-6c56-4b5f-af8a-cafc12ea95f7",
   "metadata": {
    "ExecutionIndicator": {
     "show": true
    },
    "execution": {
     "iopub.execute_input": "2024-07-07T11:04:03.164363Z",
     "iopub.status.busy": "2024-07-07T11:04:03.163989Z",
     "iopub.status.idle": "2024-07-07T11:04:03.168785Z",
     "shell.execute_reply": "2024-07-07T11:04:03.168193Z",
     "shell.execute_reply.started": "2024-07-07T11:04:03.164342Z"
    },
    "tags": []
   },
   "outputs": [],
   "source": [
    "def evaluation(data, name=\"测试数据\"):\n",
    "    similaritys = []\n",
    "    for d in tqdm(data):\n",
    "        vec1 = dev_data_embd[d['ID']]\n",
    "        vec2 = get_embedding(d['answer'])\n",
    "        similarity = cosine_similarity(vec1, vec2)\n",
    "        d['similarity'] = similarity\n",
    "        similaritys.append(similarity)\n",
    "    length = len(data)\n",
    "    score = sum(similaritys)/length\n",
    "    print(f'测评数据集：{length} 模型推理结果与答案的相识度得分：{score}')\n",
    "    df = pd.DataFrame(data)\n",
    "    df.to_excel(f\"{name}_score_{score}.xlsx\", index=False)\n",
    "    return data"
   ]
  },
  {
   "cell_type": "code",
   "execution_count": 28,
   "id": "77369f89-2d8a-483e-b50f-a41ce77e2a9c",
   "metadata": {
    "ExecutionIndicator": {
     "show": true
    },
    "execution": {
     "iopub.execute_input": "2024-07-07T11:10:25.486824Z",
     "iopub.status.busy": "2024-07-07T11:10:25.486267Z",
     "iopub.status.idle": "2024-07-07T11:10:25.490630Z",
     "shell.execute_reply": "2024-07-07T11:10:25.490032Z",
     "shell.execute_reply.started": "2024-07-07T11:10:25.486798Z"
    },
    "tags": []
   },
   "outputs": [],
   "source": [
    "def to_summit_json(data, commit=\"大道至简_result\"):\n",
    "    result = []\n",
    "    for d in data:\n",
    "        rd = {\n",
    "            \"ID\": d['ID'],\n",
    "            \"question\": d['问题'],\n",
    "            \"answer\": d['answer']\n",
    "        }\n",
    "        result.append(rd)\n",
    "    write_json(result, commit)"
   ]
  },
  {
   "cell_type": "markdown",
   "id": "c47b107e-4453-4bc6-b33b-0f9e07c4fcdd",
   "metadata": {},
   "source": [
    "### loading data"
   ]
  },
  {
   "cell_type": "code",
   "execution_count": 19,
   "id": "0df35a68-bade-4048-8944-a1d885dff3b3",
   "metadata": {
    "ExecutionIndicator": {
     "show": false
    },
    "execution": {
     "iopub.execute_input": "2024-07-07T11:00:21.415085Z",
     "iopub.status.busy": "2024-07-07T11:00:21.414701Z",
     "iopub.status.idle": "2024-07-07T11:00:21.585704Z",
     "shell.execute_reply": "2024-07-07T11:00:21.585048Z",
     "shell.execute_reply.started": "2024-07-07T11:00:21.415065Z"
    },
    "tags": []
   },
   "outputs": [],
   "source": [
    "test_data = read_json(\"dataset/test.json\")\n",
    "dev_data = read_jsonl(\"dataset/resultdev_with_embedding.jsonl\")\n",
    "dev_data_embd = {}\n",
    "for d in dev_data:\n",
    "    dev_data_embd[d['ID']] = d['ans_embedding']\n",
    "    d.pop('ans_embedding')"
   ]
  },
  {
   "cell_type": "code",
   "execution_count": 29,
   "id": "256fa651-bc68-440e-a7d8-2d7fe84232f2",
   "metadata": {
    "ExecutionIndicator": {
     "show": false
    },
    "execution": {
     "iopub.execute_input": "2024-07-07T11:10:27.715250Z",
     "iopub.status.busy": "2024-07-07T11:10:27.714898Z",
     "iopub.status.idle": "2024-07-07T11:10:27.718082Z",
     "shell.execute_reply": "2024-07-07T11:10:27.717597Z",
     "shell.execute_reply.started": "2024-07-07T11:10:27.715230Z"
    },
    "tags": []
   },
   "outputs": [],
   "source": [
    "comp_data = completion(dev_data[:2])\n",
    "eval_data = evaluation(comp_data)\n",
    "to_summit_json(eval_data)"
   ]
  },
  {
   "cell_type": "markdown",
   "id": "86fc179f-60b2-48ea-9a3b-2afd8eecf130",
   "metadata": {},
   "source": [
    "### 参考资料"
   ]
  },
  {
   "cell_type": "markdown",
   "id": "3f0de316-f32f-45dc-9fe5-61129933bf24",
   "metadata": {},
   "source": [
    "https://dashscope.console.aliyun.com/billing"
   ]
  }
 ],
 "metadata": {
  "kernelspec": {
   "display_name": "Python 3 (ipykernel)",
   "language": "python",
   "name": "python3"
  },
  "language_info": {
   "codemirror_mode": {
    "name": "ipython",
    "version": 3
   },
   "file_extension": ".py",
   "mimetype": "text/x-python",
   "name": "python",
   "nbconvert_exporter": "python",
   "pygments_lexer": "ipython3",
   "version": "3.10.14"
  }
 },
 "nbformat": 4,
 "nbformat_minor": 5
}
