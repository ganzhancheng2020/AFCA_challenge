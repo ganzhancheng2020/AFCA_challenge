{
 "cells": [
  {
   "cell_type": "code",
   "execution_count": 28,
   "id": "65b94a19-e36c-4e18-80f2-93261b367201",
   "metadata": {
    "ExecutionIndicator": {
     "show": true
    },
    "execution": {
     "iopub.execute_input": "2024-07-06T11:45:21.247491Z",
     "iopub.status.busy": "2024-07-06T11:45:21.247083Z",
     "iopub.status.idle": "2024-07-06T11:45:21.297816Z",
     "shell.execute_reply": "2024-07-06T11:45:21.297282Z",
     "shell.execute_reply.started": "2024-07-06T11:45:21.247469Z"
    },
    "tags": []
   },
   "outputs": [],
   "source": [
    "from openai import OpenAI\n",
    "import os\n",
    "from dotenv import dotenv_values\n",
    "from ReadLoad import read_jsonl, write_jsonl, read_json\n",
    "config = dotenv_values('.env')\n",
    "client = OpenAI(\n",
    "    api_key = config['qwen_key'],\n",
    "    base_url = config['qwen_url']\n",
    ")\n",
    "\n",
    "def get_response(prompt):\n",
    "    completion = client.chat.completions.create(\n",
    "        model=\"qwen2-7b-instruct\",\n",
    "        messages=[\n",
    "            {'role': 'system', 'content': \"你是一个基于保险条款的问答系统，对用户提出的有关保险条款的问题给予准确、清晰的回答。\"},\n",
    "            {'role': 'user', 'content': prompt}\n",
    "        ]\n",
    "        \n",
    "        )\n",
    "    result = completion.choices[0].message.content\n",
    "    return result\n"
   ]
  },
  {
   "cell_type": "code",
   "execution_count": 38,
   "id": "e0a309e2-0256-42f4-9b6d-7791f07b9ba0",
   "metadata": {
    "ExecutionIndicator": {
     "show": true
    },
    "execution": {
     "iopub.execute_input": "2024-07-06T11:55:03.071019Z",
     "iopub.status.busy": "2024-07-06T11:55:03.070677Z",
     "iopub.status.idle": "2024-07-06T11:55:03.074423Z",
     "shell.execute_reply": "2024-07-06T11:55:03.073774Z",
     "shell.execute_reply.started": "2024-07-06T11:55:03.070999Z"
    },
    "tags": []
   },
   "outputs": [],
   "source": [
    "qa_prompt = '''从保险条款\n",
    "==========\n",
    "{}\n",
    "==========\n",
    "中找问题\n",
    "==========\n",
    "{}\n",
    "==========\n",
    "的答案，找到答案就仅使用保险条款中的语句回答问题，找不到答案就用自身知识回答并且告诉用户该信息不是来自文档。\n",
    "不要复述问题，不要回答无关的内容, 直接开始回答问题。\n",
    "'''\n",
    "\n",
    "qa_prompt = '''\n",
    "保险条款: \"\"\"{}\"\"\"\n",
    "用户问题：\"\"\"{}\"\"\"\n",
    "回答规则：\"\"\"仅使用保险条款中的语句回答问题\"\"\"\n",
    "回答: \n",
    "'''"
   ]
  },
  {
   "cell_type": "code",
   "execution_count": 45,
   "id": "1ad2555a-89a6-48d7-aa98-34ad67cc8f6c",
   "metadata": {
    "ExecutionIndicator": {
     "show": false
    },
    "execution": {
     "iopub.execute_input": "2024-07-06T11:59:05.227960Z",
     "iopub.status.busy": "2024-07-06T11:59:05.227591Z",
     "iopub.status.idle": "2024-07-06T11:59:06.656330Z",
     "shell.execute_reply": "2024-07-06T11:59:06.655776Z",
     "shell.execute_reply.started": "2024-07-06T11:59:05.227942Z"
    },
    "tags": []
   },
   "outputs": [],
   "source": [
    "data = read_json(\"dev.json\")\n",
    "for d in data:\n",
    "    query = d['问题']\n",
    "    clause = d['条款']\n",
    "    prompt = qa_prompt.format(clause, query)\n",
    "    d['prompt'] = prompt\n",
    "    d['answer'] = get_response(prompt)\n",
    "    break"
   ]
  },
  {
   "cell_type": "code",
   "execution_count": 46,
   "id": "f957d46a-df86-44db-b318-7018fb953c02",
   "metadata": {
    "ExecutionIndicator": {
     "show": true
    },
    "execution": {
     "iopub.execute_input": "2024-07-06T11:59:09.239836Z",
     "iopub.status.busy": "2024-07-06T11:59:09.239430Z",
     "iopub.status.idle": "2024-07-06T11:59:09.243935Z",
     "shell.execute_reply": "2024-07-06T11:59:09.243411Z",
     "shell.execute_reply.started": "2024-07-06T11:59:09.239814Z"
    },
    "tags": []
   },
   "outputs": [
    {
     "data": {
      "text/plain": [
       "{'ID': '5080',\n",
       " '产品名': '健康福·少儿终身重疾险',\n",
       " '条款': '血液培养测试结果为阳性，证实存在感染性微生物。 本公司仅对“轻度感染性心内膜炎”和“心脏瓣膜介入手术”两项中的其中一项承担保险责任，给付其中一项保险金后，对另一项轻度疾病保险责任同时终止。11.1.11角膜移植指为增进视力或治疗某些角膜疾患，已经实施了异体的角膜移植手术。此手术必须在本公司认可的医院专科医生认为是医疗必需的情况下进行。本公司仅对“角膜移植”、“单目失明”和“视力严重受损”三项中的其中一项承担保险责任，给付其中一项保险金后，对其他两项轻度疾病保险责任同时终止。11.1.12单目失明指因疾病或意外伤害导致单眼视力永久不可逆性丧失，但未达到“双目失明”的给付标准，但患眼须满足下列至少一项条件：(1)眼球缺失或摘除；(2)矫正视力低于0.02（采用国际标准视力表，如果使用其它视力表应进行换算）；被保险人申请理赔时年龄必须在三周岁以上，且除眼球缺失或摘除情形外，应提供理赔当时的视力丧失诊断及检查证据。本公司仅对“角膜移植”、“单目失明”和“视力严重受损”三项中的11.1.13严重甲型及乙型被保险人必须罹患严重甲型血友病（缺乏VIII凝血因子）或严重血友病乙型血友病（缺乏IX凝血因子），且凝血因子VIII或凝血因子IX的活性水平少于百分之一。诊断必须由本公司认可的医院血液病专科医生确认。本公司承担本项疾病责任不受本合同责任免除中“遗传性疾病、先天性畸形、变形或染色体异常”的限制。11.1.14主动脉内手术（非为了治疗主动脉疾病实际实施了经皮经导管进行的主动脉内手开胸或开腹手术）术，且未达到“主动脉手术”的给付标准。主动脉指升主动脉、主动脉弓和降主动脉（含胸主动脉和腹主动脉），不包括升主动脉、主动脉弓和降主动脉的分支血管。11.1.15原位癌指恶性细胞局限于上皮内尚未穿破基底膜浸润周围正常组织的癌细胞新生物，且须满足以下所有条件：(1)必须经对固定活组织的组织病理学检查明确诊断，属于世界卫生组织《疾病和有关健康问题的国际统计分类》第十次修订版（ICD-10）的原位癌范畴（D00-D09）；(2)被保险人必须己经接受了针对原位癌病灶的手术治疗。癌前病变不在保障范围内。11.1.16植入心脏起搏器因严重心律失常而确实已经实施永久性心脏起搏器的植入手术。理赔时须提供完整病历资料及手术记录，诊断及治疗均须在本公司认可的医院专科医生认为是医疗必需的情况下进行。11.1.17轻度面部烧伤指面部烧伤程度为III度，且面部III度烧伤的面积达到面部表面积的30%或者30%以上，但未达到面部表面积的80%。11.1.18面部重建手术因疾病或意外伤害导致面部毁容，确实进行整形或者重建手术（颈部以上的面部构造不完整、缺失或者受损而对其形态及外观进行修复或者重建），同时必须由专科医生认为该面部毁容是需要接受住院治疗，及其后接受该手术，而对该面部毁容所进行的治疗亦是医疗所需。因纯粹整容原因、独立的牙齿修复、独立的鼻骨骨折或者独立的皮肤伤口所进行的手术均不在保障范围内。因“轻度面部烧伤”而进行的“面部重建手术”不在保障范围内。11.1.19因肾上腺皮脂腺因肾上腺皮质腺瘤所导致的醛固酮分泌过多而产生的继发性恶瘤切除肾上腺性高血压而实际接受了肾上腺切除术治疗。诊断及治疗均须在本公司认可的医院专科医生认为是医疗必需的情况下进行。11.1.20微创颅脑手术因疾病被保险人确已实施全麻下的颅骨钻孔手术或者经鼻蝶窦入路手术。因外伤而实施的脑外科手术不在保障范围内。本公司仅对“脑垂体瘤、脑囊肿、颅内血管性疾病”和“微创颅脑手11.1.21特定的系统性红指诊断为系统性红斑狼疮，且满足下列全部条件，并且未达到“系斑狼疮统性红斑狼疮——（并发）III型或以上狼疮性肾炎”或“严重慢性肾衰竭”的给付标准：(1)在下列五项情况中出现最少两项：a.关节炎：非磨损性关节炎，需涉及两个或两个以上关节；b.浆膜炎：胸膜炎或心包炎；c.肾病：24小时尿蛋白定量达到0.5克，或尿液检查出现细胞管型；d.血液学异常：溶血性贫血，白细胞减少，或血小板减少；e.抗核抗体阳性，抗dsDNA阳性，或抗Smith抗体阳性。(2)系统性红斑狼疮的诊断必须由医院的风湿科或免疫系统专科医生确定。本公司仅对“特定的系统性红斑狼疮”和“慢性肾功能衰竭”两项中的其中一项承担保险责任，给付其中一项保险金后，对另一项轻11.1.22视力严重受损指因疾病或者意外伤害导致双眼视力永久不可逆性丧失，且未达到“双目失明”的给付标准，但满足下列条件之一：(1)双眼中较好眼矫正视力低于0.1（采用国际标准视力表，如果使用其他视力表应进行换算）；(2)双眼中较好眼视野半径小于20度。被保险人申请理赔时年龄必须在三周岁以上，且应提供理赔当时的视力丧失诊断及检查证据。本公司仅对“角膜移植”、“单目失明”和“视力严重受损”三项中的11.1.23慢性肝功能衰竭指因慢性肝脏疾病导致肝功能衰竭，且未达到“严重慢性肝衰竭”的给付标准。须满足下列任意三个条件：(1)持续性黄疸；因酗酒或药物滥用导致的肝功能衰竭不在保障范围内。本公司仅对“病毒性肝炎导致的肝硬化”和“慢性肝功能衰竭”两项11.1.24轻度肠道并发症严重肠道疾病或外伤导致小肠损害并发症，但未达到“严重肠道疾病并发症”的给付标准。须满足以下所有条件：(1)至少切除了二分之一小肠；(2)完全肠外营养支持二个月以上。11.1.25慢性肾功能衰竭指被保险人因双肾功能显著降低，达到慢性不可逆性损伤，诊断必须满足以下所有标准：(1)肾小球滤过率（GFR）＜25ml/min或肌酐清除率（Ccr）＜25ml/min；(2)血肌酐（Scr）＞5mg/dl或＞442μmol/L；',\n",
       " '问题': '因肾上腺皮质腺瘤导致的继发性高血压的治疗条件是什么？',\n",
       " '答案': '因肾上腺皮质腺瘤所导致的醛固酮分泌过多而产生的继发性高血压而实际接受了肾上腺切除术治疗。诊断及治疗均须在本公司认可的医院专科医生认为是医疗必需的情况下进行。',\n",
       " 'prompt': '\\n保险条款: \"\"\"血液培养测试结果为阳性，证实存在感染性微生物。 本公司仅对“轻度感染性心内膜炎”和“心脏瓣膜介入手术”两项中的其中一项承担保险责任，给付其中一项保险金后，对另一项轻度疾病保险责任同时终止。11.1.11角膜移植指为增进视力或治疗某些角膜疾患，已经实施了异体的角膜移植手术。此手术必须在本公司认可的医院专科医生认为是医疗必需的情况下进行。本公司仅对“角膜移植”、“单目失明”和“视力严重受损”三项中的其中一项承担保险责任，给付其中一项保险金后，对其他两项轻度疾病保险责任同时终止。11.1.12单目失明指因疾病或意外伤害导致单眼视力永久不可逆性丧失，但未达到“双目失明”的给付标准，但患眼须满足下列至少一项条件：(1)眼球缺失或摘除；(2)矫正视力低于0.02（采用国际标准视力表，如果使用其它视力表应进行换算）；被保险人申请理赔时年龄必须在三周岁以上，且除眼球缺失或摘除情形外，应提供理赔当时的视力丧失诊断及检查证据。本公司仅对“角膜移植”、“单目失明”和“视力严重受损”三项中的11.1.13严重甲型及乙型被保险人必须罹患严重甲型血友病（缺乏VIII凝血因子）或严重血友病乙型血友病（缺乏IX凝血因子），且凝血因子VIII或凝血因子IX的活性水平少于百分之一。诊断必须由本公司认可的医院血液病专科医生确认。本公司承担本项疾病责任不受本合同责任免除中“遗传性疾病、先天性畸形、变形或染色体异常”的限制。11.1.14主动脉内手术（非为了治疗主动脉疾病实际实施了经皮经导管进行的主动脉内手开胸或开腹手术）术，且未达到“主动脉手术”的给付标准。主动脉指升主动脉、主动脉弓和降主动脉（含胸主动脉和腹主动脉），不包括升主动脉、主动脉弓和降主动脉的分支血管。11.1.15原位癌指恶性细胞局限于上皮内尚未穿破基底膜浸润周围正常组织的癌细胞新生物，且须满足以下所有条件：(1)必须经对固定活组织的组织病理学检查明确诊断，属于世界卫生组织《疾病和有关健康问题的国际统计分类》第十次修订版（ICD-10）的原位癌范畴（D00-D09）；(2)被保险人必须己经接受了针对原位癌病灶的手术治疗。癌前病变不在保障范围内。11.1.16植入心脏起搏器因严重心律失常而确实已经实施永久性心脏起搏器的植入手术。理赔时须提供完整病历资料及手术记录，诊断及治疗均须在本公司认可的医院专科医生认为是医疗必需的情况下进行。11.1.17轻度面部烧伤指面部烧伤程度为III度，且面部III度烧伤的面积达到面部表面积的30%或者30%以上，但未达到面部表面积的80%。11.1.18面部重建手术因疾病或意外伤害导致面部毁容，确实进行整形或者重建手术（颈部以上的面部构造不完整、缺失或者受损而对其形态及外观进行修复或者重建），同时必须由专科医生认为该面部毁容是需要接受住院治疗，及其后接受该手术，而对该面部毁容所进行的治疗亦是医疗所需。因纯粹整容原因、独立的牙齿修复、独立的鼻骨骨折或者独立的皮肤伤口所进行的手术均不在保障范围内。因“轻度面部烧伤”而进行的“面部重建手术”不在保障范围内。11.1.19因肾上腺皮脂腺因肾上腺皮质腺瘤所导致的醛固酮分泌过多而产生的继发性恶瘤切除肾上腺性高血压而实际接受了肾上腺切除术治疗。诊断及治疗均须在本公司认可的医院专科医生认为是医疗必需的情况下进行。11.1.20微创颅脑手术因疾病被保险人确已实施全麻下的颅骨钻孔手术或者经鼻蝶窦入路手术。因外伤而实施的脑外科手术不在保障范围内。本公司仅对“脑垂体瘤、脑囊肿、颅内血管性疾病”和“微创颅脑手11.1.21特定的系统性红指诊断为系统性红斑狼疮，且满足下列全部条件，并且未达到“系斑狼疮统性红斑狼疮——（并发）III型或以上狼疮性肾炎”或“严重慢性肾衰竭”的给付标准：(1)在下列五项情况中出现最少两项：a.关节炎：非磨损性关节炎，需涉及两个或两个以上关节；b.浆膜炎：胸膜炎或心包炎；c.肾病：24小时尿蛋白定量达到0.5克，或尿液检查出现细胞管型；d.血液学异常：溶血性贫血，白细胞减少，或血小板减少；e.抗核抗体阳性，抗dsDNA阳性，或抗Smith抗体阳性。(2)系统性红斑狼疮的诊断必须由医院的风湿科或免疫系统专科医生确定。本公司仅对“特定的系统性红斑狼疮”和“慢性肾功能衰竭”两项中的其中一项承担保险责任，给付其中一项保险金后，对另一项轻11.1.22视力严重受损指因疾病或者意外伤害导致双眼视力永久不可逆性丧失，且未达到“双目失明”的给付标准，但满足下列条件之一：(1)双眼中较好眼矫正视力低于0.1（采用国际标准视力表，如果使用其他视力表应进行换算）；(2)双眼中较好眼视野半径小于20度。被保险人申请理赔时年龄必须在三周岁以上，且应提供理赔当时的视力丧失诊断及检查证据。本公司仅对“角膜移植”、“单目失明”和“视力严重受损”三项中的11.1.23慢性肝功能衰竭指因慢性肝脏疾病导致肝功能衰竭，且未达到“严重慢性肝衰竭”的给付标准。须满足下列任意三个条件：(1)持续性黄疸；因酗酒或药物滥用导致的肝功能衰竭不在保障范围内。本公司仅对“病毒性肝炎导致的肝硬化”和“慢性肝功能衰竭”两项11.1.24轻度肠道并发症严重肠道疾病或外伤导致小肠损害并发症，但未达到“严重肠道疾病并发症”的给付标准。须满足以下所有条件：(1)至少切除了二分之一小肠；(2)完全肠外营养支持二个月以上。11.1.25慢性肾功能衰竭指被保险人因双肾功能显著降低，达到慢性不可逆性损伤，诊断必须满足以下所有标准：(1)肾小球滤过率（GFR）＜25ml/min或肌酐清除率（Ccr）＜25ml/min；(2)血肌酐（Scr）＞5mg/dl或＞442μmol/L；\"\"\"\\n用户问题：\"\"\"因肾上腺皮质腺瘤导致的继发性高血压的治疗条件是什么？\"\"\"\\n回答规则：\"\"\"仅使用保险条款中的语句回答问题\"\"\"\\n回答: \\n',\n",
       " 'answer': '因肾上腺皮质腺瘤所导致的醛固酮分泌过多而产生的继发性恶瘤切除肾上腺性高血压而实际接受了肾上腺切除术治疗。诊断及治疗均须在本公司认可的医院专科医生认为是医疗必需的情况下进行。'}"
      ]
     },
     "execution_count": 46,
     "metadata": {},
     "output_type": "execute_result"
    }
   ],
   "source": [
    "data[80]"
   ]
  },
  {
   "cell_type": "code",
   "execution_count": 6,
   "id": "021dc6ec-d244-4f85-94f7-8ceda1352c33",
   "metadata": {
    "execution": {
     "iopub.execute_input": "2024-07-06T07:20:18.471438Z",
     "iopub.status.busy": "2024-07-06T07:20:18.471118Z",
     "iopub.status.idle": "2024-07-06T07:20:18.475345Z",
     "shell.execute_reply": "2024-07-06T07:20:18.474897Z",
     "shell.execute_reply.started": "2024-07-06T07:20:18.471419Z"
    },
    "tags": []
   },
   "outputs": [],
   "source": [
    "#!pip install dashscope\n",
    "import dashscope\n",
    "from http import HTTPStatus\n",
    "dashscope.api_key = config['qwen_key'] \n",
    "\n",
    "def get_embedding(embed_text):\n",
    "    \n",
    "    respond = ''\n",
    "    try:\n",
    "        respond = dashscope.TextEmbedding.call(\n",
    "            model = dashscope.TextEmbedding.Models.text_embedding_v2,\n",
    "            input = embed_text)\n",
    "        \n",
    "        embedding = respond.output['embeddings'][0]['embedding']\n",
    "        \n",
    "    except Exception as e:\n",
    "        # Handle any other unexpected exceptions\n",
    "        print(f\"An unexpected error occurred: {e}\")\n",
    "    \n",
    "    return embedding"
   ]
  },
  {
   "cell_type": "code",
   "execution_count": 18,
   "id": "82df5b50-115b-4caf-b26e-29f4db399900",
   "metadata": {
    "ExecutionIndicator": {
     "show": true
    },
    "execution": {
     "iopub.execute_input": "2024-07-06T07:36:29.823212Z",
     "iopub.status.busy": "2024-07-06T07:36:29.822854Z",
     "iopub.status.idle": "2024-07-06T07:40:33.116296Z",
     "shell.execute_reply": "2024-07-06T07:40:33.115574Z",
     "shell.execute_reply.started": "2024-07-06T07:36:29.823193Z"
    },
    "tags": []
   },
   "outputs": [
    {
     "name": "stdout",
     "output_type": "stream",
     "text": [
      "Looking in indexes: https://mirrors.cloud.aliyuncs.com/pypi/simple\n",
      "Requirement already satisfied: tqdm in /usr/local/lib/python3.10/site-packages (4.66.4)\n",
      "\u001b[33mDEPRECATION: pytorch-lightning 1.7.7 has a non-standard dependency specifier torch>=1.9.*. pip 24.1 will enforce this behaviour change. A possible replacement is to upgrade to a newer version of pytorch-lightning or contact the author to suggest that they release a version with a conforming dependency specifiers. Discussion can be found at https://github.com/pypa/pip/issues/12063\u001b[0m\u001b[33m\n",
      "\u001b[0m\u001b[33mWARNING: Running pip as the 'root' user can result in broken permissions and conflicting behaviour with the system package manager. It is recommended to use a virtual environment instead: https://pip.pypa.io/warnings/venv\u001b[0m\u001b[33m\n",
      "\u001b[0m\n",
      "\u001b[1m[\u001b[0m\u001b[34;49mnotice\u001b[0m\u001b[1;39;49m]\u001b[0m\u001b[39;49m A new release of pip is available: \u001b[0m\u001b[31;49m24.0\u001b[0m\u001b[39;49m -> \u001b[0m\u001b[32;49m24.1.1\u001b[0m\n",
      "\u001b[1m[\u001b[0m\u001b[34;49mnotice\u001b[0m\u001b[1;39;49m]\u001b[0m\u001b[39;49m To update, run: \u001b[0m\u001b[32;49mpip install --upgrade pip\u001b[0m\n"
     ]
    },
    {
     "name": "stderr",
     "output_type": "stream",
     "text": [
      "100%|██████████| 1000/1000 [03:59<00:00,  4.17it/s]\n"
     ]
    }
   ],
   "source": [
    "!pip install tqdm\n",
    "from tqdm import tqdm\n",
    "for data in tqdm(dev_data):\n",
    "    embed_text = data['答案']\n",
    "    data['ans_embedding'] = get_embedding(embed_text)"
   ]
  },
  {
   "cell_type": "code",
   "execution_count": 21,
   "id": "7ddae650-cca2-47a5-aa76-b1270673706a",
   "metadata": {
    "ExecutionIndicator": {
     "show": true
    },
    "execution": {
     "iopub.execute_input": "2024-07-06T07:41:32.135238Z",
     "iopub.status.busy": "2024-07-06T07:41:32.134716Z",
     "iopub.status.idle": "2024-07-06T07:41:34.293279Z",
     "shell.execute_reply": "2024-07-06T07:41:34.292687Z",
     "shell.execute_reply.started": "2024-07-06T07:41:32.135199Z"
    },
    "tags": []
   },
   "outputs": [],
   "source": [
    " write_jsonl(dev_data,\"dev_with_embedding\")"
   ]
  },
  {
   "cell_type": "code",
   "execution_count": 17,
   "id": "256f672e-2fbf-46c1-9f9f-ef8aab252746",
   "metadata": {
    "ExecutionIndicator": {
     "show": true
    },
    "execution": {
     "iopub.execute_input": "2024-07-06T07:34:05.556864Z",
     "iopub.status.busy": "2024-07-06T07:34:05.556511Z",
     "iopub.status.idle": "2024-07-06T07:34:05.991375Z",
     "shell.execute_reply": "2024-07-06T07:34:05.990867Z",
     "shell.execute_reply.started": "2024-07-06T07:34:05.556844Z"
    },
    "tags": []
   },
   "outputs": [
    {
     "name": "stdout",
     "output_type": "stream",
     "text": [
      "0.9570271829028671\n"
     ]
    }
   ],
   "source": [
    "text1 = \"1000万航空意外险具有一年的默认保险期间\"\n",
    "text2 = \"1000万航空意外险默认保险期间一年。\"\n",
    "vec1 = get_embedding(text1)\n",
    "vec2 = get_embedding(text2)\n",
    "similarity = cosine_similarity(vec1, vec2)\n",
    "print(similarity)"
   ]
  },
  {
   "cell_type": "markdown",
   "id": "86fc179f-60b2-48ea-9a3b-2afd8eecf130",
   "metadata": {},
   "source": [
    "### 参考资料"
   ]
  },
  {
   "cell_type": "markdown",
   "id": "3f0de316-f32f-45dc-9fe5-61129933bf24",
   "metadata": {},
   "source": [
    "https://dashscope.console.aliyun.com/billing"
   ]
  }
 ],
 "metadata": {
  "kernelspec": {
   "display_name": "Python 3 (ipykernel)",
   "language": "python",
   "name": "python3"
  },
  "language_info": {
   "codemirror_mode": {
    "name": "ipython",
    "version": 3
   },
   "file_extension": ".py",
   "mimetype": "text/x-python",
   "name": "python",
   "nbconvert_exporter": "python",
   "pygments_lexer": "ipython3",
   "version": "3.10.14"
  }
 },
 "nbformat": 4,
 "nbformat_minor": 5
}
