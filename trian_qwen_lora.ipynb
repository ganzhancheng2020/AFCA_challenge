{
 "cells": [
  {
   "cell_type": "code",
   "execution_count": 1,
   "id": "cff0a314-4ff9-4a8d-8f5a-ba2ef77dab65",
   "metadata": {
    "ExecutionIndicator": {
     "show": true
    },
    "execution": {
     "iopub.execute_input": "2024-07-11T14:26:11.037580Z",
     "iopub.status.busy": "2024-07-11T14:26:11.037290Z",
     "iopub.status.idle": "2024-07-11T14:26:14.720322Z",
     "shell.execute_reply": "2024-07-11T14:26:14.719704Z",
     "shell.execute_reply.started": "2024-07-11T14:26:11.037560Z"
    },
    "tags": []
   },
   "outputs": [
    {
     "name": "stderr",
     "output_type": "stream",
     "text": [
      "/usr/local/lib/python3.10/site-packages/tqdm/auto.py:21: TqdmWarning: IProgress not found. Please update jupyter and ipywidgets. See https://ipywidgets.readthedocs.io/en/stable/user_install.html\n",
      "  from .autonotebook import tqdm as notebook_tqdm\n"
     ]
    }
   ],
   "source": [
    "from datasets import Dataset\n",
    "from ReadLoad import read_json\n",
    "from prompt_template import get_input_template, get_sys_prompt\n",
    "import pandas as pd\n",
    "from transformers import AutoTokenizer, AutoModelForCausalLM, DataCollatorForSeq2Seq, TrainingArguments, Trainer, GenerationConfig"
   ]
  },
  {
   "cell_type": "code",
   "execution_count": 5,
   "id": "d92dc707-0103-45f4-88e0-7bad4c023d97",
   "metadata": {
    "ExecutionIndicator": {
     "show": false
    },
    "execution": {
     "iopub.execute_input": "2024-07-11T14:27:32.011283Z",
     "iopub.status.busy": "2024-07-11T14:27:32.010939Z",
     "iopub.status.idle": "2024-07-11T14:27:32.022943Z",
     "shell.execute_reply": "2024-07-11T14:27:32.022352Z",
     "shell.execute_reply.started": "2024-07-11T14:27:32.011262Z"
    },
    "tags": []
   },
   "outputs": [
    {
     "data": {
      "text/plain": [
       "{'Instraction': '你是一个基于保险条款的问答系统，对用户提出的有关保险条款的问题给予准确、清晰的回答。',\n",
       " 'Input': '产品名称：\"\"\"优医保·高端门诊住院医疗\"\"\"\\n保险条款：\"\"\"【中国境内】 指除香港特别行政区、澳门特别行政区以及台湾地区之外的中华人民共和国领土。\"\"\"\\n用户问题：\"\"\"【中国境内】在优医保·高端门诊住院医疗保险产品中指的是哪些地区？\"\"\"',\n",
       " 'Ouput': '在优医保·高端门诊住院医疗保险产品中，【中国境内】指的是除香港特别行政区、澳门特别行政区以及台湾地区之外的中华人民共和国领土。'}"
      ]
     },
     "execution_count": 5,
     "metadata": {},
     "output_type": "execute_result"
    }
   ],
   "source": [
    "data = read_json('dataset/train.json')\n",
    "train_data = [{\n",
    "    'Instraction': '对用户提出的有关保险条款的问题给予准确、清晰的回答。',\n",
    "    'Input': get_input_template(d['产品名'], d['条款'], d['问题']),\n",
    "    'Ouput': d['答案']\n",
    "} for d in data]\n",
    "df = pd.DataFrame(train_data)\n",
    "ds = Dataset.from_pandas(df)"
   ]
  },
  {
   "cell_type": "code",
   "execution_count": 8,
   "id": "0eaea0e9-2d51-4b84-bf1f-33ce0b5c1c3a",
   "metadata": {
    "ExecutionIndicator": {
     "show": false
    },
    "execution": {
     "iopub.execute_input": "2024-07-11T14:30:34.950226Z",
     "iopub.status.busy": "2024-07-11T14:30:34.949883Z",
     "iopub.status.idle": "2024-07-11T14:30:34.953919Z",
     "shell.execute_reply": "2024-07-11T14:30:34.953497Z",
     "shell.execute_reply.started": "2024-07-11T14:30:34.950206Z"
    },
    "tags": []
   },
   "outputs": [
    {
     "data": {
      "text/plain": [
       "{'Instraction': ['你是一个基于保险条款的问答系统，对用户提出的有关保险条款的问题给予准确、清晰的回答。',\n",
       "  '你是一个基于保险条款的问答系统，对用户提出的有关保险条款的问题给予准确、清晰的回答。',\n",
       "  '你是一个基于保险条款的问答系统，对用户提出的有关保险条款的问题给予准确、清晰的回答。'],\n",
       " 'Input': ['产品名称：\"\"\"优医保·高端门诊住院医疗\"\"\"\\n保险条款：\"\"\"【中国境内】 指除香港特别行政区、澳门特别行政区以及台湾地区之外的中华人民共和国领土。\"\"\"\\n用户问题：\"\"\"【中国境内】在优医保·高端门诊住院医疗保险产品中指的是哪些地区？\"\"\"',\n",
       "  '产品名称：\"\"\"同佑e生(臻享版)终身重疾险\"\"\"\\n保险条款：\"\"\"中度再生障碍性贫血 指因骨髓造血功能慢性持续性衰竭导致的贫血、中性粒细胞减少及血小板减少。须满足下列至少一项条件,但未达到本合同所指重大疾病“重型再生障碍性贫血”的给付标准：1.骨髓刺激疗法至少一个月；2.免疫抑制剂治疗至少一个月。\"\"\"\\n用户问题：\"\"\"中度再生障碍性贫血会导致哪些症状？\"\"\"',\n",
       "  '产品名称：\"\"\"众民保·百万医疗（免健告）\"\"\"\\n保险条款：\"\"\"认可的互联网药店 经保险人审核认可，取得互联网药品信息服务资格证书，为被保险人提供购药或者配送服务的药店，具体名单在保险人官方网站或销售平台公示。\"\"\"\\n用户问题：\"\"\"互联网药店需要取得哪种证书才能被保险公司认可？\"\"\"'],\n",
       " 'Ouput': ['在优医保·高端门诊住院医疗保险产品中，【中国境内】指的是除香港特别行政区、澳门特别行政区以及台湾地区之外的中华人民共和国领土。',\n",
       "  '中度再生障碍性贫血会导致贫血、中性粒细胞减少及血小板减少。',\n",
       "  '互联网药店需要取得互联网药品信息服务资格证书才能被保险公司认可。']}"
      ]
     },
     "execution_count": 8,
     "metadata": {},
     "output_type": "execute_result"
    }
   ],
   "source": [
    "tokenizer = AutoTokenizer.from_pretrained('/root/autodl-tmp/qwen/Qwen2-7B-Instruct', use_fast=False, trust_remote_code=True)\n",
    "tokenizer"
   ]
  },
  {
   "cell_type": "code",
   "execution_count": null,
   "id": "9d133a50-1b96-43bb-836f-565f4a8c1124",
   "metadata": {},
   "outputs": [],
   "source": [
    "def process_func(example):\n",
    "    MAX_LENGTH = 384    # Llama分词器会将一个中文字切分为多个token，因此需要放开一些最大长度，保证数据的完整性\n",
    "    input_ids, attention_mask, labels = [], [], []\n",
    "    instruction = tokenizer(f\"<|im_start|>system\\n你是一个基于保险条款的问答系统<|im_end|>\\n<|im_start|>user\\n{example['instruction'] + example['input']}<|im_end|>\\n<|im_start|>assistant\\n\", add_special_tokens=False)  # add_special_tokens 不在开头加 special_tokens\n",
    "    response = tokenizer(f\"{example['output']}\", add_special_tokens=False)\n",
    "    input_ids = instruction[\"input_ids\"] + response[\"input_ids\"] + [tokenizer.pad_token_id]\n",
    "    attention_mask = instruction[\"attention_mask\"] + response[\"attention_mask\"] + [1]  # 因为eos token咱们也是要关注的所以 补充为1\n",
    "    labels = [-100] * len(instruction[\"input_ids\"]) + response[\"input_ids\"] + [tokenizer.pad_token_id]  \n",
    "    if len(input_ids) > MAX_LENGTH:  # 做一个截断\n",
    "        input_ids = input_ids[:MAX_LENGTH]\n",
    "        attention_mask = attention_mask[:MAX_LENGTH]\n",
    "        labels = labels[:MAX_LENGTH]\n",
    "    return {\n",
    "        \"input_ids\": input_ids,\n",
    "        \"attention_mask\": attention_mask,\n",
    "        \"labels\": labels\n",
    "    }\n",
    "\n",
    "tokenized_id = ds.map(process_func, remove_columns=ds.column_names)\n",
    "tokenized_id"
   ]
  },
  {
   "cell_type": "code",
   "execution_count": null,
   "id": "2e410277-fbce-4b73-90b4-3855738b6377",
   "metadata": {},
   "outputs": [],
   "source": [
    "import torch\n",
    "\n",
    "model = AutoModelForCausalLM.from_pretrained('/root/autodl-tmp/qwen/Qwen2-7B-Instruct', device_map=\"auto\",torch_dtype=torch.bfloat16)\n",
    "model.enable_input_require_grads() # 开启梯度检查点时，要执行该方法"
   ]
  },
  {
   "cell_type": "code",
   "execution_count": null,
   "id": "a6b64bd8-b433-46cb-884b-afe6d5099590",
   "metadata": {},
   "outputs": [],
   "source": [
    "from peft import LoraConfig, TaskType, get_peft_model\n",
    "\n",
    "config = LoraConfig(\n",
    "    task_type=TaskType.CAUSAL_LM, \n",
    "    #target_modules=[\"q_proj\", \"k_proj\", \"v_proj\", \"o_proj\", \"gate_proj\", \"up_proj\", \"down_proj\"],\n",
    "    inference_mode=False, # 训练模式\n",
    "    r=8, # Lora 秩\n",
    "    lora_alpha=32, # Lora alaph，具体作用参见 Lora 原理\n",
    "    lora_dropout=0.1# Dropout 比例\n",
    ")\n",
    "model = get_peft_model(model, config)\n",
    "model.print_trainable_parameters()"
   ]
  },
  {
   "cell_type": "code",
   "execution_count": null,
   "id": "94d9ad29-2447-4900-ade1-16865712c463",
   "metadata": {},
   "outputs": [],
   "source": [
    "args = TrainingArguments(\n",
    "    output_dir=\"./output/Qwen2_instruct_lora\",\n",
    "    per_device_train_batch_size=4,\n",
    "    gradient_accumulation_steps=4,\n",
    "    logging_steps=10,\n",
    "    num_train_epochs=3,\n",
    "    save_steps=100, # 为了快速演示，这里设置10，建议你设置成100\n",
    "    learning_rate=1e-4,\n",
    "    save_on_each_node=True,\n",
    "    gradient_checkpointing=True\n",
    ")"
   ]
  },
  {
   "cell_type": "code",
   "execution_count": null,
   "id": "d9fbfbc1-0b42-4f5a-9948-4c56fb2d6bcd",
   "metadata": {},
   "outputs": [],
   "source": [
    "trainer = Trainer(\n",
    "    model=model,\n",
    "    args=args,\n",
    "    train_dataset=tokenized_id,\n",
    "    data_collator=DataCollatorForSeq2Seq(tokenizer=tokenizer, padding=True),\n",
    ")\n",
    "trainer.train()"
   ]
  }
 ],
 "metadata": {
  "kernelspec": {
   "display_name": "Python 3 (ipykernel)",
   "language": "python",
   "name": "python3"
  },
  "language_info": {
   "codemirror_mode": {
    "name": "ipython",
    "version": 3
   },
   "file_extension": ".py",
   "mimetype": "text/x-python",
   "name": "python",
   "nbconvert_exporter": "python",
   "pygments_lexer": "ipython3",
   "version": "3.10.14"
  }
 },
 "nbformat": 4,
 "nbformat_minor": 5
}
