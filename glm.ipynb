{
 "cells": [
  {
   "cell_type": "code",
   "execution_count": 2,
   "id": "81872a5c-703f-433c-88fd-9f5b3940974d",
   "metadata": {
    "ExecutionIndicator": {
     "show": false
    },
    "execution": {
     "iopub.execute_input": "2024-07-06T09:46:30.894625Z",
     "iopub.status.busy": "2024-07-06T09:46:30.894265Z",
     "iopub.status.idle": "2024-07-06T09:46:34.229442Z",
     "shell.execute_reply": "2024-07-06T09:46:34.228450Z",
     "shell.execute_reply.started": "2024-07-06T09:46:30.894604Z"
    },
    "tags": []
   },
   "outputs": [
    {
     "name": "stderr",
     "output_type": "stream",
     "text": [
      "2024-07-06 17:46:32,478 - modelscope - INFO - PyTorch version 2.3.0+cpu Found.\n",
      "2024-07-06 17:46:32,480 - modelscope - INFO - Loading ast index from /mnt/workspace/.cache/modelscope/ast_indexer\n",
      "2024-07-06 17:46:32,480 - modelscope - INFO - No valid ast index found from /mnt/workspace/.cache/modelscope/ast_indexer, generating ast index from prebuilt!\n",
      "2024-07-06 17:46:32,537 - modelscope - INFO - Loading done! Current index file version is 1.15.0, with md5 eccbdad6389abeac8790b84f257211fb and a total number of 980 components indexed\n",
      "/usr/local/lib/python3.10/site-packages/tqdm/auto.py:21: TqdmWarning: IProgress not found. Please update jupyter and ipywidgets. See https://ipywidgets.readthedocs.io/en/stable/user_install.html\n",
      "  from .autonotebook import tqdm as notebook_tqdm\n",
      "/usr/local/lib/python3.10/site-packages/beartype/_util/error/utilerrwarn.py:67: BeartypeModuleUnimportableWarning: Ignoring module \"onnx\" importation exception:\n",
      "    ImportError: cannot import name 'builder' from 'google.protobuf.internal' (/usr/local/lib/python3.10/site-packages/google/protobuf/internal/__init__.py)\n",
      "  warn(message, cls)\n",
      "/usr/local/lib/python3.10/site-packages/beartype/_util/error/utilerrwarn.py:67: BeartypeModuleUnimportableWarning: Ignoring module \"onnx\" importation exception:\n",
      "    ImportError: cannot import name 'builder' from 'google.protobuf.internal' (/usr/local/lib/python3.10/site-packages/google/protobuf/internal/__init__.py)\n",
      "  warn(message, cls)\n"
     ]
    },
    {
     "ename": "HTTPError",
     "evalue": "400 Client Error: Bad Request, Request id: 34f1beba1da74fb4914b54cb34cbb543 for url: https://www.modelscope.cn/api/v1/login, body: b'{\"AccessToken\": null}'",
     "output_type": "error",
     "traceback": [
      "\u001b[0;31m---------------------------------------------------------------------------\u001b[0m",
      "\u001b[0;31mHTTPError\u001b[0m                                 Traceback (most recent call last)",
      "Cell \u001b[0;32mIn[2], line 14\u001b[0m\n\u001b[1;32m     12\u001b[0m login_token \u001b[38;5;241m=\u001b[39m os\u001b[38;5;241m.\u001b[39mgetenv(\u001b[38;5;124m\"\u001b[39m\u001b[38;5;124mMS_API_KEY\u001b[39m\u001b[38;5;124m\"\u001b[39m)\n\u001b[1;32m     13\u001b[0m api \u001b[38;5;241m=\u001b[39m HubApi()\n\u001b[0;32m---> 14\u001b[0m \u001b[43mapi\u001b[49m\u001b[38;5;241;43m.\u001b[39;49m\u001b[43mlogin\u001b[49m\u001b[43m(\u001b[49m\u001b[43mlogin_token\u001b[49m\u001b[43m)\u001b[49m\n\u001b[1;32m     16\u001b[0m os\u001b[38;5;241m.\u001b[39msystem(\u001b[38;5;124m\"\u001b[39m\u001b[38;5;124mpip uninstall -y tensorflow tensorflow-estimator tensorflow-io-gcs-filesystem\u001b[39m\u001b[38;5;124m\"\u001b[39m)\n\u001b[1;32m     17\u001b[0m os\u001b[38;5;241m.\u001b[39menviron[\u001b[38;5;124m\"\u001b[39m\u001b[38;5;124mLANG\u001b[39m\u001b[38;5;124m\"\u001b[39m] \u001b[38;5;241m=\u001b[39m \u001b[38;5;124m\"\u001b[39m\u001b[38;5;124mC\u001b[39m\u001b[38;5;124m\"\u001b[39m\n",
      "File \u001b[0;32m/usr/local/lib/python3.10/site-packages/modelscope/hub/api.py:114\u001b[0m, in \u001b[0;36mHubApi.login\u001b[0;34m(self, access_token)\u001b[0m\n\u001b[1;32m    109\u001b[0m path \u001b[38;5;241m=\u001b[39m \u001b[38;5;124mf\u001b[39m\u001b[38;5;124m'\u001b[39m\u001b[38;5;132;01m{\u001b[39;00m\u001b[38;5;28mself\u001b[39m\u001b[38;5;241m.\u001b[39mendpoint\u001b[38;5;132;01m}\u001b[39;00m\u001b[38;5;124m/api/v1/login\u001b[39m\u001b[38;5;124m'\u001b[39m\n\u001b[1;32m    110\u001b[0m r \u001b[38;5;241m=\u001b[39m \u001b[38;5;28mself\u001b[39m\u001b[38;5;241m.\u001b[39msession\u001b[38;5;241m.\u001b[39mpost(\n\u001b[1;32m    111\u001b[0m     path,\n\u001b[1;32m    112\u001b[0m     json\u001b[38;5;241m=\u001b[39m{\u001b[38;5;124m'\u001b[39m\u001b[38;5;124mAccessToken\u001b[39m\u001b[38;5;124m'\u001b[39m: access_token},\n\u001b[1;32m    113\u001b[0m     headers\u001b[38;5;241m=\u001b[39m\u001b[38;5;28mself\u001b[39m\u001b[38;5;241m.\u001b[39mbuilder_headers(\u001b[38;5;28mself\u001b[39m\u001b[38;5;241m.\u001b[39mheaders))\n\u001b[0;32m--> 114\u001b[0m \u001b[43mraise_for_http_status\u001b[49m\u001b[43m(\u001b[49m\u001b[43mr\u001b[49m\u001b[43m)\u001b[49m\n\u001b[1;32m    115\u001b[0m d \u001b[38;5;241m=\u001b[39m r\u001b[38;5;241m.\u001b[39mjson()\n\u001b[1;32m    116\u001b[0m raise_on_error(d)\n",
      "File \u001b[0;32m/usr/local/lib/python3.10/site-packages/modelscope/hub/errors.py:198\u001b[0m, in \u001b[0;36mraise_for_http_status\u001b[0;34m(rsp)\u001b[0m\n\u001b[1;32m    196\u001b[0m \u001b[38;5;28;01mif\u001b[39;00m req\u001b[38;5;241m.\u001b[39mmethod \u001b[38;5;241m==\u001b[39m \u001b[38;5;124m'\u001b[39m\u001b[38;5;124mPOST\u001b[39m\u001b[38;5;124m'\u001b[39m:\n\u001b[1;32m    197\u001b[0m     http_error_msg \u001b[38;5;241m=\u001b[39m \u001b[38;5;124mu\u001b[39m\u001b[38;5;124m'\u001b[39m\u001b[38;5;132;01m%s\u001b[39;00m\u001b[38;5;124m, body: \u001b[39m\u001b[38;5;132;01m%s\u001b[39;00m\u001b[38;5;124m'\u001b[39m \u001b[38;5;241m%\u001b[39m (http_error_msg, req\u001b[38;5;241m.\u001b[39mbody)\n\u001b[0;32m--> 198\u001b[0m \u001b[38;5;28;01mraise\u001b[39;00m HTTPError(http_error_msg, response\u001b[38;5;241m=\u001b[39mrsp)\n",
      "\u001b[0;31mHTTPError\u001b[0m: 400 Client Error: Bad Request, Request id: 34f1beba1da74fb4914b54cb34cbb543 for url: https://www.modelscope.cn/api/v1/login, body: b'{\"AccessToken\": null}'"
     ]
    }
   ],
   "source": [
    "import os\n",
    "import copy\n",
    "import random\n",
    "import threading\n",
    "import subprocess\n",
    "from typing import List, Optional, Tuple, Dict\n",
    "\n",
    "from modelscope import HubApi\n",
    "from modelscope import snapshot_download\n",
    "\n",
    "\n",
    "login_token = os.getenv(\"d5e6cb23-5d77-4c01-9c03-e2bd162903aa\")\n",
    "api = HubApi()\n",
    "api.login(login_token)\n",
    "\n",
    "os.system(\"pip uninstall -y tensorflow tensorflow-estimator tensorflow-io-gcs-filesystem\")\n",
    "os.environ[\"LANG\"] = \"C\"\n",
    "os.environ[\"LC_ALL\"] = \"C\"\n",
    "\n",
    "from dashinfer.helper import EngineHelper, ConfigManager\n",
    "\n",
    "log_lock = threading.Lock()\n",
    "\n",
    "\n",
    "model_path = snapshot_download(\"dash-infer/glm-4-9b-chat-DI\")\n",
    "# model_path = \"/root/workspace/repository/chatglm4-9b-chat-DI\"\n",
    "\n",
    "config_file = model_path + \"/\" + \"di_config.json\"\n",
    "config = ConfigManager.get_config_from_json(config_file)\n",
    "config[\"model_path\"] = model_path\n",
    "\n",
    "engine_helper = EngineHelper(config)\n",
    "engine_helper.verbose = True\n",
    "engine_helper.init_tokenizer(model_path)\n",
    "\n",
    "engine_helper.init_engine()\n",
    "engine_max_batch = engine_helper.engine_config[\"engine_max_batch\"]\n"
   ]
  }
 ],
 "metadata": {
  "kernelspec": {
   "display_name": "Python 3 (ipykernel)",
   "language": "python",
   "name": "python3"
  },
  "language_info": {
   "codemirror_mode": {
    "name": "ipython",
    "version": 3
   },
   "file_extension": ".py",
   "mimetype": "text/x-python",
   "name": "python",
   "nbconvert_exporter": "python",
   "pygments_lexer": "ipython3",
   "version": "3.10.14"
  }
 },
 "nbformat": 4,
 "nbformat_minor": 5
}
