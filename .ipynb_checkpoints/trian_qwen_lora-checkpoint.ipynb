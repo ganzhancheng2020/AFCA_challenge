{
 "cells": [
  {
   "cell_type": "code",
   "execution_count": 1,
   "id": "cff0a314-4ff9-4a8d-8f5a-ba2ef77dab65",
   "metadata": {
    "ExecutionIndicator": {
     "show": true
    },
    "execution": {
     "iopub.execute_input": "2024-07-20T06:45:30.600212Z",
     "iopub.status.busy": "2024-07-20T06:45:30.599918Z",
     "iopub.status.idle": "2024-07-20T06:45:40.083763Z",
     "shell.execute_reply": "2024-07-20T06:45:40.083278Z",
     "shell.execute_reply.started": "2024-07-20T06:45:30.600182Z"
    },
    "tags": []
   },
   "outputs": [
    {
     "name": "stderr",
     "output_type": "stream",
     "text": [
      "2024-07-20 14:45:34.229458: I tensorflow/core/util/port.cc:153] oneDNN custom operations are on. You may see slightly different numerical results due to floating-point round-off errors from different computation orders. To turn them off, set the environment variable `TF_ENABLE_ONEDNN_OPTS=0`.\n",
      "2024-07-20 14:45:34.241982: E external/local_xla/xla/stream_executor/cuda/cuda_fft.cc:485] Unable to register cuFFT factory: Attempting to register factory for plugin cuFFT when one has already been registered\n",
      "2024-07-20 14:45:34.257052: E external/local_xla/xla/stream_executor/cuda/cuda_dnn.cc:8454] Unable to register cuDNN factory: Attempting to register factory for plugin cuDNN when one has already been registered\n",
      "2024-07-20 14:45:34.261491: E external/local_xla/xla/stream_executor/cuda/cuda_blas.cc:1452] Unable to register cuBLAS factory: Attempting to register factory for plugin cuBLAS when one has already been registered\n",
      "2024-07-20 14:45:34.272303: I tensorflow/core/platform/cpu_feature_guard.cc:210] This TensorFlow binary is optimized to use available CPU instructions in performance-critical operations.\n",
      "To enable the following instructions: AVX2 AVX512F AVX512_VNNI FMA, in other operations, rebuild TensorFlow with the appropriate compiler flags.\n",
      "2024-07-20 14:45:35.280243: W tensorflow/compiler/tf2tensorrt/utils/py_utils.cc:38] TF-TRT Warning: Could not find TensorRT\n",
      "/usr/local/lib/python3.10/site-packages/_distutils_hack/__init__.py:55: UserWarning: Reliance on distutils from stdlib is deprecated. Users must rely on setuptools to provide the distutils module. Avoid importing distutils or import setuptools first, and avoid setting SETUPTOOLS_USE_DISTUTILS=stdlib. Register concerns at https://github.com/pypa/setuptools/issues/new?template=distutils-deprecation.yml\n",
      "  warnings.warn(\n"
     ]
    }
   ],
   "source": [
    "from datasets import Dataset\n",
    "from ReadLoad import read_json\n",
    "from prompt_template import get_input_template, get_sys_prompt\n",
    "from eval_data import key_word_score\n",
    "import pandas as pd\n",
    "from transformers import AutoTokenizer, AutoModelForCausalLM, DataCollatorForSeq2Seq, TrainingArguments, Trainer, GenerationConfig\n",
    "from transformers import EarlyStoppingCallback"
   ]
  },
  {
   "cell_type": "code",
   "execution_count": 2,
   "id": "787529c7-899d-46c7-b89f-5918edfae708",
   "metadata": {
    "execution": {
     "iopub.execute_input": "2024-07-20T06:45:40.085164Z",
     "iopub.status.busy": "2024-07-20T06:45:40.084764Z",
     "iopub.status.idle": "2024-07-20T06:45:40.940764Z",
     "shell.execute_reply": "2024-07-20T06:45:40.939850Z",
     "shell.execute_reply.started": "2024-07-20T06:45:40.085145Z"
    },
    "tags": []
   },
   "outputs": [],
   "source": [
    "#模型下载\n",
    "from modelscope import snapshot_download\n",
    "model_dir = snapshot_download('qwen/Qwen2-7B-Instruct')"
   ]
  },
  {
   "cell_type": "code",
   "execution_count": 3,
   "id": "34a10829-45dc-4b56-af81-b676697424e1",
   "metadata": {
    "ExecutionIndicator": {
     "show": true
    },
    "execution": {
     "iopub.execute_input": "2024-07-20T06:45:40.942193Z",
     "iopub.status.busy": "2024-07-20T06:45:40.941858Z",
     "iopub.status.idle": "2024-07-20T06:45:40.946521Z",
     "shell.execute_reply": "2024-07-20T06:45:40.945943Z",
     "shell.execute_reply.started": "2024-07-20T06:45:40.942164Z"
    },
    "tags": []
   },
   "outputs": [],
   "source": [
    "def processing(data):\n",
    "    data = [{\n",
    "        'instruction': '对用户提出的有关保险条款的问题给予准确、清晰的回答。',\n",
    "        'input': get_input_template(d['产品名'], d['条款'], d['问题']),\n",
    "        'output': d['答案']\n",
    "    } for d in data]\n",
    "    df = pd.DataFrame(data)\n",
    "    ds = Dataset.from_pandas(df)\n",
    "    return ds"
   ]
  },
  {
   "cell_type": "markdown",
   "id": "1f7c5604-5ab8-430b-9ca7-53daf8330a4d",
   "metadata": {},
   "source": [
    "### data pre-processing"
   ]
  },
  {
   "cell_type": "code",
   "execution_count": 4,
   "id": "1365d613-1339-4694-beb5-153deca09cb0",
   "metadata": {
    "ExecutionIndicator": {
     "show": false
    },
    "execution": {
     "iopub.execute_input": "2024-07-20T06:45:40.947397Z",
     "iopub.status.busy": "2024-07-20T06:45:40.947129Z",
     "iopub.status.idle": "2024-07-20T06:45:46.440074Z",
     "shell.execute_reply": "2024-07-20T06:45:46.439604Z",
     "shell.execute_reply.started": "2024-07-20T06:45:40.947373Z"
    },
    "tags": []
   },
   "outputs": [
    {
     "name": "stderr",
     "output_type": "stream",
     "text": [
      "Building prefix dict from the default dictionary ...\n",
      "Loading model from cache /tmp/jieba.cache\n",
      "Loading model cost 0.693 seconds.\n",
      "Prefix dict has been built successfully.\n"
     ]
    }
   ],
   "source": [
    "train_data = read_json('dataset/train.json')\n",
    "train_eval = [{\n",
    "    '产品名': data['产品名'],\n",
    "    '条款': data['条款'],\n",
    "    '问题': data['问题'],\n",
    "    '答案': data['答案'],\n",
    "    'score': key_word_score(data['产品名'] + data['条款'] + data['问题'], data['答案'])\n",
    "} for data in train_data]\n",
    "train_data = [{key: value for key, value in data.items() if key != 'score'} \n",
    "              for data in train_eval if data['score'] >= 0.8]\n",
    "train_data = processing(train_data)\n",
    "\n",
    "dev_data = read_json('dataset/dev.json')\n",
    "dev_data = processing(dev_data)"
   ]
  },
  {
   "cell_type": "code",
   "execution_count": 5,
   "id": "0eaea0e9-2d51-4b84-bf1f-33ce0b5c1c3a",
   "metadata": {
    "ExecutionIndicator": {
     "show": true
    },
    "execution": {
     "iopub.execute_input": "2024-07-20T06:45:46.441580Z",
     "iopub.status.busy": "2024-07-20T06:45:46.441363Z",
     "iopub.status.idle": "2024-07-20T06:45:46.648495Z",
     "shell.execute_reply": "2024-07-20T06:45:46.648068Z",
     "shell.execute_reply.started": "2024-07-20T06:45:46.441564Z"
    },
    "tags": []
   },
   "outputs": [
    {
     "name": "stderr",
     "output_type": "stream",
     "text": [
      "Special tokens have been added in the vocabulary, make sure the associated word embeddings are fine-tuned or trained.\n"
     ]
    },
    {
     "data": {
      "text/plain": [
       "Qwen2Tokenizer(name_or_path='/mnt/workspace/.cache/modelscope/hub/qwen/Qwen2-7B-Instruct', vocab_size=151643, model_max_length=131072, is_fast=False, padding_side='right', truncation_side='right', special_tokens={'eos_token': '<|im_end|>', 'pad_token': '<|endoftext|>', 'additional_special_tokens': ['<|im_start|>', '<|im_end|>']}, clean_up_tokenization_spaces=False),  added_tokens_decoder={\n",
       "\t151643: AddedToken(\"<|endoftext|>\", rstrip=False, lstrip=False, single_word=False, normalized=False, special=True),\n",
       "\t151644: AddedToken(\"<|im_start|>\", rstrip=False, lstrip=False, single_word=False, normalized=False, special=True),\n",
       "\t151645: AddedToken(\"<|im_end|>\", rstrip=False, lstrip=False, single_word=False, normalized=False, special=True),\n",
       "}"
      ]
     },
     "execution_count": 5,
     "metadata": {},
     "output_type": "execute_result"
    }
   ],
   "source": [
    "tokenizer = AutoTokenizer.from_pretrained(model_dir, use_fast=False, trust_remote_code=True, use_cache=False)\n",
    "tokenizer"
   ]
  },
  {
   "cell_type": "code",
   "execution_count": 6,
   "id": "9d133a50-1b96-43bb-836f-565f4a8c1124",
   "metadata": {
    "ExecutionIndicator": {
     "show": true
    },
    "execution": {
     "iopub.execute_input": "2024-07-20T06:45:46.649589Z",
     "iopub.status.busy": "2024-07-20T06:45:46.649145Z",
     "iopub.status.idle": "2024-07-20T06:46:14.260139Z",
     "shell.execute_reply": "2024-07-20T06:46:14.259699Z",
     "shell.execute_reply.started": "2024-07-20T06:45:46.649572Z"
    },
    "tags": []
   },
   "outputs": [
    {
     "data": {
      "application/vnd.jupyter.widget-view+json": {
       "model_id": "",
       "version_major": 2,
       "version_minor": 0
      },
      "text/plain": [
       "Map:   0%|          | 0/4449 [00:00<?, ? examples/s]"
      ]
     },
     "metadata": {},
     "output_type": "display_data"
    },
    {
     "data": {
      "application/vnd.jupyter.widget-view+json": {
       "model_id": "",
       "version_major": 2,
       "version_minor": 0
      },
      "text/plain": [
       "Filter:   0%|          | 0/4449 [00:00<?, ? examples/s]"
      ]
     },
     "metadata": {},
     "output_type": "display_data"
    },
    {
     "data": {
      "text/plain": [
       "Dataset({\n",
       "    features: ['input_ids', 'attention_mask', 'labels'],\n",
       "    num_rows: 3931\n",
       "})"
      ]
     },
     "execution_count": 6,
     "metadata": {},
     "output_type": "execute_result"
    }
   ],
   "source": [
    "def process_func(example):\n",
    "    # MAX_LENGTH = 512    # Llama分词器会将一个中文字切分为多个token，因此需要放开一些最大长度，保证数据的完整性\n",
    "    input_ids, attention_mask, labels = [], [], []\n",
    "    instruction = tokenizer(f\"<|im_start|>system\\n你是一个基于保险条款的问答系统<|im_end|>\\n<|im_start|>user\\n{example['instruction'] + example['input']}<|im_end|>\\n<|im_start|>assistant\\n\", add_special_tokens=False)  # add_special_tokens 不在开头加 special_tokens\n",
    "    response = tokenizer(f\"{example['output']}\", add_special_tokens=False)\n",
    "    input_ids = instruction[\"input_ids\"] + response[\"input_ids\"] + [tokenizer.pad_token_id]\n",
    "    attention_mask = instruction[\"attention_mask\"] + response[\"attention_mask\"] + [1]  # 因为eos token咱们也是要关注的所以 补充为1\n",
    "    labels = [-100] * len(instruction[\"input_ids\"]) + response[\"input_ids\"] + [tokenizer.pad_token_id]  \n",
    "    # if len(input_ids) > MAX_LENGTH:  # 做一个截断\n",
    "    #     # input_ids = input_ids[:MAX_LENGTH]\n",
    "    #     # attention_mask = attention_mask[:MAX_LENGTH]\n",
    "    #     # labels = labels[:MAX_LENGTH]\n",
    "    #     return {}\n",
    "    return {\n",
    "        \"input_ids\": input_ids,\n",
    "        \"attention_mask\": attention_mask,\n",
    "        \"labels\": labels\n",
    "    }\n",
    "\n",
    "MAX_LENGTH = 512\n",
    "tokenized_id = train_data.map(process_func, remove_columns=train_data.column_names)\n",
    "tokenized_id = tokenized_id.filter(lambda x: len(x[\"input_ids\"]) < MAX_LENGTH)\n",
    "tokenized_id"
   ]
  },
  {
   "cell_type": "code",
   "execution_count": 7,
   "id": "64dcd884-e516-4b3c-a830-25868aa19650",
   "metadata": {
    "ExecutionIndicator": {
     "show": true
    },
    "execution": {
     "iopub.execute_input": "2024-07-20T06:46:14.260997Z",
     "iopub.status.busy": "2024-07-20T06:46:14.260773Z",
     "iopub.status.idle": "2024-07-20T06:46:21.082736Z",
     "shell.execute_reply": "2024-07-20T06:46:21.082228Z",
     "shell.execute_reply.started": "2024-07-20T06:46:14.260979Z"
    },
    "tags": []
   },
   "outputs": [
    {
     "data": {
      "application/vnd.jupyter.widget-view+json": {
       "model_id": "",
       "version_major": 2,
       "version_minor": 0
      },
      "text/plain": [
       "Map:   0%|          | 0/1000 [00:00<?, ? examples/s]"
      ]
     },
     "metadata": {},
     "output_type": "display_data"
    },
    {
     "data": {
      "application/vnd.jupyter.widget-view+json": {
       "model_id": "",
       "version_major": 2,
       "version_minor": 0
      },
      "text/plain": [
       "Filter:   0%|          | 0/1000 [00:00<?, ? examples/s]"
      ]
     },
     "metadata": {},
     "output_type": "display_data"
    },
    {
     "data": {
      "text/plain": [
       "Dataset({\n",
       "    features: ['input_ids', 'attention_mask', 'labels'],\n",
       "    num_rows: 886\n",
       "})"
      ]
     },
     "execution_count": 7,
     "metadata": {},
     "output_type": "execute_result"
    }
   ],
   "source": [
    "dev_data_id = dev_data.map(process_func, remove_columns=dev_data.column_names)\n",
    "dev_data_id = dev_data_id.filter(lambda x: len(x[\"input_ids\"]) < MAX_LENGTH)\n",
    "dev_data_id"
   ]
  },
  {
   "cell_type": "markdown",
   "id": "4d83e2b1-d14c-4faf-aa74-f69f1531cccf",
   "metadata": {},
   "source": [
    "### 加载模型"
   ]
  },
  {
   "cell_type": "code",
   "execution_count": 8,
   "id": "2e410277-fbce-4b73-90b4-3855738b6377",
   "metadata": {
    "ExecutionIndicator": {
     "show": true
    },
    "execution": {
     "iopub.execute_input": "2024-07-20T06:46:21.083705Z",
     "iopub.status.busy": "2024-07-20T06:46:21.083458Z",
     "iopub.status.idle": "2024-07-20T06:46:59.520294Z",
     "shell.execute_reply": "2024-07-20T06:46:59.519765Z",
     "shell.execute_reply.started": "2024-07-20T06:46:21.083683Z"
    },
    "tags": []
   },
   "outputs": [
    {
     "data": {
      "application/vnd.jupyter.widget-view+json": {
       "model_id": "c67d90fe05ab43e889b286e8b3df0870",
       "version_major": 2,
       "version_minor": 0
      },
      "text/plain": [
       "Loading checkpoint shards:   0%|          | 0/4 [00:00<?, ?it/s]"
      ]
     },
     "metadata": {},
     "output_type": "display_data"
    }
   ],
   "source": [
    "import torch\n",
    "import logging\n",
    "logger = logging.getLogger(__name__)\n",
    "\n",
    "model = AutoModelForCausalLM.from_pretrained(model_dir, device_map=\"auto\", torch_dtype=torch.bfloat16, use_cache=False)\n",
    "model.enable_input_require_grads() # 开启梯度检查点时，要执行该方法\n",
    "\n",
    "# device_count = torch.cuda.device_count()\n",
    "# if device_count > 0:\n",
    "#     logger.debug(\"Select GPU device\")\n",
    "#     device = torch.device(\"cuda\")\n",
    "# else:\n",
    "#     logger.debug(\"Select CPU device\")\n",
    "#     device = torch.device(\"cpu\")\n"
   ]
  },
  {
   "cell_type": "code",
   "execution_count": 9,
   "id": "a6b64bd8-b433-46cb-884b-afe6d5099590",
   "metadata": {
    "ExecutionIndicator": {
     "show": true
    },
    "execution": {
     "iopub.execute_input": "2024-07-20T06:46:59.521257Z",
     "iopub.status.busy": "2024-07-20T06:46:59.521014Z",
     "iopub.status.idle": "2024-07-20T06:46:59.982846Z",
     "shell.execute_reply": "2024-07-20T06:46:59.982373Z",
     "shell.execute_reply.started": "2024-07-20T06:46:59.521240Z"
    },
    "tags": []
   },
   "outputs": [
    {
     "name": "stdout",
     "output_type": "stream",
     "text": [
      "trainable params: 20,185,088 || all params: 7,635,801,600 || trainable%: 0.26434798934534914\n"
     ]
    }
   ],
   "source": [
    "from peft import LoraConfig, TaskType, get_peft_model\n",
    "\n",
    "config = LoraConfig(\n",
    "    task_type=TaskType.CAUSAL_LM, \n",
    "    target_modules=[\"q_proj\", \"k_proj\", \"v_proj\", \"o_proj\", \"gate_proj\", \"up_proj\", \"down_proj\"],\n",
    "    inference_mode=False, # 训练模式\n",
    "    r=8, # Lora 秩\n",
    "    lora_alpha=32, # Lora alaph，具体作用参见 Lora 原理\n",
    "    lora_dropout=0.1# Dropout 比例\n",
    ")\n",
    "model = get_peft_model(model, config)\n",
    "model.print_trainable_parameters()\n",
    "#model.to(device)"
   ]
  },
  {
   "cell_type": "code",
   "execution_count": 11,
   "id": "94d9ad29-2447-4900-ade1-16865712c463",
   "metadata": {
    "ExecutionIndicator": {
     "show": false
    },
    "execution": {
     "iopub.execute_input": "2024-07-20T06:48:16.041368Z",
     "iopub.status.busy": "2024-07-20T06:48:16.041034Z",
     "iopub.status.idle": "2024-07-20T06:48:16.046626Z",
     "shell.execute_reply": "2024-07-20T06:48:16.046090Z",
     "shell.execute_reply.started": "2024-07-20T06:48:16.041347Z"
    },
    "tags": []
   },
   "outputs": [],
   "source": [
    "args = TrainingArguments(\n",
    "    output_dir=\"./output/Qwen2_instruct_lora/20240720\",\n",
    "    per_device_train_batch_size=4,\n",
    "    gradient_accumulation_steps=4,\n",
    "    per_device_eval_batch_size=4,\n",
    "    weight_decay=0.01,\n",
    "    logging_steps=50,\n",
    "    eval_steps=100,\n",
    "    eval_strategy=\"steps\",\n",
    "    num_train_epochs=5,\n",
    "    save_steps=100, # 为了快速演示，这里设置10，建议你设置成100\n",
    "    learning_rate=5e-5,\n",
    "    save_on_each_node=True,\n",
    "    #bf16=True,\n",
    "    load_best_model_at_end=True,\n",
    "    gradient_checkpointing=True\n",
    ")"
   ]
  },
  {
   "cell_type": "code",
   "execution_count": 12,
   "id": "307cfd21-89ff-473e-b358-c957a50125ac",
   "metadata": {
    "ExecutionIndicator": {
     "show": true
    },
    "execution": {
     "iopub.execute_input": "2024-07-20T06:48:18.822478Z",
     "iopub.status.busy": "2024-07-20T06:48:18.822117Z",
     "iopub.status.idle": "2024-07-20T06:48:18.826939Z",
     "shell.execute_reply": "2024-07-20T06:48:18.826298Z",
     "shell.execute_reply.started": "2024-07-20T06:48:18.822456Z"
    },
    "tags": []
   },
   "outputs": [
    {
     "name": "stdout",
     "output_type": "stream",
     "text": [
      "Allocated: 14.70 GB, Cached: 14.92 GB, Total Used: 29.62 GB\n"
     ]
    }
   ],
   "source": [
    "import torch\n",
    "\n",
    "def print_memory_usage():\n",
    "    allocated = torch.cuda.memory_allocated() / (1024 * 1024 * 1024)\n",
    "    cached = torch.cuda.memory_reserved() / (1024 * 1024 * 1024)\n",
    "    total_used = allocated + cached\n",
    "    print(f'Allocated: {allocated:.2f} GB, Cached: {cached:.2f} GB, Total Used: {total_used:.2f} GB')\n",
    "\n",
    "torch.cuda.empty_cache()\n",
    "print_memory_usage()\n"
   ]
  },
  {
   "cell_type": "code",
   "execution_count": 13,
   "id": "d9fbfbc1-0b42-4f5a-9948-4c56fb2d6bcd",
   "metadata": {
    "ExecutionIndicator": {
     "show": true
    },
    "execution": {
     "iopub.execute_input": "2024-07-20T06:48:21.482833Z",
     "iopub.status.busy": "2024-07-20T06:48:21.482499Z",
     "iopub.status.idle": "2024-07-20T07:41:21.761076Z",
     "shell.execute_reply": "2024-07-20T07:41:21.760571Z",
     "shell.execute_reply.started": "2024-07-20T06:48:21.482813Z"
    },
    "tags": []
   },
   "outputs": [
    {
     "name": "stderr",
     "output_type": "stream",
     "text": [
      "Detected kernel version 4.19.91, which is below the recommended minimum of 5.5.0; this can cause the process to hang. It is recommended to upgrade the kernel to the minimum version or higher.\n"
     ]
    },
    {
     "name": "stdout",
     "output_type": "stream",
     "text": [
      "[2024-07-20 14:48:21,846] [INFO] [real_accelerator.py:203:get_accelerator] Setting ds_accelerator to cuda (auto detect)\n",
      "\u001b[93m [WARNING] \u001b[0m Please specify the CUTLASS repo directory as environment variable $CUTLASS_PATH\n",
      "\u001b[93m [WARNING] \u001b[0m sparse_attn requires a torch version >= 1.5 and < 2.0 but detected 2.3\n",
      "\u001b[93m [WARNING] \u001b[0m using untested triton version (3.0.0), only 1.0.0 is known to be compatible\n"
     ]
    },
    {
     "name": "stderr",
     "output_type": "stream",
     "text": [
      "/usr/local/lib/python3.10/site-packages/torch/utils/checkpoint.py:464: UserWarning: torch.utils.checkpoint: the use_reentrant parameter should be passed explicitly. In version 2.4 we will raise an exception if use_reentrant is not passed. use_reentrant=False is recommended, but if you need to preserve the current default behavior, you can pass use_reentrant=True. Refer to docs for more details on the differences between the two variants.\n",
      "  warnings.warn(\n"
     ]
    },
    {
     "data": {
      "text/html": [
       "\n",
       "    <div>\n",
       "      \n",
       "      <progress value='500' max='1225' style='width:300px; height:20px; vertical-align: middle;'></progress>\n",
       "      [ 500/1225 52:50 < 1:16:55, 0.16 it/s, Epoch 2/5]\n",
       "    </div>\n",
       "    <table border=\"1\" class=\"dataframe\">\n",
       "  <thead>\n",
       " <tr style=\"text-align: left;\">\n",
       "      <th>Step</th>\n",
       "      <th>Training Loss</th>\n",
       "      <th>Validation Loss</th>\n",
       "    </tr>\n",
       "  </thead>\n",
       "  <tbody>\n",
       "    <tr>\n",
       "      <td>100</td>\n",
       "      <td>0.193100</td>\n",
       "      <td>0.293287</td>\n",
       "    </tr>\n",
       "    <tr>\n",
       "      <td>200</td>\n",
       "      <td>0.176700</td>\n",
       "      <td>0.279972</td>\n",
       "    </tr>\n",
       "    <tr>\n",
       "      <td>300</td>\n",
       "      <td>0.109100</td>\n",
       "      <td>0.288233</td>\n",
       "    </tr>\n",
       "    <tr>\n",
       "      <td>400</td>\n",
       "      <td>0.098600</td>\n",
       "      <td>0.295482</td>\n",
       "    </tr>\n",
       "    <tr>\n",
       "      <td>500</td>\n",
       "      <td>0.096300</td>\n",
       "      <td>0.289023</td>\n",
       "    </tr>\n",
       "  </tbody>\n",
       "</table><p>"
      ],
      "text/plain": [
       "<IPython.core.display.HTML object>"
      ]
     },
     "metadata": {},
     "output_type": "display_data"
    },
    {
     "name": "stderr",
     "output_type": "stream",
     "text": [
      "/usr/local/lib/python3.10/site-packages/peft/utils/save_and_load.py:154: UserWarning: Could not find a config file in /mnt/workspace/.cache/modelscope/hub/qwen/Qwen2-7B-Instruct - will assume that the vocabulary was not modified.\n",
      "  warnings.warn(\n",
      "/usr/local/lib/python3.10/site-packages/torch/utils/checkpoint.py:464: UserWarning: torch.utils.checkpoint: the use_reentrant parameter should be passed explicitly. In version 2.4 we will raise an exception if use_reentrant is not passed. use_reentrant=False is recommended, but if you need to preserve the current default behavior, you can pass use_reentrant=True. Refer to docs for more details on the differences between the two variants.\n",
      "  warnings.warn(\n",
      "/usr/local/lib/python3.10/site-packages/peft/utils/save_and_load.py:154: UserWarning: Could not find a config file in /mnt/workspace/.cache/modelscope/hub/qwen/Qwen2-7B-Instruct - will assume that the vocabulary was not modified.\n",
      "  warnings.warn(\n",
      "/usr/local/lib/python3.10/site-packages/torch/utils/checkpoint.py:464: UserWarning: torch.utils.checkpoint: the use_reentrant parameter should be passed explicitly. In version 2.4 we will raise an exception if use_reentrant is not passed. use_reentrant=False is recommended, but if you need to preserve the current default behavior, you can pass use_reentrant=True. Refer to docs for more details on the differences between the two variants.\n",
      "  warnings.warn(\n",
      "/usr/local/lib/python3.10/site-packages/peft/utils/save_and_load.py:154: UserWarning: Could not find a config file in /mnt/workspace/.cache/modelscope/hub/qwen/Qwen2-7B-Instruct - will assume that the vocabulary was not modified.\n",
      "  warnings.warn(\n",
      "/usr/local/lib/python3.10/site-packages/torch/utils/checkpoint.py:464: UserWarning: torch.utils.checkpoint: the use_reentrant parameter should be passed explicitly. In version 2.4 we will raise an exception if use_reentrant is not passed. use_reentrant=False is recommended, but if you need to preserve the current default behavior, you can pass use_reentrant=True. Refer to docs for more details on the differences between the two variants.\n",
      "  warnings.warn(\n",
      "/usr/local/lib/python3.10/site-packages/peft/utils/save_and_load.py:154: UserWarning: Could not find a config file in /mnt/workspace/.cache/modelscope/hub/qwen/Qwen2-7B-Instruct - will assume that the vocabulary was not modified.\n",
      "  warnings.warn(\n",
      "/usr/local/lib/python3.10/site-packages/torch/utils/checkpoint.py:464: UserWarning: torch.utils.checkpoint: the use_reentrant parameter should be passed explicitly. In version 2.4 we will raise an exception if use_reentrant is not passed. use_reentrant=False is recommended, but if you need to preserve the current default behavior, you can pass use_reentrant=True. Refer to docs for more details on the differences between the two variants.\n",
      "  warnings.warn(\n",
      "/usr/local/lib/python3.10/site-packages/peft/utils/save_and_load.py:154: UserWarning: Could not find a config file in /mnt/workspace/.cache/modelscope/hub/qwen/Qwen2-7B-Instruct - will assume that the vocabulary was not modified.\n",
      "  warnings.warn(\n"
     ]
    },
    {
     "data": {
      "text/plain": [
       "TrainOutput(global_step=500, training_loss=0.1533053436279297, metrics={'train_runtime': 3178.3569, 'train_samples_per_second': 6.184, 'train_steps_per_second': 0.385, 'total_flos': 1.148309086585006e+17, 'train_loss': 0.1533053436279297, 'epoch': 2.034587995930824})"
      ]
     },
     "execution_count": 13,
     "metadata": {},
     "output_type": "execute_result"
    }
   ],
   "source": [
    "trainer = Trainer(\n",
    "    model=model,\n",
    "    args=args,\n",
    "    train_dataset=tokenized_id,\n",
    "    eval_dataset=dev_data_id,\n",
    "    data_collator=DataCollatorForSeq2Seq(tokenizer=tokenizer, padding=True),\n",
    "    callbacks=[EarlyStoppingCallback(early_stopping_patience=3)],\n",
    ")\n",
    "trainer.train()"
   ]
  },
  {
   "cell_type": "code",
   "execution_count": null,
   "id": "0ffc725c-7cb7-4d2b-b2ad-a74a37434db7",
   "metadata": {
    "ExecutionIndicator": {
     "show": true
    },
    "execution": {
     "iopub.status.busy": "2024-07-20T06:47:02.598317Z",
     "iopub.status.idle": "2024-07-20T06:47:02.598598Z",
     "shell.execute_reply": "2024-07-20T06:47:02.598512Z",
     "shell.execute_reply.started": "2024-07-20T06:47:02.598503Z"
    },
    "tags": []
   },
   "outputs": [],
   "source": [
    "# #模型下载\n",
    "# from modelscope import snapshot_download\n",
    "# from modelscope import AutoModelForCausalLM, AutoTokenizer\n",
    "# from prompt_template import get_sys_prompt\n",
    "# from peft import PeftModel\n",
    "# model_dir = snapshot_download('qwen/Qwen2-7B-Instruct')\n",
    "# lora_path = './output/Qwen2_instruct_lora/checkpoint-600'\n",
    "\n",
    "# device = \"cuda\"\n",
    "# # the device to load the model onto\n",
    "\n",
    "# model = AutoModelForCausalLM.from_pretrained(\n",
    "#     model_dir,\n",
    "#     torch_dtype=\"auto\",\n",
    "#     device_map=\"auto\"\n",
    "# )\n",
    "# model = PeftModel.from_pretrained(model, model_id=lora_path)\n",
    "# tokenizer = AutoTokenizer.from_pretrained(model_dir)\n",
    "\n",
    "\n",
    "# def qwen_response(prompt):\n",
    "\n",
    "#     messages = [\n",
    "#         {\"role\": \"system\", \"content\": get_sys_prompt()},\n",
    "#         {\"role\": \"user\", \"content\": prompt}\n",
    "#     ]\n",
    "#     text = tokenizer.apply_chat_template(\n",
    "#         messages,\n",
    "#         tokenize=False,\n",
    "#         add_generation_prompt=True\n",
    "#     )\n",
    "#     model_inputs = tokenizer([text], return_tensors=\"pt\").to(device)\n",
    "\n",
    "#     generated_ids = model.generate(\n",
    "#         model_inputs.input_ids,\n",
    "#         max_new_tokens=512\n",
    "#     )\n",
    "#     generated_ids = [\n",
    "#         output_ids[len(input_ids):] for input_ids, output_ids in zip(model_inputs.input_ids, generated_ids)\n",
    "#     ]\n",
    "\n",
    "#     response = tokenizer.batch_decode(generated_ids, skip_special_tokens=True)[0]\n",
    "#     return response\n"
   ]
  },
  {
   "cell_type": "markdown",
   "id": "be4ebbd6-bf8e-450c-b46f-ba33acc9db0d",
   "metadata": {
    "ExecutionIndicator": {
     "show": true
    },
    "tags": []
   },
   "source": [
    "##### qwen_response(\"你是谁\")"
   ]
  }
 ],
 "metadata": {
  "kernelspec": {
   "display_name": "Python 3 (ipykernel)",
   "language": "python",
   "name": "python3"
  },
  "language_info": {
   "codemirror_mode": {
    "name": "ipython",
    "version": 3
   },
   "file_extension": ".py",
   "mimetype": "text/x-python",
   "name": "python",
   "nbconvert_exporter": "python",
   "pygments_lexer": "ipython3",
   "version": "3.10.14"
  }
 },
 "nbformat": 4,
 "nbformat_minor": 5
}
