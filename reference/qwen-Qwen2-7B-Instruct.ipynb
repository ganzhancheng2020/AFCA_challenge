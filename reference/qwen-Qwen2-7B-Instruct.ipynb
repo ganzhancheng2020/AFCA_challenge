{
 "cells": [
  {
   "cell_type": "markdown",
   "id": "b0be25d7",
   "metadata": {},
   "source": [
    "\n",
    "# Qwen2-7B-Instruct\n",
    "\n",
    "## Introduction\n",
    "\n",
    "Qwen2 is the new series of Qwen large language models. For Qwen2, we release a number of base language models and instruction-tuned language models ranging from 0.5 to 72 billion parameters, including a Mixture-of-Experts model. This repo contains the instruction-tuned 7B Qwen2 model.\n",
    "\n",
    "Compared with the state-of-the-art opensource language models, including the previous released Qwen1.5, Qwen2 has generally surpassed most opensource models and demonstrated competitiveness against proprietary models across a series of benchmarks targeting for language understanding, language generation, multilingual capability, coding, mathematics, reasoning, etc.\n",
    "\n",
    "Qwen2-7B-Instruct supports a context length of up to 131,072 tokens, enabling the processing of extensive inputs. Please refer to [this section](https://modelscope.cn/api/v1/models/qwen/Qwen2-7B-Instruct/repo?Revision=master&FilePath=%23processing-long-texts&View=true) for detailed instructions on how to deploy Qwen2 for handling long texts.\n",
    "\n",
    "For more details, please refer to our [blog](https://qwenlm.github.io/blog/qwen2/), [GitHub](https://github.com/QwenLM/Qwen2), and [Documentation](https://qwen.readthedocs.io/en/latest/).\n",
    "<br>\n",
    "\n",
    "## Model Details\n",
    "Qwen2 is a language model series including decoder language models of different model sizes. For each size, we release the base language model and the aligned chat model. It is based on the Transformer architecture with SwiGLU activation, attention QKV bias, group query attention, etc. Additionally, we have an improved tokenizer adaptive to multiple natural languages and codes.\n",
    "\n",
    "## Training details\n",
    "We pretrained the models with a large amount of data, and we post-trained the models with both supervised finetuning and direct preference optimization.\n",
    "\n",
    "\n",
    "## Requirements\n",
    "The code of Qwen2 has been in the latest Hugging face transformers and we advise you to install `transformers>=4.37.0`, or you might encounter the following error:\n",
    "```\n",
    "KeyError: 'qwen2'\n",
    "```\n",
    "\n",
    "## Quickstart\n",
    "\n",
    "Here provides a code snippet with `apply_chat_template` to show you how to load the tokenizer and model and how to generate contents.\n",
    "\n",
    "\n"
   ]
  },
  {
   "cell_type": "code",
   "execution_count": 1,
   "id": "28d5f7d5-9be9-48c4-9fac-74ccdf8d49d3",
   "metadata": {
    "execution": {
     "iopub.execute_input": "2024-07-10T15:37:16.406230Z",
     "iopub.status.busy": "2024-07-10T15:37:16.405851Z",
     "iopub.status.idle": "2024-07-10T15:38:59.286070Z",
     "shell.execute_reply": "2024-07-10T15:38:59.285370Z",
     "shell.execute_reply.started": "2024-07-10T15:37:16.406206Z"
    },
    "tags": []
   },
   "outputs": [
    {
     "name": "stderr",
     "output_type": "stream",
     "text": [
      "/usr/local/lib/python3.10/site-packages/tqdm/auto.py:21: TqdmWarning: IProgress not found. Please update jupyter and ipywidgets. See https://ipywidgets.readthedocs.io/en/stable/user_install.html\n",
      "  from .autonotebook import tqdm as notebook_tqdm\n",
      "Downloading: 100%|██████████| 663/663 [00:00<00:00, 1.59kB/s]\n",
      "Downloading: 100%|██████████| 48.0/48.0 [00:00<00:00, 109B/s]\n",
      "Downloading: 100%|██████████| 243/243 [00:00<00:00, 430B/s]\n",
      "Downloading: 100%|██████████| 11.1k/11.1k [00:00<00:00, 22.7kB/s]\n",
      "Downloading: 100%|██████████| 1.59M/1.59M [00:00<00:00, 3.32MB/s]\n",
      "Downloading: 100%|██████████| 3.67G/3.67G [00:13<00:00, 303MB/s] \n",
      "Downloading: 100%|██████████| 3.60G/3.60G [00:11<00:00, 350MB/s] \n",
      "Downloading: 100%|██████████| 3.60G/3.60G [00:11<00:00, 323MB/s] \n",
      "Downloading: 100%|██████████| 3.31G/3.31G [00:10<00:00, 328MB/s] \n",
      "Downloading: 100%|██████████| 27.1k/27.1k [00:00<00:00, 78.9kB/s]\n",
      "Downloading: 100%|██████████| 6.41k/6.41k [00:00<00:00, 13.5kB/s]\n",
      "Downloading: 100%|██████████| 6.70M/6.70M [00:00<00:00, 9.38MB/s]\n",
      "Downloading: 100%|██████████| 1.26k/1.26k [00:00<00:00, 2.76kB/s]\n",
      "Downloading: 100%|██████████| 2.65M/2.65M [00:00<00:00, 6.43MB/s]\n"
     ]
    }
   ],
   "source": [
    "#模型下载\n",
    "from modelscope import snapshot_download\n",
    "model_dir = snapshot_download('qwen/Qwen2-7B-Instruct')"
   ]
  },
  {
   "cell_type": "code",
   "execution_count": null,
   "id": "b453b7a1",
   "metadata": {
    "ExecutionIndicator": {
     "show": true
    },
    "tags": []
   },
   "outputs": [],
   "source": [
    "from modelscope import AutoModelForCausalLM, AutoTokenizer\n",
    "device = \"cuda\" # the device to load the model onto\n",
    "\n",
    "model = AutoModelForCausalLM.from_pretrained(\n",
    "    model_dir,\n",
    "    torch_dtype=\"auto\",\n",
    "    device_map=\"auto\"\n",
    ")\n",
    "tokenizer = AutoTokenizer.from_pretrained(model_dir)\n",
    "\n",
    "prompt = \"Give me a short introduction to large language model.\"\n",
    "messages = [\n",
    "    {\"role\": \"system\", \"content\": \"You are a helpful assistant.\"},\n",
    "    {\"role\": \"user\", \"content\": prompt}\n",
    "]\n",
    "text = tokenizer.apply_chat_template(\n",
    "    messages,\n",
    "    tokenize=False,\n",
    "    add_generation_prompt=True\n",
    ")\n",
    "model_inputs = tokenizer([text], return_tensors=\"pt\").to(device)\n",
    "\n",
    "generated_ids = model.generate(\n",
    "    model_inputs.input_ids,\n",
    "    max_new_tokens=512\n",
    ")\n",
    "generated_ids = [\n",
    "    output_ids[len(input_ids):] for input_ids, output_ids in zip(model_inputs.input_ids, generated_ids)\n",
    "]\n",
    "\n",
    "response = tokenizer.batch_decode(generated_ids, skip_special_tokens=True)[0]\n",
    "print(response)\n"
   ]
  },
  {
   "cell_type": "code",
   "execution_count": 7,
   "id": "7f5ea104-a80e-4c8c-983c-a4451634e0a1",
   "metadata": {
    "ExecutionIndicator": {
     "show": true
    },
    "execution": {
     "iopub.execute_input": "2024-07-10T15:52:53.495797Z",
     "iopub.status.busy": "2024-07-10T15:52:53.495383Z",
     "iopub.status.idle": "2024-07-10T15:52:53.533971Z",
     "shell.execute_reply": "2024-07-10T15:52:53.532888Z",
     "shell.execute_reply.started": "2024-07-10T15:52:53.495761Z"
    },
    "tags": []
   },
   "outputs": [
    {
     "ename": "AttributeError",
     "evalue": "'Qwen2ForCausalLM' object has no attribute 'chat'",
     "output_type": "error",
     "traceback": [
      "\u001b[0;31m---------------------------------------------------------------------------\u001b[0m",
      "\u001b[0;31mAttributeError\u001b[0m                            Traceback (most recent call last)",
      "Cell \u001b[0;32mIn[7], line 1\u001b[0m\n\u001b[0;32m----> 1\u001b[0m \u001b[43mmodel\u001b[49m\u001b[38;5;241;43m.\u001b[39;49m\u001b[43mchat\u001b[49m(tokenizer,\u001b[38;5;124m\"\u001b[39m\u001b[38;5;124m你是谁？\u001b[39m\u001b[38;5;124m\"\u001b[39m, history\u001b[38;5;241m=\u001b[39m[])\n",
      "File \u001b[0;32m/usr/local/lib/python3.10/site-packages/torch/nn/modules/module.py:1709\u001b[0m, in \u001b[0;36mModule.__getattr__\u001b[0;34m(self, name)\u001b[0m\n\u001b[1;32m   1707\u001b[0m     \u001b[38;5;28;01mif\u001b[39;00m name \u001b[38;5;129;01min\u001b[39;00m modules:\n\u001b[1;32m   1708\u001b[0m         \u001b[38;5;28;01mreturn\u001b[39;00m modules[name]\n\u001b[0;32m-> 1709\u001b[0m \u001b[38;5;28;01mraise\u001b[39;00m \u001b[38;5;167;01mAttributeError\u001b[39;00m(\u001b[38;5;124mf\u001b[39m\u001b[38;5;124m\"\u001b[39m\u001b[38;5;124m'\u001b[39m\u001b[38;5;132;01m{\u001b[39;00m\u001b[38;5;28mtype\u001b[39m(\u001b[38;5;28mself\u001b[39m)\u001b[38;5;241m.\u001b[39m\u001b[38;5;18m__name__\u001b[39m\u001b[38;5;132;01m}\u001b[39;00m\u001b[38;5;124m'\u001b[39m\u001b[38;5;124m object has no attribute \u001b[39m\u001b[38;5;124m'\u001b[39m\u001b[38;5;132;01m{\u001b[39;00mname\u001b[38;5;132;01m}\u001b[39;00m\u001b[38;5;124m'\u001b[39m\u001b[38;5;124m\"\u001b[39m)\n",
      "\u001b[0;31mAttributeError\u001b[0m: 'Qwen2ForCausalLM' object has no attribute 'chat'"
     ]
    }
   ],
   "source": [
    "model.chat(tokenizer,\"你是谁？\", history=[])"
   ]
  },
  {
   "cell_type": "markdown",
   "id": "eed29496",
   "metadata": {},
   "source": [
    "\n",
    "\n",
    "### Processing Long Texts\n",
    "\n",
    "To handle extensive inputs exceeding 32,768 tokens, we utilize [YARN](https://arxiv.org/abs/2309.00071), a technique for enhancing model length extrapolation, ensuring optimal performance on lengthy texts.\n",
    "\n",
    "For deployment, we recommend using vLLM. You can enable the long-context capabilities by following these steps:\n",
    "\n",
    "1. **Install vLLM**: You can install vLLM by running the following command.\n",
    "\n",
    "\n"
   ]
  },
  {
   "cell_type": "code",
   "execution_count": null,
   "id": "538ecd1e",
   "metadata": {},
   "outputs": [],
   "source": [
    "pip install \"vllm>=0.4.3\""
   ]
  },
  {
   "cell_type": "markdown",
   "id": "ba660ecf",
   "metadata": {},
   "source": [
    "\n",
    "\n",
    "Or you can install vLLM from [source](https://github.com/vllm-project/vllm/).\n",
    "\n",
    "2. **Configure Model Settings**: After downloading the model weights, modify the `config.json` file by including the below snippet:\n",
    "    ```json\n",
    "        {\n",
    "            \"architectures\": [\n",
    "                \"Qwen2ForCausalLM\"\n",
    "            ],\n",
    "            // ...\n",
    "            \"vocab_size\": 152064,\n",
    "\n",
    "            // adding the following snippets\n",
    "            \"rope_scaling\": {\n",
    "                \"factor\": 4.0,\n",
    "                \"original_max_position_embeddings\": 32768,\n",
    "                \"type\": \"yarn\"\n",
    "            }\n",
    "        }\n",
    "    ```\n",
    "    This snippet enable YARN to support longer contexts.\n",
    "\n",
    "3. **Model Deployment**: Utilize vLLM to deploy your model. For instance, you can set up an openAI-like server using the command:\n",
    "\n",
    "    \n"
   ]
  },
  {
   "cell_type": "code",
   "execution_count": null,
   "id": "5a34b426",
   "metadata": {},
   "outputs": [],
   "source": [
    "python -m vllm.entrypoints.openai.api_server --served-model-name Qwen2-7B-Instruct --model path/to/weights"
   ]
  },
  {
   "cell_type": "markdown",
   "id": "9fc07aaf",
   "metadata": {},
   "source": [
    "\n",
    "\n",
    "    Then you can access the Chat API by:\n",
    "\n",
    "    \n"
   ]
  },
  {
   "cell_type": "code",
   "execution_count": null,
   "id": "cd96358a",
   "metadata": {},
   "outputs": [],
   "source": [
    "curl http://localhost:8000/v1/chat/completions \\\n",
    "        -H \"Content-Type: application/json\" \\\n",
    "        -d '{\n",
    "        \"model\": \"Qwen2-7B-Instruct\",\n",
    "        \"messages\": [\n",
    "            {\"role\": \"system\", \"content\": \"You are a helpful assistant.\"},\n",
    "            {\"role\": \"user\", \"content\": \"Your Long Input Here.\"}\n",
    "        ]\n",
    "        }'"
   ]
  },
  {
   "cell_type": "markdown",
   "id": "0f36e486",
   "metadata": {},
   "source": [
    "\n",
    "\n",
    "    For further usage instructions of vLLM, please refer to our [Github](https://github.com/QwenLM/Qwen2).\n",
    "\n",
    "**Note**: Presently, vLLM only supports static YARN, which means the scaling factor remains constant regardless of input length, **potentially impacting performance on shorter texts**. We advise adding the `rope_scaling` configuration only when processing long contexts is required.\n",
    "\n",
    "## Evaluation\n",
    "\n",
    "We briefly compare Qwen2-7B-Instruct with similar-sized instruction-tuned LLMs, including Qwen1.5-7B-Chat. The results are shown below:\n",
    "\n",
    "| Datasets | Llama-3-8B-Instruct | Yi-1.5-9B-Chat | GLM-4-9B-Chat | Qwen1.5-7B-Chat | Qwen2-7B-Instruct |\n",
    "| :--- | :---: | :---: | :---: | :---: | :---: |\n",
    "| _**English**_ |  |  |  |  |  |\n",
    "| MMLU | 68.4 | 69.5 | **72.4** | 59.5 | 70.5 |\n",
    "| MMLU-Pro | 41.0 | - | - | 29.1 | **44.1** |\n",
    "| GPQA | **34.2** | - | **-** | 27.8 | 25.3 |\n",
    "| TheroemQA | 23.0 | - | - | 14.1 | **25.3** |\n",
    "| MT-Bench | 8.05 | 8.20 | 8.35 | 7.60 | **8.41** |\n",
    "| _**Coding**_ |  |  |  |  |  |\n",
    "| Humaneval | 62.2 | 66.5 | 71.8 | 46.3 | **79.9** |\n",
    "| MBPP | **67.9** | - | - | 48.9 | 67.2 |\n",
    "| MultiPL-E | 48.5 | - | - | 27.2 | **59.1** |\n",
    "| Evalplus | 60.9 | - | - | 44.8 | **70.3** |\n",
    "| LiveCodeBench | 17.3 | - | - | 6.0 | **26.6** |\n",
    "| _**Mathematics**_ |  |  |  |  |  |\n",
    "| GSM8K | 79.6 | **84.8** | 79.6 | 60.3 | 82.3 |\n",
    "| MATH | 30.0 | 47.7 | **50.6** | 23.2 | 49.6 |\n",
    "| _**Chinese**_ |  |  |  |  |  |\n",
    "| C-Eval | 45.9 | - | 75.6 | 67.3 | **77.2** |\n",
    "| AlignBench | 6.20 | 6.90 | 7.01 | 6.20 | **7.21** |\n",
    "\n",
    "## Citation\n",
    "\n",
    "If you find our work helpful, feel free to give us a cite.\n",
    "\n",
    "```\n",
    "@article{qwen2,\n",
    "  title={Qwen2 Technical Report},\n",
    "  year={2024}\n",
    "}\n",
    "```\n"
   ]
  }
 ],
 "metadata": {
  "kernelspec": {
   "display_name": "Python 3 (ipykernel)",
   "language": "python",
   "name": "python3"
  },
  "language_info": {
   "codemirror_mode": {
    "name": "ipython",
    "version": 3
   },
   "file_extension": ".py",
   "mimetype": "text/x-python",
   "name": "python",
   "nbconvert_exporter": "python",
   "pygments_lexer": "ipython3",
   "version": "3.10.14"
  }
 },
 "nbformat": 4,
 "nbformat_minor": 5
}
