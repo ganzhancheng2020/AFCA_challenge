{
 "cells": [
  {
   "cell_type": "code",
   "execution_count": 1,
   "id": "65b94a19-e36c-4e18-80f2-93261b367201",
   "metadata": {
    "ExecutionIndicator": {
     "show": true
    },
    "execution": {
     "iopub.execute_input": "2024-07-24T15:21:14.836938Z",
     "iopub.status.busy": "2024-07-24T15:21:14.836684Z",
     "iopub.status.idle": "2024-07-24T15:21:16.066965Z",
     "shell.execute_reply": "2024-07-24T15:21:16.066459Z",
     "shell.execute_reply.started": "2024-07-24T15:21:14.836911Z"
    },
    "scrolled": true,
    "tags": []
   },
   "outputs": [],
   "source": [
    "from openai import OpenAI\n",
    "import os\n",
    "from dotenv import dotenv_values\n",
    "from ReadLoad import read_jsonl, write_jsonl, read_json, write_json\n",
    "from tqdm import tqdm\n",
    "from evaluation import get_embedding, cosine_similarity\n",
    "from prompt_template import get_sys_prompt, get_qa_prompt, get_refine_prompt, get_re_query_prompt\n",
    "from eval_data import key_word_score\n",
    "import pandas as pd\n",
    "import time\n",
    "\n",
    "config = dotenv_values('.env')\n",
    "client = OpenAI(\n",
    "    api_key=config['qwen_key'],\n",
    "    base_url=config['qwen_url']\n",
    ")\n",
    "\n",
    "\n",
    "def get_response(prompt,sys_prompt=get_sys_prompt()):\n",
    "    time.sleep(0.1)\n",
    "    try:\n",
    "        completion = client.chat.completions.create(\n",
    "            model=\"qwen2-7b-instruct\",\n",
    "            messages=[\n",
    "                {'role': 'system', 'content': sys_prompt},\n",
    "                {'role': 'user', 'content': prompt}\n",
    "            ]\n",
    "\n",
    "            )\n",
    "        return completion.choices[0].message.content\n",
    "    except Exception as e:\n",
    "    # Handle any other unexpected exceptions\n",
    "        print(f\"An unexpected error occurred: {e}\")\n",
    "        return f\"An unexpected error occurred: {e}\"\n"
   ]
  },
  {
   "cell_type": "code",
   "execution_count": 2,
   "id": "7c0a77f3-1f89-4a0c-bb56-e66b2741624f",
   "metadata": {
    "execution": {
     "iopub.execute_input": "2024-07-24T15:21:16.068473Z",
     "iopub.status.busy": "2024-07-24T15:21:16.068159Z",
     "iopub.status.idle": "2024-07-24T15:21:16.071999Z",
     "shell.execute_reply": "2024-07-24T15:21:16.071321Z",
     "shell.execute_reply.started": "2024-07-24T15:21:16.068455Z"
    },
    "tags": []
   },
   "outputs": [],
   "source": [
    "def re_query(data):\n",
    "    for d in tqdm(data):\n",
    "        query = d['问题']\n",
    "        clause = d['条款']\n",
    "        name = d['产品名']\n",
    "        prompt = get_re_query_prompt(name, clause, query)\n",
    "        d['重述问题'] = qwen_response(prompt)\n",
    "    return data"
   ]
  },
  {
   "cell_type": "code",
   "execution_count": 3,
   "id": "1ad2555a-89a6-48d7-aa98-34ad67cc8f6c",
   "metadata": {
    "ExecutionIndicator": {
     "show": true
    },
    "execution": {
     "iopub.execute_input": "2024-07-24T15:21:16.072892Z",
     "iopub.status.busy": "2024-07-24T15:21:16.072687Z",
     "iopub.status.idle": "2024-07-24T15:21:16.076704Z",
     "shell.execute_reply": "2024-07-24T15:21:16.076126Z",
     "shell.execute_reply.started": "2024-07-24T15:21:16.072874Z"
    },
    "tags": []
   },
   "outputs": [],
   "source": [
    "def completion(data):\n",
    "    for d in tqdm(data):\n",
    "        query = d['问题']\n",
    "        clause = d['条款']\n",
    "        name = d['产品名']\n",
    "        prompt = get_qa_prompt(name, clause, query)\n",
    "        d['prompt'] = prompt\n",
    "        #d['answer'] = get_response(prompt)\n",
    "        #d['answer'] = get_respond(prompt)\n",
    "        #d['original_answer'] = qwen_response(prompt),\n",
    "        d['original_answer'] = get_response(prompt),\n",
    "        d['refine_prompt'] = get_refine_prompt(query, d['original_answer'], name, clause)\n",
    "        d['answer'] =  d['original_answer'] #qwen_response(d['refine_prompt'])\n",
    "    return data"
   ]
  },
  {
   "cell_type": "code",
   "execution_count": 4,
   "id": "9b3ce02f-6c56-4b5f-af8a-cafc12ea95f7",
   "metadata": {
    "ExecutionIndicator": {
     "show": true
    },
    "execution": {
     "iopub.execute_input": "2024-07-24T15:21:16.077611Z",
     "iopub.status.busy": "2024-07-24T15:21:16.077407Z",
     "iopub.status.idle": "2024-07-24T15:21:16.081983Z",
     "shell.execute_reply": "2024-07-24T15:21:16.081366Z",
     "shell.execute_reply.started": "2024-07-24T15:21:16.077583Z"
    },
    "tags": []
   },
   "outputs": [],
   "source": [
    "def evaluation(data, name=\"测试数据\"):\n",
    "    similaritys = []\n",
    "    key_word_simi  = []\n",
    "    for d in tqdm(data):\n",
    "        vec1 = dev_data_embd[d['ID']]\n",
    "        vec2 = get_embedding(d['answer'])\n",
    "        similarity = cosine_similarity(vec1, vec2)\n",
    "        kw_score = key_word_score(d['答案'], d['answer'])\n",
    "        d['similarity'] = similarity\n",
    "        d['key_word_similarity'] = kw_score\n",
    "        similaritys.append(similarity)\n",
    "        key_word_simi.append(kw_score)\n",
    "    length = len(data)\n",
    "    score = sum(similaritys)/length\n",
    "    key_word_simi = sum(key_word_simi)/length\n",
    "    print(f'测评数据集：{length} \\n相识度得分：{score} \\n关键词得分：{key_word_simi}')\n",
    "    df = pd.DataFrame(data)\n",
    "    df.to_excel(f\"{name}_score_{score}.xlsx\", index=False)\n",
    "    return data"
   ]
  },
  {
   "cell_type": "code",
   "execution_count": 5,
   "id": "77369f89-2d8a-483e-b50f-a41ce77e2a9c",
   "metadata": {
    "ExecutionIndicator": {
     "show": true
    },
    "execution": {
     "iopub.execute_input": "2024-07-24T15:21:16.082823Z",
     "iopub.status.busy": "2024-07-24T15:21:16.082647Z",
     "iopub.status.idle": "2024-07-24T15:21:16.086088Z",
     "shell.execute_reply": "2024-07-24T15:21:16.085478Z",
     "shell.execute_reply.started": "2024-07-24T15:21:16.082809Z"
    },
    "tags": []
   },
   "outputs": [],
   "source": [
    "def to_summit_json(data, commit=\"大道至简_result\"):\n",
    "    result = []\n",
    "    for d in data:\n",
    "        rd = {\n",
    "            \"ID\": d['ID'],\n",
    "            \"question\": d['问题'],\n",
    "            \"answer\": d['answer']\n",
    "        }\n",
    "        result.append(rd)\n",
    "    #write_json(result, commit)\n",
    "    write_jsonl(result, commit)"
   ]
  },
  {
   "cell_type": "markdown",
   "id": "c47b107e-4453-4bc6-b33b-0f9e07c4fcdd",
   "metadata": {},
   "source": [
    "### loading data"
   ]
  },
  {
   "cell_type": "code",
   "execution_count": 6,
   "id": "0df35a68-bade-4048-8944-a1d885dff3b3",
   "metadata": {
    "ExecutionIndicator": {
     "show": true
    },
    "execution": {
     "iopub.execute_input": "2024-07-24T15:21:16.087026Z",
     "iopub.status.busy": "2024-07-24T15:21:16.086756Z",
     "iopub.status.idle": "2024-07-24T15:21:16.089541Z",
     "shell.execute_reply": "2024-07-24T15:21:16.088940Z",
     "shell.execute_reply.started": "2024-07-24T15:21:16.087007Z"
    },
    "tags": []
   },
   "outputs": [],
   "source": [
    "# dev_data = read_jsonl(\"dataset/resultdev_with_embedding.jsonl\")\n",
    "# dev_data_embd = {}\n",
    "# for d in dev_data:\n",
    "#     dev_data_embd[d['ID']] = d['ans_embedding']\n",
    "#     d.pop('ans_embedding')\n",
    "# requery_data = re_query(data)\n",
    "# comp_data = completion(dev_data[200:300])\n",
    "# eval_data = evaluation(comp_data)"
   ]
  },
  {
   "cell_type": "code",
   "execution_count": 10,
   "id": "256fa651-bc68-440e-a7d8-2d7fe84232f2",
   "metadata": {
    "ExecutionIndicator": {
     "show": true
    },
    "execution": {
     "iopub.status.idle": "2024-07-24T15:29:03.495660Z",
     "shell.execute_reply": "2024-07-24T15:29:03.495110Z",
     "shell.execute_reply.started": "2024-07-24T15:25:35.402680Z"
    },
    "tags": []
   },
   "outputs": [
    {
     "name": "stderr",
     "output_type": "stream",
     "text": [
      "100%|█████████▉| 998/1000 [03:27<00:00,  4.74it/s]The tokenizer parameter is deprecated and will be removed in a future release. Use a stemmer from PyStemmer instead.\n",
      "100%|█████████▉| 999/1000 [03:27<00:00,  4.73it/s]The tokenizer parameter is deprecated and will be removed in a future release. Use a stemmer from PyStemmer instead.\n",
      "100%|██████████| 1000/1000 [03:27<00:00,  4.81it/s]\n"
     ]
    }
   ],
   "source": [
    "#test_data = read_json(\"dataset/test.json\")\n",
    "from Rag import retrieve_clause\n",
    "test_data = read_jsonl(\"dataset/test-B-0722.json\")\n",
    "for data in tqdm(test_data):\n",
    "    query = data['问题']\n",
    "    data['条款'] = '\\n\\n'.join(retrieve_clause(query))\n",
    "    \n",
    "#from qwen import qwen_response\n",
    "# test_data_result = completion(test_data)\n",
    "# to_summit_json(test_data_result)\n"
   ]
  },
  {
   "cell_type": "code",
   "execution_count": 11,
   "id": "e1c86b40-575d-47ec-9502-63cbcd7331df",
   "metadata": {
    "execution": {
     "iopub.execute_input": "2024-07-24T15:29:18.862510Z",
     "iopub.status.busy": "2024-07-24T15:29:18.862175Z",
     "iopub.status.idle": "2024-07-24T16:39:32.808616Z",
     "shell.execute_reply": "2024-07-24T16:39:32.808083Z",
     "shell.execute_reply.started": "2024-07-24T15:29:18.862492Z"
    },
    "tags": []
   },
   "outputs": [
    {
     "name": "stderr",
     "output_type": "stream",
     "text": [
      "2024-07-24 23:29:19.058988: I tensorflow/core/util/port.cc:153] oneDNN custom operations are on. You may see slightly different numerical results due to floating-point round-off errors from different computation orders. To turn them off, set the environment variable `TF_ENABLE_ONEDNN_OPTS=0`.\n",
      "2024-07-24 23:29:19.070293: E external/local_xla/xla/stream_executor/cuda/cuda_fft.cc:485] Unable to register cuFFT factory: Attempting to register factory for plugin cuFFT when one has already been registered\n",
      "2024-07-24 23:29:19.082668: E external/local_xla/xla/stream_executor/cuda/cuda_dnn.cc:8454] Unable to register cuDNN factory: Attempting to register factory for plugin cuDNN when one has already been registered\n",
      "2024-07-24 23:29:19.086317: E external/local_xla/xla/stream_executor/cuda/cuda_blas.cc:1452] Unable to register cuBLAS factory: Attempting to register factory for plugin cuBLAS when one has already been registered\n",
      "2024-07-24 23:29:19.095966: I tensorflow/core/platform/cpu_feature_guard.cc:210] This TensorFlow binary is optimized to use available CPU instructions in performance-critical operations.\n",
      "To enable the following instructions: AVX2 AVX512F AVX512_VNNI FMA, in other operations, rebuild TensorFlow with the appropriate compiler flags.\n",
      "2024-07-24 23:29:20.187894: W tensorflow/compiler/tf2tensorrt/utils/py_utils.cc:38] TF-TRT Warning: Could not find TensorRT\n",
      "/usr/local/lib/python3.10/site-packages/_distutils_hack/__init__.py:55: UserWarning: Reliance on distutils from stdlib is deprecated. Users must rely on setuptools to provide the distutils module. Avoid importing distutils or import setuptools first, and avoid setting SETUPTOOLS_USE_DISTUTILS=stdlib. Register concerns at https://github.com/pypa/setuptools/issues/new?template=distutils-deprecation.yml\n",
      "  warnings.warn(\n"
     ]
    },
    {
     "data": {
      "application/vnd.jupyter.widget-view+json": {
       "model_id": "b5935b34f94147a68b6261fbdd5f2af8",
       "version_major": 2,
       "version_minor": 0
      },
      "text/plain": [
       "Loading checkpoint shards:   0%|          | 0/4 [00:00<?, ?it/s]"
      ]
     },
     "metadata": {},
     "output_type": "display_data"
    },
    {
     "name": "stderr",
     "output_type": "stream",
     "text": [
      "Special tokens have been added in the vocabulary, make sure the associated word embeddings are fine-tuned or trained.\n",
      "100%|██████████| 1000/1000 [1:09:31<00:00,  4.17s/it]\n"
     ]
    }
   ],
   "source": [
    "from qwen import qwen_response\n",
    "test_data_result = completion(test_data)\n",
    "to_summit_json(test_data_result)"
   ]
  },
  {
   "cell_type": "markdown",
   "id": "86fc179f-60b2-48ea-9a3b-2afd8eecf130",
   "metadata": {},
   "source": [
    "### 参考资料"
   ]
  },
  {
   "cell_type": "markdown",
   "id": "3f0de316-f32f-45dc-9fe5-61129933bf24",
   "metadata": {},
   "source": [
    "https://dashscope.console.aliyun.com/billing"
   ]
  }
 ],
 "metadata": {
  "kernelspec": {
   "display_name": "Python 3 (ipykernel)",
   "language": "python",
   "name": "python3"
  },
  "language_info": {
   "codemirror_mode": {
    "name": "ipython",
    "version": 3
   },
   "file_extension": ".py",
   "mimetype": "text/x-python",
   "name": "python",
   "nbconvert_exporter": "python",
   "pygments_lexer": "ipython3",
   "version": "3.10.14"
  }
 },
 "nbformat": 4,
 "nbformat_minor": 5
}
