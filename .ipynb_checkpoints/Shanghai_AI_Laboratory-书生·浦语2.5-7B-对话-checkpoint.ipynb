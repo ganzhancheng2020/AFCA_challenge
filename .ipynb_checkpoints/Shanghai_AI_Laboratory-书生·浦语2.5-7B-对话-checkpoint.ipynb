{
 "cells": [
  {
   "cell_type": "markdown",
   "id": "03b6e688",
   "metadata": {},
   "source": [
    "# InternLM \n",
    "\n",
    "<div align=\"center\">\n",
    "\n",
    "<img src=\"https://github.com/InternLM/InternLM/assets/22529082/b9788105-8892-4398-8b47-b513a292378e\" width=\"200\"/>\n",
    "  <div>&nbsp;</div>\n",
    "  <div align=\"center\">\n",
    "    <b><font size=\"5\">InternLM</font></b>\n",
    "    <sup>\n",
    "      <a href=\"https://internlm.intern-ai.org.cn/\">\n",
    "        <i><font size=\"4\">HOT</font></i>\n",
    "      </a>\n",
    "    </sup>\n",
    "    <div>&nbsp;</div>\n",
    "  </div>\n",
    "  \n",
    "[![evaluation](https://github.com/InternLM/InternLM/assets/22529082/f80a2a58-5ddf-471a-8da4-32ab65c8fd3b)](https://github.com/internLM/OpenCompass/)\n",
    "\n",
    "[💻Github Repo](https://github.com/InternLM/InternLM) • [🤔Reporting Issues](https://github.com/InternLM/InternLM/issues/new) • [📜Technical Report](https://arxiv.org/abs/2403.17297)\n",
    "\n",
    "</div>\n",
    "\n",
    "<p align=\"center\">\n",
    "    👋 join us on <a href=\"https://discord.gg/xa29JuW87d\" target=\"_blank\">Discord</a> and <a href=\"https://github.com/InternLM/InternLM/assets/25839884/a6aad896-7232-4220-ac84-9e070c2633ce\" target=\"_blank\">WeChat</a>\n",
    "</p>\n",
    "\n",
    "\n",
    "\n",
    "## Introduction\n",
    "\n",
    "InternLM2.5 has open-sourced a 7 billion parameter base model and a chat model tailored for practical scenarios. The model has the following characteristics:\n",
    "\n",
    "- **Outstanding reasoning capability**: State-of-the-art performance on Math reasoning, surpassing models like Llama3 and Gemma2-9B.\n",
    "\n",
    "- **1M Context window**: Nearly perfect at finding needles in the haystack with 1M-long context, with leading performance on long-context tasks like LongBench. Try it with [LMDeploy](https://github.com/InternLM/InternLM/blob/main/chat/lmdeploy.md) for 1M-context inference.\n",
    "\n",
    "- **Stronger tool use**: InternLM2.5 supports gathering information from more than 100 web pages, corresponding implementation will be released in [Lagent](https://github.com/InternLM/lagent/tree/main) soon. InternLM2.5 has better tool utilization-related capabilities in instruction following, tool selection and reflection. See [examples](https://github.com/InternLM/InternLM/blob/main/agent/lagent.md).\n",
    "\n",
    "## InternLM2.5-7B-Chat\n",
    "\n",
    "### Performance Evaluation\n",
    "\n",
    "We conducted a comprehensive evaluation of InternLM using the open-source evaluation tool [OpenCompass](https://github.com/internLM/OpenCompass/). The evaluation covered five dimensions of capabilities: disciplinary competence, language competence, knowledge competence, inference competence, and comprehension competence. Here are some of the evaluation results, and you can visit the [OpenCompass leaderboard](https://rank.opencompass.org.cn) for more evaluation results.\n",
    "\n",
    "| Dataset\\Models |Qwen2-7B-Instruct | Yi-1.5-9B-Chat | GLM-4-9B-Chat | Llama-3-8B-Instruct | Gemma2-9B-IT | InternLM2.5-7B-Chat | Llama-3-70B-Instruct\n",
    "| --- | --- | --- | --- | --- | --- | --- | --- |\n",
    "|MMLU | 70.8 | 71.0 | 71.4 | 68.4 | 70.9 | 72.0 | 80.5\n",
    "|CMMLU | 80.9 | 74.5 | 74.5 | 53.3 | 60.3 | 78.0 | 70.1\n",
    "|BBH |65 |69.6 |69.6 |65.4 |68.2 |69.2 |80.5\n",
    "|MATH | 48.6 | 51.1 | 51.1 | 27.9 | 46.9 | 60.7 | 47.1\n",
    "| GSM8K | 82.9 | 80.1 | 85.3 | 72.9 | 88.9 | 86.0 | 92.8\n",
    "|GPQA | 38.4 | 37.9 | 36.9 | 26.3 | 33.8 | 38.4 | 38.9\n",
    "\n",
    "\n",
    "- The evaluation results were obtained from [OpenCompass](https://github.com/internLM/OpenCompass/) (some data marked with *, which means come from the original papers), and evaluation configuration can be found in the configuration files provided by [OpenCompass](https://github.com/internLM/OpenCompass/). \n",
    "- The evaluation data may have numerical differences due to the version iteration of [OpenCompass](https://github.com/internLM/OpenCompass/), so please refer to the latest evaluation results of [OpenCompass](https://github.com/internLM/OpenCompass/).\n",
    "\n",
    "\n",
    "**Limitations:** Although we have made efforts to ensure the safety of the model during the training process and to encourage the model to generate text that complies with ethical and legal requirements, the model may still produce unexpected outputs due to its size and probabilistic generation paradigm. For example, the generated responses may contain biases, discrimination, or other harmful content. Please do not propagate such content. We are not responsible for any consequences resulting from the dissemination of harmful information.\n",
    "\n",
    "### Import from Transformers\n",
    "\n",
    "To load the InternLM2.5 7B Chat model using Transformers, use the following code:\n",
    "\n",
    "\n"
   ]
  },
  {
   "cell_type": "code",
   "execution_count": null,
   "id": "4619eb5e",
   "metadata": {},
   "outputs": [],
   "source": [
    "import torch\n",
    "from transformers import AutoTokenizer, AutoModelForCausalLM\n",
    "tokenizer = AutoTokenizer.from_pretrained(\"internlm/internlm2_5-7b-chat\", trust_remote_code=True)\n",
    "# Set `torch_dtype=torch.float16` to load model in float16, otherwise it will be loaded as float32 and cause OOM Error.\n",
    "model = AutoModelForCausalLM.from_pretrained(\"internlm/internlm2_5-7b-chat\", torch_dtype=torch.float16, trust_remote_code=True).cuda()\n",
    "model = model.eval()\n",
    "response, history = model.chat(tokenizer, \"hello\", history=[])\n",
    "print(response)\n",
    "# Hello! How can I help you today?\n",
    "response, history = model.chat(tokenizer, \"please provide three suggestions about time management\", history=history)\n",
    "print(response)"
   ]
  },
  {
   "cell_type": "markdown",
   "id": "70163219",
   "metadata": {},
   "source": [
    "\n",
    "\n",
    "The responses can be streamed using `stream_chat`:\n",
    "\n",
    "\n"
   ]
  },
  {
   "cell_type": "code",
   "execution_count": null,
   "id": "8d9ad2fa",
   "metadata": {},
   "outputs": [],
   "source": [
    "import torch\n",
    "from transformers import AutoModelForCausalLM, AutoTokenizer\n",
    "\n",
    "model_path = \"internlm/internlm2_5-7b-chat\"\n",
    "model = AutoModelForCausalLM.from_pretrained(model_path, torch_dtype=torch.float16, trust_remote_code=True).cuda()\n",
    "tokenizer = AutoTokenizer.from_pretrained(model_path, trust_remote_code=True)\n",
    "\n",
    "model = model.eval()\n",
    "length = 0\n",
    "for response, history in model.stream_chat(tokenizer, \"Hello\", history=[]):\n",
    "    print(response[length:], flush=True, end=\"\")\n",
    "    length = len(response)"
   ]
  },
  {
   "cell_type": "markdown",
   "id": "c80fe09a",
   "metadata": {},
   "source": [
    "\n",
    "\n",
    "## Deployment\n",
    "\n",
    "### LMDeploy\n",
    "\n",
    "LMDeploy is a toolkit for compressing, deploying, and serving LLM, developed by the MMRazor and MMDeploy teams.\n",
    "\n",
    "\n"
   ]
  },
  {
   "cell_type": "code",
   "execution_count": null,
   "id": "b2dff0c9",
   "metadata": {},
   "outputs": [],
   "source": [
    "pip install lmdeploy"
   ]
  },
  {
   "cell_type": "markdown",
   "id": "5a6ded08",
   "metadata": {},
   "source": [
    "\n",
    "\n",
    "You can run batch inference locally with the following python code:\n",
    "\n",
    "\n"
   ]
  },
  {
   "cell_type": "code",
   "execution_count": null,
   "id": "01503018",
   "metadata": {},
   "outputs": [],
   "source": [
    "import lmdeploy\n",
    "pipe = lmdeploy.pipeline(\"internlm/internlm2_5-7b-chat\")\n",
    "response = pipe([\"Hi, pls intro yourself\", \"Shanghai is\"])\n",
    "print(response)"
   ]
  },
  {
   "cell_type": "markdown",
   "id": "f2b7a07b",
   "metadata": {},
   "source": [
    "\n",
    "\n",
    "Or you can launch an OpenAI compatible server with the following command:\n",
    "\n",
    "\n"
   ]
  },
  {
   "cell_type": "code",
   "execution_count": null,
   "id": "26b43591",
   "metadata": {},
   "outputs": [],
   "source": [
    "lmdeploy serve api_server internlm/internlm2_5-7b-chat --model-name internlm2_5-7b-chat --server-port 23333"
   ]
  },
  {
   "cell_type": "markdown",
   "id": "a46fec85",
   "metadata": {},
   "source": [
    "\n",
    "\n",
    "Then you can send a chat request to the server:\n",
    "\n",
    "\n"
   ]
  },
  {
   "cell_type": "code",
   "execution_count": null,
   "id": "048196f0",
   "metadata": {},
   "outputs": [],
   "source": [
    "curl http://localhost:23333/v1/chat/completions \\\n",
    "    -H \"Content-Type: application/json\" \\\n",
    "    -d '{\n",
    "    \"model\": \"internlm2_5-7b-chat\",\n",
    "    \"messages\": [\n",
    "    {\"role\": \"system\", \"content\": \"You are a helpful assistant.\"},\n",
    "    {\"role\": \"user\", \"content\": \"Introduce deep learning to me.\"}\n",
    "    ]\n",
    "    }'"
   ]
  },
  {
   "cell_type": "markdown",
   "id": "3b4b66f5",
   "metadata": {},
   "source": [
    "\n",
    "\n",
    "Find more details in the [LMDeploy documentation](https://lmdeploy.readthedocs.io/en/latest/)\n",
    "\n",
    "### vLLM\n",
    "\n",
    "Launch OpenAI compatible server with `vLLM>=0.3.2`:\n",
    "\n",
    "\n"
   ]
  },
  {
   "cell_type": "code",
   "execution_count": null,
   "id": "376d6090",
   "metadata": {},
   "outputs": [],
   "source": [
    "pip install vllm"
   ]
  },
  {
   "cell_type": "markdown",
   "id": "9266f3c6",
   "metadata": {},
   "source": [
    "\n",
    "\n",
    "\n"
   ]
  },
  {
   "cell_type": "code",
   "execution_count": null,
   "id": "92441b25",
   "metadata": {},
   "outputs": [],
   "source": [
    "python -m vllm.entrypoints.openai.api_server --model internlm/internlm2_5-7b-chat --served-model-name internlm2_5-7b-chat --trust-remote-code"
   ]
  },
  {
   "cell_type": "markdown",
   "id": "afeea33d",
   "metadata": {},
   "source": [
    "\n",
    "\n",
    "Then you can send a chat request to the server:\n",
    "\n",
    "\n"
   ]
  },
  {
   "cell_type": "code",
   "execution_count": null,
   "id": "52b41ff5",
   "metadata": {},
   "outputs": [],
   "source": [
    "curl http://localhost:8000/v1/chat/completions \\\n",
    "    -H \"Content-Type: application/json\" \\\n",
    "    -d '{\n",
    "    \"model\": \"internlm2_5-7b-chat\",\n",
    "    \"messages\": [\n",
    "    {\"role\": \"system\", \"content\": \"You are a helpful assistant.\"},\n",
    "    {\"role\": \"user\", \"content\": \"Introduce deep learning to me.\"}\n",
    "    ]\n",
    "    }'"
   ]
  },
  {
   "cell_type": "markdown",
   "id": "7c8beb5a",
   "metadata": {},
   "source": [
    "\n",
    "\n",
    "Find more details in the [vLLM documentation](https://docs.vllm.ai/en/latest/index.html)\n",
    "\n",
    "## Open Source License\n",
    "\n",
    "The code is licensed under Apache-2.0, while model weights are fully open for academic research and also allow **free** commercial usage. To apply for a commercial license, please fill in the [application form (English)](https://wj.qq.com/s2/12727483/5dba/)/[申请表（中文）](https://wj.qq.com/s2/12725412/f7c1/). For other questions or collaborations, please contact <internlm@pjlab.org.cn>.\n",
    "\n",
    "## Citation\n",
    "\n",
    "```\n",
    "@misc{cai2024internlm2,\n",
    "      title={InternLM2 Technical Report},\n",
    "      author={Zheng Cai and Maosong Cao and Haojiong Chen and Kai Chen and Keyu Chen and Xin Chen and Xun Chen and Zehui Chen and Zhi Chen and Pei Chu and Xiaoyi Dong and Haodong Duan and Qi Fan and Zhaoye Fei and Yang Gao and Jiaye Ge and Chenya Gu and Yuzhe Gu and Tao Gui and Aijia Guo and Qipeng Guo and Conghui He and Yingfan Hu and Ting Huang and Tao Jiang and Penglong Jiao and Zhenjiang Jin and Zhikai Lei and Jiaxing Li and Jingwen Li and Linyang Li and Shuaibin Li and Wei Li and Yining Li and Hongwei Liu and Jiangning Liu and Jiawei Hong and Kaiwen Liu and Kuikun Liu and Xiaoran Liu and Chengqi Lv and Haijun Lv and Kai Lv and Li Ma and Runyuan Ma and Zerun Ma and Wenchang Ning and Linke Ouyang and Jiantao Qiu and Yuan Qu and Fukai Shang and Yunfan Shao and Demin Song and Zifan Song and Zhihao Sui and Peng Sun and Yu Sun and Huanze Tang and Bin Wang and Guoteng Wang and Jiaqi Wang and Jiayu Wang and Rui Wang and Yudong Wang and Ziyi Wang and Xingjian Wei and Qizhen Weng and Fan Wu and Yingtong Xiong and Chao Xu and Ruiliang Xu and Hang Yan and Yirong Yan and Xiaogui Yang and Haochen Ye and Huaiyuan Ying and Jia Yu and Jing Yu and Yuhang Zang and Chuyu Zhang and Li Zhang and Pan Zhang and Peng Zhang and Ruijie Zhang and Shuo Zhang and Songyang Zhang and Wenjian Zhang and Wenwei Zhang and Xingcheng Zhang and Xinyue Zhang and Hui Zhao and Qian Zhao and Xiaomeng Zhao and Fengzhe Zhou and Zaida Zhou and Jingming Zhuo and Yicheng Zou and Xipeng Qiu and Yu Qiao and Dahua Lin},\n",
    "      year={2024},\n",
    "      eprint={2403.17297},\n",
    "      archivePrefix={arXiv},\n",
    "      primaryClass={cs.CL}\n",
    "}\n",
    "```\n",
    "\n",
    "## 简介\n",
    "\n",
    "InternLM2.5 ，即书生·浦语大模型第 2.5 代，开源了面向实用场景的70亿参数基础模型与对话模型 （InternLM2.5-7B-Chat）。模型具有以下特点：\n",
    "\n",
    "- 卓越的推理性能：在数学推理方面取得了同量级模型最优精度，超越了 Llama3 和 Gemma2-9B。\n",
    "- 有效支持百万字超长上下文：模型在 1 百万字长输入中几乎完美地实现长文“大海捞针”，而且在 LongBench 等长文任务中的表现也达到开源模型中的领先水平。 可以通过 [LMDeploy](https://github.com/InternLM/InternLM/blob/main/chat/lmdeploy_zh_cn.md) 尝试百万字超长上下文推理。\n",
    "- 工具调用能力整体升级：InternLM2.5 支持从上百个网页搜集有效信息进行分析推理，相关实现将于近期开源到 [Lagent](https://github.com/InternLM/lagent/tree/main)。InternLM2.5 具有更强和更具有泛化性的指令理解、工具筛选与结果反思等能力，新版模型可以更可靠地支持复杂智能体的搭建，支持对工具进行有效的多轮调用，完成较复杂的任务。可以查看更多[样例](https://github.com/InternLM/InternLM/blob/main/agent/lagent.md)。\n",
    "\n",
    "## InternLM2.5-7B-Chat\n",
    "\n",
    "### 性能评测\n",
    "\n",
    "我们使用开源评测工具 [OpenCompass](https://github.com/internLM/OpenCompass/) 从学科综合能力、语言能力、知识能力、推理能力、理解能力五大能力维度对InternLM开展全面评测，部分评测结果如下表所示，欢迎访问[ OpenCompass 榜单 ](https://rank.opencompass.org.cn)获取更多的评测结果。\n",
    "\n",
    "| 评测集\\模型 |Qwen2-7B-Instruct | Yi-1.5-9B-Chat | GLM-4-9B-Chat | Llama-3-8B-Instruct | Gemma2-9B-IT | InternLM2.5-7B-Chat | Llama-3-70B-Instruct\n",
    "| --- | --- | --- | --- | --- | --- | --- | --- |\n",
    "|MMLU | 70.8 | 71.0 | 71.4 | 68.4 | 70.9 | 72.0 | 80.5\n",
    "|CMMLU | 80.9 | 74.5 | 74.5 | 53.3 | 60.3 | 78.0 | 70.1\n",
    "|BBH |65 |69.6 |69.6 |65.4 |68.2 |69.2 |80.5\n",
    "|MATH | 48.6 | 51.1 | 51.1 | 27.9 | 46.9 | 60.7 | 47.1\n",
    "| GSM8K | 82.9 | 80.1 | 85.3 | 72.9 | 88.9 | 86.0 | 86.6\n",
    "|GPQA | 38.4 | 37.9 | 36.9 | 26.3 | 33.8 | 38.4 | 38.9\n",
    "\n",
    "- 以上评测结果基于 [OpenCompass](https://github.com/internLM/OpenCompass/) 获得（部分数据标注`*`代表数据来自原始论文），具体测试细节可参见 [OpenCompass](https://github.com/internLM/OpenCompass/) 中提供的配置文件。\n",
    "- 评测数据会因 [OpenCompass](https://github.com/internLM/OpenCompass/) 的版本迭代而存在数值差异，请以 [OpenCompass](https://github.com/internLM/OpenCompass/) 最新版的评测结果为主。\n",
    "\n",
    "**局限性：** 尽管在训练过程中我们非常注重模型的安全性，尽力促使模型输出符合伦理和法律要求的文本，但受限于模型大小以及概率生成范式，模型可能会产生各种不符合预期的输出，例如回复内容包含偏见、歧视等有害内容，请勿传播这些内容。由于传播不良信息导致的任何后果，本项目不承担责任。\n",
    "\n",
    "### 通过 Transformers 加载\n",
    "\n",
    "通过以下的代码加载 InternLM2.5 7B Chat 模型\n",
    "\n",
    "\n"
   ]
  },
  {
   "cell_type": "code",
   "execution_count": null,
   "id": "d4fd8975",
   "metadata": {},
   "outputs": [],
   "source": [
    "import torch\n",
    "from transformers import AutoTokenizer, AutoModelForCausalLM\n",
    "tokenizer = AutoTokenizer.from_pretrained(\"internlm/internlm2_5-7b-chat\", trust_remote_code=True)\n",
    "# `torch_dtype=torch.float16` 可以令模型以 float16 精度加载，否则 transformers 会将模型加载为 float32，导致显存不足\n",
    "model = AutoModelForCausalLM.from_pretrained(\"internlm/internlm2_5-7b-chat\", torch_dtype=torch.float16, trust_remote_code=True).cuda()\n",
    "model = model.eval()\n",
    "response, history = model.chat(tokenizer, \"你好\", history=[])\n",
    "print(response)\n",
    "# 你好！有什么我可以帮助你的吗？\n",
    "response, history = model.chat(tokenizer, \"请提供三个管理时间的建议。\", history=history)\n",
    "print(response)"
   ]
  },
  {
   "cell_type": "markdown",
   "id": "0eba6e15",
   "metadata": {},
   "source": [
    "\n",
    "\n",
    "如果想进行流式生成，则可以使用 `stream_chat` 接口：\n",
    "\n",
    "\n"
   ]
  },
  {
   "cell_type": "code",
   "execution_count": null,
   "id": "fc74112f",
   "metadata": {},
   "outputs": [],
   "source": [
    "import torch\n",
    "from transformers import AutoModelForCausalLM, AutoTokenizer\n",
    "\n",
    "model_path = \"internlm/internlm2_5-7b-chat\"\n",
    "model = AutoModelForCausalLM.from_pretrained(model_path, torch_dype=torch.float16, trust_remote_code=True).cuda()\n",
    "tokenizer = AutoTokenizer.from_pretrained(model_path, trust_remote_code=True)\n",
    "\n",
    "model = model.eval()\n",
    "length = 0\n",
    "for response, history in model.stream_chat(tokenizer, \"你好\", history=[]):\n",
    "    print(response[length:], flush=True, end=\"\")\n",
    "    length = len(response)"
   ]
  },
  {
   "cell_type": "markdown",
   "id": "bfbe3369",
   "metadata": {},
   "source": [
    "\n",
    "\n",
    "## 部署\n",
    "\n",
    "### LMDeploy\n",
    "\n",
    "LMDeploy 由 MMDeploy 和 MMRazor 团队联合开发，是涵盖了 LLM 任务的全套轻量化、部署和服务解决方案。\n",
    "\n",
    "\n"
   ]
  },
  {
   "cell_type": "code",
   "execution_count": null,
   "id": "81885bea",
   "metadata": {},
   "outputs": [],
   "source": [
    "pip install lmdeploy"
   ]
  },
  {
   "cell_type": "markdown",
   "id": "6bb206cd",
   "metadata": {},
   "source": [
    "\n",
    "\n",
    "你可以使用以下 python 代码进行本地批量推理:\n",
    "\n",
    "\n"
   ]
  },
  {
   "cell_type": "code",
   "execution_count": null,
   "id": "24346b9a",
   "metadata": {},
   "outputs": [],
   "source": [
    "import lmdeploy\n",
    "pipe = lmdeploy.pipeline(\"internlm/internlm2_5-7b-chat\")\n",
    "response = pipe([\"Hi, pls intro yourself\", \"Shanghai is\"])\n",
    "print(response)"
   ]
  },
  {
   "cell_type": "markdown",
   "id": "13f117cb",
   "metadata": {},
   "source": [
    "\n",
    "\n",
    "或者你可以使用以下命令启动兼容 OpenAI API 的服务:\n",
    "\n",
    "\n"
   ]
  },
  {
   "cell_type": "code",
   "execution_count": null,
   "id": "a6c6734c",
   "metadata": {},
   "outputs": [],
   "source": [
    "lmdeploy serve api_server internlm/internlm2_5-7b-chat --server-port 23333"
   ]
  },
  {
   "cell_type": "markdown",
   "id": "bdb5eeb3",
   "metadata": {},
   "source": [
    "\n",
    "\n",
    "然后你可以向服务端发起一个聊天请求:\n",
    "\n",
    "\n"
   ]
  },
  {
   "cell_type": "code",
   "execution_count": null,
   "id": "c8fa420d",
   "metadata": {},
   "outputs": [],
   "source": [
    "curl http://localhost:23333/v1/chat/completions \\\n",
    "    -H \"Content-Type: application/json\" \\\n",
    "    -d '{\n",
    "    \"model\": \"internlm2_5-7b-chat\",\n",
    "    \"messages\": [\n",
    "    {\"role\": \"system\", \"content\": \"你是个友善的AI助手。\"},\n",
    "    {\"role\": \"user\", \"content\": \"介绍一下深度学习。\"}\n",
    "    ]\n",
    "    }'"
   ]
  },
  {
   "cell_type": "markdown",
   "id": "5f890658",
   "metadata": {},
   "source": [
    "\n",
    "\n",
    "更多信息请查看 [LMDeploy 文档](https://lmdeploy.readthedocs.io/en/latest/)\n",
    "\n",
    "### vLLM\n",
    "\n",
    "使用`vLLM>=0.3.2`启动兼容 OpenAI API 的服务:\n",
    "\n",
    "\n"
   ]
  },
  {
   "cell_type": "code",
   "execution_count": null,
   "id": "d9d1dfb8",
   "metadata": {},
   "outputs": [],
   "source": [
    "pip install vllm"
   ]
  },
  {
   "cell_type": "markdown",
   "id": "5ed245b1",
   "metadata": {},
   "source": [
    "\n",
    "\n",
    "\n"
   ]
  },
  {
   "cell_type": "code",
   "execution_count": null,
   "id": "3dd935d0",
   "metadata": {},
   "outputs": [],
   "source": [
    "python -m vllm.entrypoints.openai.api_server --model internlm/internlm2_5-7b-chat --trust-remote-code"
   ]
  },
  {
   "cell_type": "markdown",
   "id": "38229f27",
   "metadata": {},
   "source": [
    "\n",
    "\n",
    "然后你可以向服务端发起一个聊天请求:\n",
    "\n",
    "\n"
   ]
  },
  {
   "cell_type": "code",
   "execution_count": null,
   "id": "213a18f8",
   "metadata": {},
   "outputs": [],
   "source": [
    "curl http://localhost:8000/v1/chat/completions \\\n",
    "    -H \"Content-Type: application/json\" \\\n",
    "    -d '{\n",
    "    \"model\": \"internlm2_5-7b-chat\",\n",
    "    \"messages\": [\n",
    "    {\"role\": \"system\", \"content\": \"你是个友善的AI助手。\"},\n",
    "    {\"role\": \"user\", \"content\": \"介绍一下深度学习。\"}\n",
    "    ]\n",
    "    }'"
   ]
  },
  {
   "cell_type": "markdown",
   "id": "d7c5e181",
   "metadata": {},
   "source": [
    "\n",
    "\n",
    "更多信息请查看 [vLLM 文档](https://docs.vllm.ai/en/latest/index.html)\n",
    "\n",
    "## 开源许可证\n",
    "\n",
    "本仓库的代码依照 Apache-2.0 协议开源。模型权重对学术研究完全开放，也可申请免费的商业使用授权（[申请表](https://wj.qq.com/s2/12725412/f7c1/)）。其他问题与合作请联系 <internlm@pjlab.org.cn>。\n",
    "\n",
    "## 引用\n",
    "\n",
    "```\n",
    "@misc{cai2024internlm2,\n",
    "      title={InternLM2 Technical Report},\n",
    "      author={Zheng Cai and Maosong Cao and Haojiong Chen and Kai Chen and Keyu Chen and Xin Chen and Xun Chen and Zehui Chen and Zhi Chen and Pei Chu and Xiaoyi Dong and Haodong Duan and Qi Fan and Zhaoye Fei and Yang Gao and Jiaye Ge and Chenya Gu and Yuzhe Gu and Tao Gui and Aijia Guo and Qipeng Guo and Conghui He and Yingfan Hu and Ting Huang and Tao Jiang and Penglong Jiao and Zhenjiang Jin and Zhikai Lei and Jiaxing Li and Jingwen Li and Linyang Li and Shuaibin Li and Wei Li and Yining Li and Hongwei Liu and Jiangning Liu and Jiawei Hong and Kaiwen Liu and Kuikun Liu and Xiaoran Liu and Chengqi Lv and Haijun Lv and Kai Lv and Li Ma and Runyuan Ma and Zerun Ma and Wenchang Ning and Linke Ouyang and Jiantao Qiu and Yuan Qu and Fukai Shang and Yunfan Shao and Demin Song and Zifan Song and Zhihao Sui and Peng Sun and Yu Sun and Huanze Tang and Bin Wang and Guoteng Wang and Jiaqi Wang and Jiayu Wang and Rui Wang and Yudong Wang and Ziyi Wang and Xingjian Wei and Qizhen Weng and Fan Wu and Yingtong Xiong and Chao Xu and Ruiliang Xu and Hang Yan and Yirong Yan and Xiaogui Yang and Haochen Ye and Huaiyuan Ying and Jia Yu and Jing Yu and Yuhang Zang and Chuyu Zhang and Li Zhang and Pan Zhang and Peng Zhang and Ruijie Zhang and Shuo Zhang and Songyang Zhang and Wenjian Zhang and Wenwei Zhang and Xingcheng Zhang and Xinyue Zhang and Hui Zhao and Qian Zhao and Xiaomeng Zhao and Fengzhe Zhou and Zaida Zhou and Jingming Zhuo and Yicheng Zou and Xipeng Qiu and Yu Qiao and Dahua Lin},\n",
    "      year={2024},\n",
    "      eprint={2403.17297},\n",
    "      archivePrefix={arXiv},\n",
    "      primaryClass={cs.CL}\n",
    "}\n",
    "```\n",
    "\n"
   ]
  }
 ],
 "metadata": {},
 "nbformat": 4,
 "nbformat_minor": 5
}
