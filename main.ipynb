{
 "cells": [
  {
   "cell_type": "code",
   "execution_count": 1,
   "id": "65b94a19-e36c-4e18-80f2-93261b367201",
   "metadata": {
    "ExecutionIndicator": {
     "show": true
    },
    "execution": {
     "iopub.execute_input": "2024-07-18T15:44:13.716935Z",
     "iopub.status.busy": "2024-07-18T15:44:13.716402Z",
     "iopub.status.idle": "2024-07-18T15:45:10.238745Z",
     "shell.execute_reply": "2024-07-18T15:45:10.238184Z",
     "shell.execute_reply.started": "2024-07-18T15:44:13.716896Z"
    },
    "tags": []
   },
   "outputs": [
    {
     "name": "stderr",
     "output_type": "stream",
     "text": [
      "/usr/local/lib/python3.10/site-packages/tqdm/auto.py:21: TqdmWarning: IProgress not found. Please update jupyter and ipywidgets. See https://ipywidgets.readthedocs.io/en/stable/user_install.html\n",
      "  from .autonotebook import tqdm as notebook_tqdm\n",
      "2024-07-18 23:44:18.198962: I tensorflow/core/util/port.cc:113] oneDNN custom operations are on. You may see slightly different numerical results due to floating-point round-off errors from different computation orders. To turn them off, set the environment variable `TF_ENABLE_ONEDNN_OPTS=0`.\n",
      "2024-07-18 23:44:18.241319: I tensorflow/core/platform/cpu_feature_guard.cc:210] This TensorFlow binary is optimized to use available CPU instructions in performance-critical operations.\n",
      "To enable the following instructions: AVX2 AVX512F AVX512_VNNI FMA, in other operations, rebuild TensorFlow with the appropriate compiler flags.\n",
      "2024-07-18 23:44:19.623586: W tensorflow/compiler/tf2tensorrt/utils/py_utils.cc:38] TF-TRT Warning: Could not find TensorRT\n",
      "Loading checkpoint shards: 100%|██████████| 4/4 [00:42<00:00, 10.63s/it]\n",
      "Special tokens have been added in the vocabulary, make sure the associated word embeddings are fine-tuned or trained.\n"
     ]
    }
   ],
   "source": [
    "from openai import OpenAI\n",
    "import os\n",
    "from dotenv import dotenv_values\n",
    "from ReadLoad import read_jsonl, write_jsonl, read_json,write_json\n",
    "from tqdm import tqdm\n",
    "from evaluation import get_embedding, cosine_similarity\n",
    "from prompt_template import get_sys_prompt, get_qa_prompt\n",
    "#from shusheng import  get_respond\n",
    "from qwen import qwen_response\n",
    "import pandas as pd\n",
    "import time\n",
    "\n",
    "config = dotenv_values('.env')\n",
    "client = OpenAI(\n",
    "    api_key=config['qwen_key'],\n",
    "    base_url=config['qwen_url']\n",
    ")\n",
    "\n",
    "\n",
    "def get_response(prompt):\n",
    "    time.sleep(0.1)\n",
    "    try:\n",
    "        completion = client.chat.completions.create(\n",
    "            model=\"qwen2-7b-instruct\",\n",
    "            messages=[\n",
    "                {'role': 'system', 'content': get_sys_prompt()},\n",
    "                {'role': 'user', 'content': prompt}\n",
    "            ]\n",
    "\n",
    "            )\n",
    "        return completion.choices[0].message.content\n",
    "    except Exception as e:\n",
    "    # Handle any other unexpected exceptions\n",
    "        print(f\"An unexpected error occurred: {e}\")\n",
    "        return f\"An unexpected error occurred: {e}\"\n"
   ]
  },
  {
   "cell_type": "code",
   "execution_count": 2,
   "id": "1ad2555a-89a6-48d7-aa98-34ad67cc8f6c",
   "metadata": {
    "ExecutionIndicator": {
     "show": true
    },
    "execution": {
     "iopub.execute_input": "2024-07-18T15:45:10.240386Z",
     "iopub.status.busy": "2024-07-18T15:45:10.239948Z",
     "iopub.status.idle": "2024-07-18T15:45:10.244035Z",
     "shell.execute_reply": "2024-07-18T15:45:10.243578Z",
     "shell.execute_reply.started": "2024-07-18T15:45:10.240367Z"
    },
    "tags": []
   },
   "outputs": [],
   "source": [
    "def completion(data):\n",
    "    for d in tqdm(data):\n",
    "        query = d['问题']\n",
    "        clause = d['条款']\n",
    "        name = d['产品名']\n",
    "        prompt = get_qa_prompt(name,clause,query)\n",
    "        d['prompt'] = prompt\n",
    "        #d['answer'] = get_response(prompt)\n",
    "        #d['answer'] = get_respond(prompt)\n",
    "        d['answer'] = qwen_response(prompt)\n",
    "    return data"
   ]
  },
  {
   "cell_type": "code",
   "execution_count": 3,
   "id": "9b3ce02f-6c56-4b5f-af8a-cafc12ea95f7",
   "metadata": {
    "ExecutionIndicator": {
     "show": true
    },
    "execution": {
     "iopub.execute_input": "2024-07-18T15:45:10.245072Z",
     "iopub.status.busy": "2024-07-18T15:45:10.244748Z",
     "iopub.status.idle": "2024-07-18T15:45:10.249016Z",
     "shell.execute_reply": "2024-07-18T15:45:10.248490Z",
     "shell.execute_reply.started": "2024-07-18T15:45:10.245054Z"
    },
    "tags": []
   },
   "outputs": [],
   "source": [
    "def evaluation(data, name=\"测试数据\"):\n",
    "    similaritys = []\n",
    "    for d in tqdm(data):\n",
    "        vec1 = dev_data_embd[d['ID']]\n",
    "        vec2 = get_embedding(d['answer'])\n",
    "        similarity = cosine_similarity(vec1, vec2)\n",
    "        d['similarity'] = similarity\n",
    "        similaritys.append(similarity)\n",
    "    length = len(data)\n",
    "    score = sum(similaritys)/length\n",
    "    print(f'测评数据集：{length} 模型推理结果与答案的相识度得分：{score}')\n",
    "    df = pd.DataFrame(data)\n",
    "    df.to_excel(f\"{name}_score_{score}.xlsx\", index=False)\n",
    "    return data"
   ]
  },
  {
   "cell_type": "code",
   "execution_count": 4,
   "id": "77369f89-2d8a-483e-b50f-a41ce77e2a9c",
   "metadata": {
    "ExecutionIndicator": {
     "show": true
    },
    "execution": {
     "iopub.execute_input": "2024-07-18T15:45:10.249952Z",
     "iopub.status.busy": "2024-07-18T15:45:10.249738Z",
     "iopub.status.idle": "2024-07-18T15:45:10.253345Z",
     "shell.execute_reply": "2024-07-18T15:45:10.252682Z",
     "shell.execute_reply.started": "2024-07-18T15:45:10.249936Z"
    },
    "tags": []
   },
   "outputs": [],
   "source": [
    "def to_summit_json(data, commit=\"大道至简_result\"):\n",
    "    result = []\n",
    "    for d in data:\n",
    "        rd = {\n",
    "            \"ID\": d['ID'],\n",
    "            \"question\": d['问题'],\n",
    "            \"answer\": d['answer']\n",
    "        }\n",
    "        result.append(rd)\n",
    "    #write_json(result, commit)\n",
    "    write_jsonl(result, commit)"
   ]
  },
  {
   "cell_type": "markdown",
   "id": "c47b107e-4453-4bc6-b33b-0f9e07c4fcdd",
   "metadata": {},
   "source": [
    "### loading data"
   ]
  },
  {
   "cell_type": "code",
   "execution_count": 5,
   "id": "0df35a68-bade-4048-8944-a1d885dff3b3",
   "metadata": {
    "ExecutionIndicator": {
     "show": true
    },
    "execution": {
     "iopub.execute_input": "2024-07-18T15:45:10.254318Z",
     "iopub.status.busy": "2024-07-18T15:45:10.254087Z",
     "iopub.status.idle": "2024-07-18T15:45:10.264960Z",
     "shell.execute_reply": "2024-07-18T15:45:10.264452Z",
     "shell.execute_reply.started": "2024-07-18T15:45:10.254301Z"
    },
    "tags": []
   },
   "outputs": [],
   "source": [
    "test_data = read_json(\"dataset/test.json\")\n",
    "# dev_data = read_jsonl(\"dataset/resultdev_with_embedding.jsonl\")\n",
    "# dev_data_embd = {}\n",
    "# for d in dev_data:\n",
    "#     dev_data_embd[d['ID']] = d['ans_embedding']\n",
    "#     d.pop('ans_embedding')"
   ]
  },
  {
   "cell_type": "code",
   "execution_count": 6,
   "id": "256fa651-bc68-440e-a7d8-2d7fe84232f2",
   "metadata": {
    "ExecutionIndicator": {
     "show": true
    },
    "execution": {
     "iopub.execute_input": "2024-07-18T15:45:10.265979Z",
     "iopub.status.busy": "2024-07-18T15:45:10.265714Z",
     "iopub.status.idle": "2024-07-18T16:10:36.562691Z",
     "shell.execute_reply": "2024-07-18T16:10:36.562118Z",
     "shell.execute_reply.started": "2024-07-18T15:45:10.265960Z"
    },
    "tags": []
   },
   "outputs": [
    {
     "name": "stderr",
     "output_type": "stream",
     "text": [
      "100%|██████████| 1000/1000 [25:26<00:00,  1.53s/it]\n"
     ]
    }
   ],
   "source": [
    "# 将数据也移到GPU上\n",
    "# comp_data = completion(dev_data[:100])\n",
    "# eval_data = evaluation(comp_data)\n",
    "\n",
    "test_data_result = completion(test_data)\n",
    "to_summit_json(test_data_result)\n"
   ]
  },
  {
   "cell_type": "code",
   "execution_count": 7,
   "id": "b1aef090-1de2-477f-a3d0-2ce7c1389335",
   "metadata": {
    "ExecutionIndicator": {
     "show": true
    },
    "execution": {
     "iopub.execute_input": "2024-07-18T16:10:36.564788Z",
     "iopub.status.busy": "2024-07-18T16:10:36.564116Z",
     "iopub.status.idle": "2024-07-18T16:10:37.217434Z",
     "shell.execute_reply": "2024-07-18T16:10:37.216803Z",
     "shell.execute_reply.started": "2024-07-18T16:10:36.564760Z"
    },
    "tags": []
   },
   "outputs": [
    {
     "data": {
      "text/plain": [
       "'你好！有什么关于保险条款的问题我可以帮助你解答吗？'"
      ]
     },
     "execution_count": 7,
     "metadata": {},
     "output_type": "execute_result"
    }
   ],
   "source": [
    "from qwen import qwen_response\n",
    "qwen_response(\"你好\")"
   ]
  },
  {
   "cell_type": "markdown",
   "id": "86fc179f-60b2-48ea-9a3b-2afd8eecf130",
   "metadata": {},
   "source": [
    "### 参考资料"
   ]
  },
  {
   "cell_type": "markdown",
   "id": "3f0de316-f32f-45dc-9fe5-61129933bf24",
   "metadata": {},
   "source": [
    "https://dashscope.console.aliyun.com/billing"
   ]
  }
 ],
 "metadata": {
  "kernelspec": {
   "display_name": "Python 3 (ipykernel)",
   "language": "python",
   "name": "python3"
  },
  "language_info": {
   "codemirror_mode": {
    "name": "ipython",
    "version": 3
   },
   "file_extension": ".py",
   "mimetype": "text/x-python",
   "name": "python",
   "nbconvert_exporter": "python",
   "pygments_lexer": "ipython3",
   "version": "3.10.14"
  }
 },
 "nbformat": 4,
 "nbformat_minor": 5
}
