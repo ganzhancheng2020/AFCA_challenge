{
 "cells": [
  {
   "cell_type": "code",
   "execution_count": 1,
   "id": "cff0a314-4ff9-4a8d-8f5a-ba2ef77dab65",
   "metadata": {
    "ExecutionIndicator": {
     "show": true
    },
    "execution": {
     "iopub.execute_input": "2024-07-14T12:03:29.731471Z",
     "iopub.status.busy": "2024-07-14T12:03:29.731267Z",
     "iopub.status.idle": "2024-07-14T12:03:37.794804Z",
     "shell.execute_reply": "2024-07-14T12:03:37.794301Z",
     "shell.execute_reply.started": "2024-07-14T12:03:29.731455Z"
    },
    "tags": []
   },
   "outputs": [
    {
     "name": "stderr",
     "output_type": "stream",
     "text": [
      "/usr/local/lib/python3.10/site-packages/tqdm/auto.py:21: TqdmWarning: IProgress not found. Please update jupyter and ipywidgets. See https://ipywidgets.readthedocs.io/en/stable/user_install.html\n",
      "  from .autonotebook import tqdm as notebook_tqdm\n",
      "2024-07-14 20:03:32.619612: I tensorflow/core/util/port.cc:113] oneDNN custom operations are on. You may see slightly different numerical results due to floating-point round-off errors from different computation orders. To turn them off, set the environment variable `TF_ENABLE_ONEDNN_OPTS=0`.\n",
      "2024-07-14 20:03:32.660300: I tensorflow/core/platform/cpu_feature_guard.cc:210] This TensorFlow binary is optimized to use available CPU instructions in performance-critical operations.\n",
      "To enable the following instructions: AVX2 AVX512F AVX512_VNNI FMA, in other operations, rebuild TensorFlow with the appropriate compiler flags.\n",
      "2024-07-14 20:03:33.818728: W tensorflow/compiler/tf2tensorrt/utils/py_utils.cc:38] TF-TRT Warning: Could not find TensorRT\n"
     ]
    }
   ],
   "source": [
    "from datasets import Dataset\n",
    "from ReadLoad import read_json\n",
    "from prompt_template import get_input_template, get_sys_prompt\n",
    "import pandas as pd\n",
    "from transformers import AutoTokenizer, AutoModelForCausalLM, DataCollatorForSeq2Seq, TrainingArguments, Trainer, GenerationConfig"
   ]
  },
  {
   "cell_type": "code",
   "execution_count": 2,
   "id": "787529c7-899d-46c7-b89f-5918edfae708",
   "metadata": {
    "execution": {
     "iopub.execute_input": "2024-07-14T12:03:37.795897Z",
     "iopub.status.busy": "2024-07-14T12:03:37.795496Z",
     "iopub.status.idle": "2024-07-14T12:05:08.483593Z",
     "shell.execute_reply": "2024-07-14T12:05:08.483113Z",
     "shell.execute_reply.started": "2024-07-14T12:03:37.795879Z"
    },
    "tags": []
   },
   "outputs": [
    {
     "name": "stderr",
     "output_type": "stream",
     "text": [
      "Downloading: 100%|██████████| 663/663 [00:00<00:00, 1.37kB/s]\n",
      "Downloading: 100%|██████████| 48.0/48.0 [00:00<00:00, 93.1B/s]\n",
      "Downloading: 100%|██████████| 243/243 [00:00<00:00, 604B/s]\n",
      "Downloading: 100%|██████████| 11.1k/11.1k [00:00<00:00, 29.2kB/s]\n",
      "Downloading: 100%|██████████| 1.59M/1.59M [00:00<00:00, 3.65MB/s]\n",
      "Downloading: 100%|██████████| 3.67G/3.67G [00:10<00:00, 393MB/s] \n",
      "Downloading: 100%|██████████| 3.60G/3.60G [00:10<00:00, 373MB/s] \n",
      "Downloading: 100%|██████████| 3.60G/3.60G [00:11<00:00, 330MB/s] \n",
      "Downloading: 100%|██████████| 3.31G/3.31G [00:09<00:00, 360MB/s] \n",
      "Downloading: 100%|██████████| 27.1k/27.1k [00:00<00:00, 64.9kB/s]\n",
      "Downloading: 100%|██████████| 6.41k/6.41k [00:00<00:00, 16.9kB/s]\n",
      "Downloading: 100%|██████████| 6.70M/6.70M [00:00<00:00, 11.2MB/s]\n",
      "Downloading: 100%|██████████| 1.26k/1.26k [00:00<00:00, 2.38kB/s]\n",
      "Downloading: 100%|██████████| 2.65M/2.65M [00:00<00:00, 6.04MB/s]\n"
     ]
    }
   ],
   "source": [
    "#模型下载\n",
    "from modelscope import snapshot_download\n",
    "model_dir = snapshot_download('qwen/Qwen2-7B-Instruct')"
   ]
  },
  {
   "cell_type": "code",
   "execution_count": 3,
   "id": "34a10829-45dc-4b56-af81-b676697424e1",
   "metadata": {
    "ExecutionIndicator": {
     "show": true
    },
    "execution": {
     "iopub.execute_input": "2024-07-14T12:05:08.485040Z",
     "iopub.status.busy": "2024-07-14T12:05:08.484777Z",
     "iopub.status.idle": "2024-07-14T12:05:08.488416Z",
     "shell.execute_reply": "2024-07-14T12:05:08.487886Z",
     "shell.execute_reply.started": "2024-07-14T12:05:08.485018Z"
    },
    "tags": []
   },
   "outputs": [],
   "source": [
    "def processing(data_path):\n",
    "    data = read_json(data_path)\n",
    "    train_data = [{\n",
    "        'instruction': '对用户提出的有关保险条款的问题给予准确、清晰的回答。',\n",
    "        'input': get_input_template(d['产品名'], d['条款'], d['问题']),\n",
    "        'output': d['答案']\n",
    "    } for d in data]\n",
    "    df = pd.DataFrame(train_data)\n",
    "    ds = Dataset.from_pandas(df)\n",
    "    return ds "
   ]
  },
  {
   "cell_type": "code",
   "execution_count": 4,
   "id": "1365d613-1339-4694-beb5-153deca09cb0",
   "metadata": {
    "execution": {
     "iopub.execute_input": "2024-07-14T12:05:08.489672Z",
     "iopub.status.busy": "2024-07-14T12:05:08.489202Z",
     "iopub.status.idle": "2024-07-14T12:05:19.163623Z",
     "shell.execute_reply": "2024-07-14T12:05:19.163133Z",
     "shell.execute_reply.started": "2024-07-14T12:05:08.489635Z"
    },
    "tags": []
   },
   "outputs": [],
   "source": [
    "train_data = processing('dataset/train.json')\n",
    "dev_data = processing('dataset/dev.json')"
   ]
  },
  {
   "cell_type": "code",
   "execution_count": 5,
   "id": "0eaea0e9-2d51-4b84-bf1f-33ce0b5c1c3a",
   "metadata": {
    "ExecutionIndicator": {
     "show": true
    },
    "execution": {
     "iopub.execute_input": "2024-07-14T12:05:19.164516Z",
     "iopub.status.busy": "2024-07-14T12:05:19.164287Z",
     "iopub.status.idle": "2024-07-14T12:05:19.374582Z",
     "shell.execute_reply": "2024-07-14T12:05:19.373852Z",
     "shell.execute_reply.started": "2024-07-14T12:05:19.164500Z"
    },
    "tags": []
   },
   "outputs": [
    {
     "name": "stderr",
     "output_type": "stream",
     "text": [
      "Special tokens have been added in the vocabulary, make sure the associated word embeddings are fine-tuned or trained.\n"
     ]
    },
    {
     "data": {
      "text/plain": [
       "Qwen2Tokenizer(name_or_path='/mnt/workspace/.cache/modelscope/hub/qwen/Qwen2-7B-Instruct', vocab_size=151643, model_max_length=131072, is_fast=False, padding_side='right', truncation_side='right', special_tokens={'eos_token': '<|im_end|>', 'pad_token': '<|endoftext|>', 'additional_special_tokens': ['<|im_start|>', '<|im_end|>']}, clean_up_tokenization_spaces=False),  added_tokens_decoder={\n",
       "\t151643: AddedToken(\"<|endoftext|>\", rstrip=False, lstrip=False, single_word=False, normalized=False, special=True),\n",
       "\t151644: AddedToken(\"<|im_start|>\", rstrip=False, lstrip=False, single_word=False, normalized=False, special=True),\n",
       "\t151645: AddedToken(\"<|im_end|>\", rstrip=False, lstrip=False, single_word=False, normalized=False, special=True),\n",
       "}"
      ]
     },
     "execution_count": 5,
     "metadata": {},
     "output_type": "execute_result"
    }
   ],
   "source": [
    "tokenizer = AutoTokenizer.from_pretrained(model_dir, use_fast=False, trust_remote_code=True, use_cache=False)\n",
    "tokenizer"
   ]
  },
  {
   "cell_type": "code",
   "execution_count": 6,
   "id": "9d133a50-1b96-43bb-836f-565f4a8c1124",
   "metadata": {
    "ExecutionIndicator": {
     "show": true
    },
    "execution": {
     "iopub.execute_input": "2024-07-14T12:05:19.375729Z",
     "iopub.status.busy": "2024-07-14T12:05:19.375342Z",
     "iopub.status.idle": "2024-07-14T12:05:47.575483Z",
     "shell.execute_reply": "2024-07-14T12:05:47.574849Z",
     "shell.execute_reply.started": "2024-07-14T12:05:19.375712Z"
    },
    "tags": []
   },
   "outputs": [
    {
     "name": "stderr",
     "output_type": "stream",
     "text": [
      "                                                                \r"
     ]
    },
    {
     "data": {
      "text/plain": [
       "Dataset({\n",
       "    features: ['input_ids', 'attention_mask', 'labels'],\n",
       "    num_rows: 5000\n",
       "})"
      ]
     },
     "execution_count": 6,
     "metadata": {},
     "output_type": "execute_result"
    }
   ],
   "source": [
    "def process_func(example):\n",
    "    MAX_LENGTH = 384    # Llama分词器会将一个中文字切分为多个token，因此需要放开一些最大长度，保证数据的完整性\n",
    "    input_ids, attention_mask, labels = [], [], []\n",
    "    instruction = tokenizer(f\"<|im_start|>system\\n你是一个基于保险条款的问答系统<|im_end|>\\n<|im_start|>user\\n{example['instruction'] + example['input']}<|im_end|>\\n<|im_start|>assistant\\n\", add_special_tokens=False)  # add_special_tokens 不在开头加 special_tokens\n",
    "    response = tokenizer(f\"{example['output']}\", add_special_tokens=False)\n",
    "    input_ids = instruction[\"input_ids\"] + response[\"input_ids\"] + [tokenizer.pad_token_id]\n",
    "    attention_mask = instruction[\"attention_mask\"] + response[\"attention_mask\"] + [1]  # 因为eos token咱们也是要关注的所以 补充为1\n",
    "    labels = [-100] * len(instruction[\"input_ids\"]) + response[\"input_ids\"] + [tokenizer.pad_token_id]  \n",
    "    if len(input_ids) > MAX_LENGTH:  # 做一个截断\n",
    "        input_ids = input_ids[:MAX_LENGTH]\n",
    "        attention_mask = attention_mask[:MAX_LENGTH]\n",
    "        labels = labels[:MAX_LENGTH]\n",
    "    return {\n",
    "        \"input_ids\": input_ids,\n",
    "        \"attention_mask\": attention_mask,\n",
    "        \"labels\": labels\n",
    "    }\n",
    "\n",
    "tokenized_id = train_data.map(process_func, remove_columns=train_data.column_names)\n",
    "tokenized_id"
   ]
  },
  {
   "cell_type": "code",
   "execution_count": 7,
   "id": "f3bf175c-0a18-4933-9d47-d73b214d80a6",
   "metadata": {
    "execution": {
     "iopub.execute_input": "2024-07-14T12:05:47.576861Z",
     "iopub.status.busy": "2024-07-14T12:05:47.576433Z",
     "iopub.status.idle": "2024-07-14T12:05:54.171304Z",
     "shell.execute_reply": "2024-07-14T12:05:54.170843Z",
     "shell.execute_reply.started": "2024-07-14T12:05:47.576830Z"
    },
    "tags": []
   },
   "outputs": [
    {
     "name": "stderr",
     "output_type": "stream",
     "text": [
      "                                                               \r"
     ]
    },
    {
     "data": {
      "text/plain": [
       "Dataset({\n",
       "    features: ['input_ids', 'attention_mask', 'labels'],\n",
       "    num_rows: 1000\n",
       "})"
      ]
     },
     "execution_count": 7,
     "metadata": {},
     "output_type": "execute_result"
    }
   ],
   "source": [
    "dev_data_id = dev_data.map(process_func, remove_columns=dev_data.column_names)\n",
    "dev_data_id"
   ]
  },
  {
   "cell_type": "code",
   "execution_count": 8,
   "id": "2e410277-fbce-4b73-90b4-3855738b6377",
   "metadata": {
    "execution": {
     "iopub.execute_input": "2024-07-14T12:05:54.172177Z",
     "iopub.status.busy": "2024-07-14T12:05:54.171968Z",
     "iopub.status.idle": "2024-07-14T12:06:44.015182Z",
     "shell.execute_reply": "2024-07-14T12:06:44.014525Z",
     "shell.execute_reply.started": "2024-07-14T12:05:54.172160Z"
    },
    "tags": []
   },
   "outputs": [
    {
     "name": "stderr",
     "output_type": "stream",
     "text": [
      "Loading checkpoint shards: 100%|██████████| 4/4 [00:47<00:00, 11.82s/it]\n"
     ]
    }
   ],
   "source": [
    "import torch\n",
    "\n",
    "model = AutoModelForCausalLM.from_pretrained(model_dir, device_map=\"auto\",torch_dtype=torch.bfloat16)\n",
    "model.enable_input_require_grads() # 开启梯度检查点时，要执行该方法"
   ]
  },
  {
   "cell_type": "code",
   "execution_count": 9,
   "id": "a6b64bd8-b433-46cb-884b-afe6d5099590",
   "metadata": {
    "execution": {
     "iopub.execute_input": "2024-07-14T12:06:44.017717Z",
     "iopub.status.busy": "2024-07-14T12:06:44.017460Z",
     "iopub.status.idle": "2024-07-14T12:06:44.431334Z",
     "shell.execute_reply": "2024-07-14T12:06:44.430676Z",
     "shell.execute_reply.started": "2024-07-14T12:06:44.017700Z"
    },
    "tags": []
   },
   "outputs": [
    {
     "name": "stdout",
     "output_type": "stream",
     "text": [
      "trainable params: 20,185,088 || all params: 7,635,801,600 || trainable%: 0.26434798934534914\n"
     ]
    }
   ],
   "source": [
    "from peft import LoraConfig, TaskType, get_peft_model\n",
    "\n",
    "config = LoraConfig(\n",
    "    task_type=TaskType.CAUSAL_LM, \n",
    "    target_modules=[\"q_proj\", \"k_proj\", \"v_proj\", \"o_proj\", \"gate_proj\", \"up_proj\", \"down_proj\"],\n",
    "    inference_mode=False, # 训练模式\n",
    "    r=8, # Lora 秩\n",
    "    lora_alpha=32, # Lora alaph，具体作用参见 Lora 原理\n",
    "    lora_dropout=0.1# Dropout 比例\n",
    ")\n",
    "model = get_peft_model(model, config)\n",
    "model.print_trainable_parameters()"
   ]
  },
  {
   "cell_type": "code",
   "execution_count": 29,
   "id": "94d9ad29-2447-4900-ade1-16865712c463",
   "metadata": {
    "ExecutionIndicator": {
     "show": true
    },
    "execution": {
     "iopub.execute_input": "2024-07-14T12:13:46.483890Z",
     "iopub.status.busy": "2024-07-14T12:13:46.483532Z",
     "iopub.status.idle": "2024-07-14T12:13:46.488169Z",
     "shell.execute_reply": "2024-07-14T12:13:46.487685Z",
     "shell.execute_reply.started": "2024-07-14T12:13:46.483857Z"
    },
    "tags": []
   },
   "outputs": [],
   "source": [
    "args = TrainingArguments(\n",
    "    output_dir=\"./output/Qwen2_instruct_lora\",\n",
    "    per_device_train_batch_size=4,\n",
    "    gradient_accumulation_steps=4,\n",
    "    per_device_eval_batch_size=4,\n",
    "    weight_decay=0.01,\n",
    "    logging_steps=50,\n",
    "    eval_steps=200,\n",
    "    eval_strategy=\"steps\",\n",
    "    num_train_epochs=3,\n",
    "    save_steps=200, # 为了快速演示，这里设置10，建议你设置成100\n",
    "    learning_rate=1e-4,\n",
    "    save_on_each_node=True,\n",
    "    load_best_model_at_end=True,\n",
    "    #gradient_checkpointing=True\n",
    ")"
   ]
  },
  {
   "cell_type": "code",
   "execution_count": 30,
   "id": "4cfa9021-6d4a-43c5-814c-bd9d76ed3645",
   "metadata": {
    "execution": {
     "iopub.execute_input": "2024-07-14T12:13:48.115138Z",
     "iopub.status.busy": "2024-07-14T12:13:48.114610Z",
     "iopub.status.idle": "2024-07-14T12:13:48.132396Z",
     "shell.execute_reply": "2024-07-14T12:13:48.131851Z",
     "shell.execute_reply.started": "2024-07-14T12:13:48.115113Z"
    },
    "tags": []
   },
   "outputs": [],
   "source": [
    "torch.cuda.empty_cache()"
   ]
  },
  {
   "cell_type": "code",
   "execution_count": 31,
   "id": "d9fbfbc1-0b42-4f5a-9948-4c56fb2d6bcd",
   "metadata": {
    "ExecutionIndicator": {
     "show": true
    },
    "execution": {
     "iopub.execute_input": "2024-07-14T12:13:49.431414Z",
     "iopub.status.busy": "2024-07-14T12:13:49.431074Z",
     "iopub.status.idle": "2024-07-14T13:47:29.715847Z",
     "shell.execute_reply": "2024-07-14T13:47:29.715306Z",
     "shell.execute_reply.started": "2024-07-14T12:13:49.431395Z"
    },
    "tags": []
   },
   "outputs": [
    {
     "name": "stderr",
     "output_type": "stream",
     "text": [
      "Detected kernel version 4.19.91, which is below the recommended minimum of 5.5.0; this can cause the process to hang. It is recommended to upgrade the kernel to the minimum version or higher.\n"
     ]
    },
    {
     "data": {
      "text/html": [
       "\n",
       "    <div>\n",
       "      \n",
       "      <progress value='936' max='936' style='width:300px; height:20px; vertical-align: middle;'></progress>\n",
       "      [936/936 1:33:34, Epoch 2/3]\n",
       "    </div>\n",
       "    <table border=\"1\" class=\"dataframe\">\n",
       "  <thead>\n",
       " <tr style=\"text-align: left;\">\n",
       "      <th>Step</th>\n",
       "      <th>Training Loss</th>\n",
       "      <th>Validation Loss</th>\n",
       "    </tr>\n",
       "  </thead>\n",
       "  <tbody>\n",
       "    <tr>\n",
       "      <td>200</td>\n",
       "      <td>0.249300</td>\n",
       "      <td>0.251654</td>\n",
       "    </tr>\n",
       "    <tr>\n",
       "      <td>400</td>\n",
       "      <td>0.151600</td>\n",
       "      <td>0.249524</td>\n",
       "    </tr>\n",
       "    <tr>\n",
       "      <td>600</td>\n",
       "      <td>0.145200</td>\n",
       "      <td>0.244188</td>\n",
       "    </tr>\n",
       "    <tr>\n",
       "      <td>800</td>\n",
       "      <td>0.066800</td>\n",
       "      <td>0.296206</td>\n",
       "    </tr>\n",
       "  </tbody>\n",
       "</table><p>"
      ],
      "text/plain": [
       "<IPython.core.display.HTML object>"
      ]
     },
     "metadata": {},
     "output_type": "display_data"
    },
    {
     "name": "stderr",
     "output_type": "stream",
     "text": [
      "/usr/local/lib/python3.10/site-packages/peft/utils/save_and_load.py:154: UserWarning: Could not find a config file in /mnt/workspace/.cache/modelscope/hub/qwen/Qwen2-7B-Instruct - will assume that the vocabulary was not modified.\n",
      "  warnings.warn(\n",
      "/usr/local/lib/python3.10/site-packages/torch/utils/checkpoint.py:464: UserWarning: torch.utils.checkpoint: the use_reentrant parameter should be passed explicitly. In version 2.4 we will raise an exception if use_reentrant is not passed. use_reentrant=False is recommended, but if you need to preserve the current default behavior, you can pass use_reentrant=True. Refer to docs for more details on the differences between the two variants.\n",
      "  warnings.warn(\n",
      "/usr/local/lib/python3.10/site-packages/peft/utils/save_and_load.py:154: UserWarning: Could not find a config file in /mnt/workspace/.cache/modelscope/hub/qwen/Qwen2-7B-Instruct - will assume that the vocabulary was not modified.\n",
      "  warnings.warn(\n",
      "/usr/local/lib/python3.10/site-packages/torch/utils/checkpoint.py:464: UserWarning: torch.utils.checkpoint: the use_reentrant parameter should be passed explicitly. In version 2.4 we will raise an exception if use_reentrant is not passed. use_reentrant=False is recommended, but if you need to preserve the current default behavior, you can pass use_reentrant=True. Refer to docs for more details on the differences between the two variants.\n",
      "  warnings.warn(\n",
      "/usr/local/lib/python3.10/site-packages/peft/utils/save_and_load.py:154: UserWarning: Could not find a config file in /mnt/workspace/.cache/modelscope/hub/qwen/Qwen2-7B-Instruct - will assume that the vocabulary was not modified.\n",
      "  warnings.warn(\n",
      "/usr/local/lib/python3.10/site-packages/torch/utils/checkpoint.py:464: UserWarning: torch.utils.checkpoint: the use_reentrant parameter should be passed explicitly. In version 2.4 we will raise an exception if use_reentrant is not passed. use_reentrant=False is recommended, but if you need to preserve the current default behavior, you can pass use_reentrant=True. Refer to docs for more details on the differences between the two variants.\n",
      "  warnings.warn(\n",
      "/usr/local/lib/python3.10/site-packages/peft/utils/save_and_load.py:154: UserWarning: Could not find a config file in /mnt/workspace/.cache/modelscope/hub/qwen/Qwen2-7B-Instruct - will assume that the vocabulary was not modified.\n",
      "  warnings.warn(\n",
      "/usr/local/lib/python3.10/site-packages/torch/utils/checkpoint.py:464: UserWarning: torch.utils.checkpoint: the use_reentrant parameter should be passed explicitly. In version 2.4 we will raise an exception if use_reentrant is not passed. use_reentrant=False is recommended, but if you need to preserve the current default behavior, you can pass use_reentrant=True. Refer to docs for more details on the differences between the two variants.\n",
      "  warnings.warn(\n"
     ]
    },
    {
     "data": {
      "text/plain": [
       "TrainOutput(global_step=936, training_loss=0.1578593526640509, metrics={'train_runtime': 5619.9022, 'train_samples_per_second': 2.669, 'train_steps_per_second': 0.167, 'total_flos': 2.1527664606133862e+17, 'train_loss': 0.1578593526640509, 'epoch': 2.9952})"
      ]
     },
     "execution_count": 31,
     "metadata": {},
     "output_type": "execute_result"
    }
   ],
   "source": [
    "trainer = Trainer(\n",
    "    model=model,\n",
    "    args=args,\n",
    "    train_dataset=tokenized_id,\n",
    "    eval_dataset=dev_data_id, \n",
    "    data_collator=DataCollatorForSeq2Seq(tokenizer=tokenizer, padding=True),\n",
    ")\n",
    "trainer.train()"
   ]
  },
  {
   "cell_type": "code",
   "execution_count": 1,
   "id": "0ffc725c-7cb7-4d2b-b2ad-a74a37434db7",
   "metadata": {
    "ExecutionIndicator": {
     "show": true
    },
    "execution": {
     "iopub.execute_input": "2024-07-14T14:26:01.302131Z",
     "iopub.status.busy": "2024-07-14T14:26:01.301499Z",
     "iopub.status.idle": "2024-07-14T14:26:57.355931Z",
     "shell.execute_reply": "2024-07-14T14:26:57.355445Z",
     "shell.execute_reply.started": "2024-07-14T14:26:01.302110Z"
    },
    "tags": []
   },
   "outputs": [
    {
     "name": "stderr",
     "output_type": "stream",
     "text": [
      "/usr/local/lib/python3.10/site-packages/tqdm/auto.py:21: TqdmWarning: IProgress not found. Please update jupyter and ipywidgets. See https://ipywidgets.readthedocs.io/en/stable/user_install.html\n",
      "  from .autonotebook import tqdm as notebook_tqdm\n",
      "2024-07-14 22:26:06.161177: I tensorflow/core/util/port.cc:113] oneDNN custom operations are on. You may see slightly different numerical results due to floating-point round-off errors from different computation orders. To turn them off, set the environment variable `TF_ENABLE_ONEDNN_OPTS=0`.\n",
      "2024-07-14 22:26:06.378314: I tensorflow/core/platform/cpu_feature_guard.cc:210] This TensorFlow binary is optimized to use available CPU instructions in performance-critical operations.\n",
      "To enable the following instructions: AVX2 AVX512F AVX512_VNNI FMA, in other operations, rebuild TensorFlow with the appropriate compiler flags.\n",
      "2024-07-14 22:26:07.722611: W tensorflow/compiler/tf2tensorrt/utils/py_utils.cc:38] TF-TRT Warning: Could not find TensorRT\n",
      "Loading checkpoint shards: 100%|██████████| 4/4 [00:39<00:00,  9.88s/it]\n",
      "Special tokens have been added in the vocabulary, make sure the associated word embeddings are fine-tuned or trained.\n"
     ]
    }
   ],
   "source": [
    "#模型下载\n",
    "from modelscope import snapshot_download\n",
    "from modelscope import AutoModelForCausalLM, AutoTokenizer\n",
    "from prompt_template import get_sys_prompt\n",
    "from peft import PeftModel\n",
    "model_dir = snapshot_download('qwen/Qwen2-7B-Instruct')\n",
    "lora_path = './output/Qwen2_instruct_lora/checkpoint-600'\n",
    "\n",
    "device = \"cuda\"\n",
    "# the device to load the model onto\n",
    "\n",
    "model = AutoModelForCausalLM.from_pretrained(\n",
    "    model_dir,\n",
    "    torch_dtype=\"auto\",\n",
    "    device_map=\"auto\"\n",
    ")\n",
    "model = PeftModel.from_pretrained(model, model_id=lora_path)\n",
    "tokenizer = AutoTokenizer.from_pretrained(model_dir)\n",
    "\n",
    "\n",
    "def qwen_response(prompt):\n",
    "\n",
    "    messages = [\n",
    "        {\"role\": \"system\", \"content\": get_sys_prompt()},\n",
    "        {\"role\": \"user\", \"content\": prompt}\n",
    "    ]\n",
    "    text = tokenizer.apply_chat_template(\n",
    "        messages,\n",
    "        tokenize=False,\n",
    "        add_generation_prompt=True\n",
    "    )\n",
    "    model_inputs = tokenizer([text], return_tensors=\"pt\").to(device)\n",
    "\n",
    "    generated_ids = model.generate(\n",
    "        model_inputs.input_ids,\n",
    "        max_new_tokens=512\n",
    "    )\n",
    "    generated_ids = [\n",
    "        output_ids[len(input_ids):] for input_ids, output_ids in zip(model_inputs.input_ids, generated_ids)\n",
    "    ]\n",
    "\n",
    "    response = tokenizer.batch_decode(generated_ids, skip_special_tokens=True)[0]\n",
    "    return response\n"
   ]
  },
  {
   "cell_type": "code",
   "execution_count": 2,
   "id": "0263109a-f7ab-4a76-881c-a75931b52196",
   "metadata": {
    "ExecutionIndicator": {
     "show": true
    },
    "execution": {
     "iopub.execute_input": "2024-07-14T14:27:08.333174Z",
     "iopub.status.busy": "2024-07-14T14:27:08.332800Z",
     "iopub.status.idle": "2024-07-14T14:27:11.449379Z",
     "shell.execute_reply": "2024-07-14T14:27:11.448851Z",
     "shell.execute_reply.started": "2024-07-14T14:27:08.333154Z"
    },
    "tags": []
   },
   "outputs": [
    {
     "data": {
      "text/plain": [
       "'我是根据保险条款设计的一个问答系统，专门用于回答有关保险条款的问题。'"
      ]
     },
     "execution_count": 2,
     "metadata": {},
     "output_type": "execute_result"
    }
   ],
   "source": [
    "qwen_response(\"你是谁\")"
   ]
  }
 ],
 "metadata": {
  "kernelspec": {
   "display_name": "Python 3 (ipykernel)",
   "language": "python",
   "name": "python3"
  },
  "language_info": {
   "codemirror_mode": {
    "name": "ipython",
    "version": 3
   },
   "file_extension": ".py",
   "mimetype": "text/x-python",
   "name": "python",
   "nbconvert_exporter": "python",
   "pygments_lexer": "ipython3",
   "version": "3.10.14"
  }
 },
 "nbformat": 4,
 "nbformat_minor": 5
}
