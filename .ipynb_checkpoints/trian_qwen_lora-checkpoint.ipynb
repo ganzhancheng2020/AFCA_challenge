{
 "cells": [
  {
   "cell_type": "code",
   "execution_count": 1,
   "id": "cff0a314-4ff9-4a8d-8f5a-ba2ef77dab65",
   "metadata": {
    "ExecutionIndicator": {
     "show": true
    },
    "execution": {
     "iopub.execute_input": "2024-07-19T13:48:15.128333Z",
     "iopub.status.busy": "2024-07-19T13:48:15.127994Z",
     "iopub.status.idle": "2024-07-19T13:48:18.448232Z",
     "shell.execute_reply": "2024-07-19T13:48:18.447699Z",
     "shell.execute_reply.started": "2024-07-19T13:48:15.128305Z"
    },
    "tags": []
   },
   "outputs": [],
   "source": [
    "from datasets import Dataset\n",
    "from ReadLoad import read_json\n",
    "from prompt_template import get_input_template, get_sys_prompt\n",
    "from eval_data import key_word_score\n",
    "import pandas as pd\n",
    "from transformers import AutoTokenizer, AutoModelForCausalLM, DataCollatorForSeq2Seq, TrainingArguments, Trainer, GenerationConfig"
   ]
  },
  {
   "cell_type": "code",
   "execution_count": 5,
   "id": "787529c7-899d-46c7-b89f-5918edfae708",
   "metadata": {
    "execution": {
     "iopub.execute_input": "2024-07-17T15:21:20.360457Z",
     "iopub.status.busy": "2024-07-17T15:21:20.360067Z",
     "iopub.status.idle": "2024-07-17T15:22:47.391225Z",
     "shell.execute_reply": "2024-07-17T15:22:47.390558Z",
     "shell.execute_reply.started": "2024-07-17T15:21:20.360433Z"
    },
    "tags": []
   },
   "outputs": [
    {
     "name": "stderr",
     "output_type": "stream",
     "text": [
      "Downloading: 100%|██████████| 663/663 [00:00<00:00, 1.69kB/s]\n",
      "Downloading: 100%|██████████| 48.0/48.0 [00:00<00:00, 102B/s]\n",
      "Downloading: 100%|██████████| 243/243 [00:00<00:00, 641B/s]\n",
      "Downloading: 100%|██████████| 11.1k/11.1k [00:00<00:00, 22.3kB/s]\n",
      "Downloading: 100%|██████████| 1.59M/1.59M [00:00<00:00, 3.53MB/s]\n",
      "Downloading: 100%|██████████| 3.67G/3.67G [00:10<00:00, 379MB/s] \n",
      "Downloading: 100%|██████████| 3.60G/3.60G [00:10<00:00, 363MB/s] \n",
      "Downloading: 100%|██████████| 3.60G/3.60G [00:10<00:00, 364MB/s] \n",
      "Downloading: 100%|██████████| 3.31G/3.31G [00:09<00:00, 365MB/s] \n",
      "Downloading: 100%|██████████| 27.1k/27.1k [00:00<00:00, 55.9kB/s]\n",
      "Downloading: 100%|██████████| 6.41k/6.41k [00:00<00:00, 14.8kB/s]\n",
      "Downloading: 100%|██████████| 6.70M/6.70M [00:00<00:00, 11.4MB/s]\n",
      "Downloading: 100%|██████████| 1.26k/1.26k [00:00<00:00, 2.66kB/s]\n",
      "Downloading: 100%|██████████| 2.65M/2.65M [00:00<00:00, 5.84MB/s]\n"
     ]
    }
   ],
   "source": [
    "#模型下载\n",
    "from modelscope import snapshot_download\n",
    "model_dir = snapshot_download('qwen/Qwen2-7B-Instruct')"
   ]
  },
  {
   "cell_type": "code",
   "execution_count": 5,
   "id": "34a10829-45dc-4b56-af81-b676697424e1",
   "metadata": {
    "ExecutionIndicator": {
     "show": true
    },
    "execution": {
     "iopub.execute_input": "2024-07-19T14:05:43.831817Z",
     "iopub.status.busy": "2024-07-19T14:05:43.831446Z",
     "iopub.status.idle": "2024-07-19T14:05:43.835497Z",
     "shell.execute_reply": "2024-07-19T14:05:43.834850Z",
     "shell.execute_reply.started": "2024-07-19T14:05:43.831772Z"
    },
    "tags": []
   },
   "outputs": [],
   "source": [
    "def processing(data):\n",
    "    data = [{\n",
    "        'instruction': '对用户提出的有关保险条款的问题给予准确、清晰的回答。',\n",
    "        'input': get_input_template(d['产品名'], d['条款'], d['问题']),\n",
    "        'output': d['答案']\n",
    "    } for d in data]\n",
    "    df = pd.DataFrame(data)\n",
    "    ds = Dataset.from_pandas(df)\n",
    "    return ds"
   ]
  },
  {
   "cell_type": "markdown",
   "id": "1f7c5604-5ab8-430b-9ca7-53daf8330a4d",
   "metadata": {},
   "source": [
    "### data pre-processing"
   ]
  },
  {
   "cell_type": "code",
   "execution_count": 6,
   "id": "1365d613-1339-4694-beb5-153deca09cb0",
   "metadata": {
    "ExecutionIndicator": {
     "show": false
    },
    "execution": {
     "iopub.execute_input": "2024-07-19T14:06:15.953171Z",
     "iopub.status.busy": "2024-07-19T14:06:15.952838Z",
     "iopub.status.idle": "2024-07-19T14:06:20.777407Z",
     "shell.execute_reply": "2024-07-19T14:06:20.776900Z",
     "shell.execute_reply.started": "2024-07-19T14:06:15.953151Z"
    },
    "tags": []
   },
   "outputs": [],
   "source": [
    "train_data = read_json('dataset/train.json')\n",
    "train_eval = [{\n",
    "    '产品名': data['产品名'],\n",
    "    '条款': data['条款'],\n",
    "    '问题': data['问题'],\n",
    "    '答案': data['答案'],\n",
    "    'score': key_word_score(data['产品名'] + data['条款'] + data['问题'], data['答案'])\n",
    "} for data in train_data]\n",
    "train_data = [{key: value for key, value in data.items() if key != 'score'} \n",
    "              for data in train_eval if data['score'] >= 0.8]\n",
    "train_data = processing(train_data)\n",
    "\n",
    "dev_data = read_json('dataset/dev.json')\n",
    "dev_data = processing(dev_data)"
   ]
  },
  {
   "cell_type": "code",
   "execution_count": 8,
   "id": "0eaea0e9-2d51-4b84-bf1f-33ce0b5c1c3a",
   "metadata": {
    "ExecutionIndicator": {
     "show": true
    },
    "execution": {
     "iopub.execute_input": "2024-07-17T15:23:06.656829Z",
     "iopub.status.busy": "2024-07-17T15:23:06.656359Z",
     "iopub.status.idle": "2024-07-17T15:23:06.929991Z",
     "shell.execute_reply": "2024-07-17T15:23:06.929328Z",
     "shell.execute_reply.started": "2024-07-17T15:23:06.656804Z"
    },
    "tags": []
   },
   "outputs": [
    {
     "name": "stderr",
     "output_type": "stream",
     "text": [
      "Special tokens have been added in the vocabulary, make sure the associated word embeddings are fine-tuned or trained.\n"
     ]
    },
    {
     "data": {
      "text/plain": [
       "Qwen2Tokenizer(name_or_path='/mnt/workspace/.cache/modelscope/hub/qwen/Qwen2-7B-Instruct', vocab_size=151643, model_max_length=131072, is_fast=False, padding_side='right', truncation_side='right', special_tokens={'eos_token': '<|im_end|>', 'pad_token': '<|endoftext|>', 'additional_special_tokens': ['<|im_start|>', '<|im_end|>']}, clean_up_tokenization_spaces=False),  added_tokens_decoder={\n",
       "\t151643: AddedToken(\"<|endoftext|>\", rstrip=False, lstrip=False, single_word=False, normalized=False, special=True),\n",
       "\t151644: AddedToken(\"<|im_start|>\", rstrip=False, lstrip=False, single_word=False, normalized=False, special=True),\n",
       "\t151645: AddedToken(\"<|im_end|>\", rstrip=False, lstrip=False, single_word=False, normalized=False, special=True),\n",
       "}"
      ]
     },
     "execution_count": 8,
     "metadata": {},
     "output_type": "execute_result"
    }
   ],
   "source": [
    "tokenizer = AutoTokenizer.from_pretrained(model_dir, use_fast=False, trust_remote_code=True, use_cache=False)\n",
    "tokenizer"
   ]
  },
  {
   "cell_type": "code",
   "execution_count": 9,
   "id": "9d133a50-1b96-43bb-836f-565f4a8c1124",
   "metadata": {
    "ExecutionIndicator": {
     "show": true
    },
    "execution": {
     "iopub.execute_input": "2024-07-17T15:23:10.163218Z",
     "iopub.status.busy": "2024-07-17T15:23:10.162795Z",
     "iopub.status.idle": "2024-07-17T15:23:47.347805Z",
     "shell.execute_reply": "2024-07-17T15:23:47.346898Z",
     "shell.execute_reply.started": "2024-07-17T15:23:10.163189Z"
    },
    "tags": []
   },
   "outputs": [
    {
     "name": "stderr",
     "output_type": "stream",
     "text": [
      "                                                                \r"
     ]
    },
    {
     "data": {
      "text/plain": [
       "Dataset({\n",
       "    features: ['input_ids', 'attention_mask', 'labels'],\n",
       "    num_rows: 1000\n",
       "})"
      ]
     },
     "execution_count": 9,
     "metadata": {},
     "output_type": "execute_result"
    }
   ],
   "source": [
    "def process_func(example):\n",
    "    MAX_LENGTH = 1024    # Llama分词器会将一个中文字切分为多个token，因此需要放开一些最大长度，保证数据的完整性\n",
    "    input_ids, attention_mask, labels = [], [], []\n",
    "    instruction = tokenizer(f\"<|im_start|>system\\n你是一个基于保险条款的问答系统<|im_end|>\\n<|im_start|>user\\n{example['instruction'] + example['input']}<|im_end|>\\n<|im_start|>assistant\\n\", add_special_tokens=False)  # add_special_tokens 不在开头加 special_tokens\n",
    "    response = tokenizer(f\"{example['output']}\", add_special_tokens=False)\n",
    "    input_ids = instruction[\"input_ids\"] + response[\"input_ids\"] + [tokenizer.pad_token_id]\n",
    "    attention_mask = instruction[\"attention_mask\"] + response[\"attention_mask\"] + [1]  # 因为eos token咱们也是要关注的所以 补充为1\n",
    "    labels = [-100] * len(instruction[\"input_ids\"]) + response[\"input_ids\"] + [tokenizer.pad_token_id]  \n",
    "    if len(input_ids) > MAX_LENGTH:  # 做一个截断\n",
    "        input_ids = input_ids[:MAX_LENGTH]\n",
    "        attention_mask = attention_mask[:MAX_LENGTH]\n",
    "        labels = labels[:MAX_LENGTH]\n",
    "    return {\n",
    "        \"input_ids\": input_ids,\n",
    "        \"attention_mask\": attention_mask,\n",
    "        \"labels\": labels\n",
    "    }\n",
    "\n",
    "\n",
    "tokenized_id = train_data.map(process_func, remove_columns=train_data.column_names)\n",
    "tokenized_id\n",
    "dev_data_id = dev_data.map(process_func, remove_columns=dev_data.column_names)\n",
    "dev_data_id"
   ]
  },
  {
   "cell_type": "markdown",
   "id": "4d83e2b1-d14c-4faf-aa74-f69f1531cccf",
   "metadata": {},
   "source": [
    "### 加载模型"
   ]
  },
  {
   "cell_type": "code",
   "execution_count": 10,
   "id": "2e410277-fbce-4b73-90b4-3855738b6377",
   "metadata": {
    "ExecutionIndicator": {
     "show": true
    },
    "execution": {
     "iopub.execute_input": "2024-07-17T15:23:47.350333Z",
     "iopub.status.busy": "2024-07-17T15:23:47.349806Z",
     "iopub.status.idle": "2024-07-17T15:24:45.398572Z",
     "shell.execute_reply": "2024-07-17T15:24:45.397983Z",
     "shell.execute_reply.started": "2024-07-17T15:23:47.350286Z"
    },
    "tags": []
   },
   "outputs": [
    {
     "name": "stderr",
     "output_type": "stream",
     "text": [
      "Loading checkpoint shards: 100%|██████████| 4/4 [00:53<00:00, 13.40s/it]\n"
     ]
    }
   ],
   "source": [
    "import torch\n",
    "import logging\n",
    "logger = logging.getLogger(__name__)\n",
    "\n",
    "model = AutoModelForCausalLM.from_pretrained(model_dir, device_map=\"auto\",torch_dtype=torch.bfloat16)\n",
    "model.enable_input_require_grads() # 开启梯度检查点时，要执行该方法\n",
    "\n",
    "device_count = torch.cuda.device_count()\n",
    "if device_count > 0:\n",
    "    logger.debug(\"Select GPU device\")\n",
    "    device = torch.device(\"cuda\")\n",
    "else:\n",
    "    logger.debug(\"Select CPU device\")\n",
    "    device = torch.device(\"cpu\")\n"
   ]
  },
  {
   "cell_type": "code",
   "execution_count": 12,
   "id": "a6b64bd8-b433-46cb-884b-afe6d5099590",
   "metadata": {
    "ExecutionIndicator": {
     "show": true
    },
    "execution": {
     "iopub.execute_input": "2024-07-17T15:25:14.092896Z",
     "iopub.status.busy": "2024-07-17T15:25:14.092553Z",
     "iopub.status.idle": "2024-07-17T15:25:14.473735Z",
     "shell.execute_reply": "2024-07-17T15:25:14.473264Z",
     "shell.execute_reply.started": "2024-07-17T15:25:14.092876Z"
    },
    "tags": []
   },
   "outputs": [
    {
     "name": "stdout",
     "output_type": "stream",
     "text": [
      "trainable params: 20,185,088 || all params: 7,635,801,600 || trainable%: 0.26434798934534914\n"
     ]
    },
    {
     "data": {
      "text/plain": [
       "PeftModelForCausalLM(\n",
       "  (base_model): LoraModel(\n",
       "    (model): PeftModelForCausalLM(\n",
       "      (base_model): LoraModel(\n",
       "        (model): Qwen2ForCausalLM(\n",
       "          (model): Qwen2Model(\n",
       "            (embed_tokens): Embedding(152064, 3584)\n",
       "            (layers): ModuleList(\n",
       "              (0-27): 28 x Qwen2DecoderLayer(\n",
       "                (self_attn): Qwen2SdpaAttention(\n",
       "                  (q_proj): lora.Linear(\n",
       "                    (base_layer): Linear(in_features=3584, out_features=3584, bias=True)\n",
       "                    (lora_dropout): ModuleDict(\n",
       "                      (default): Dropout(p=0.1, inplace=False)\n",
       "                    )\n",
       "                    (lora_A): ModuleDict(\n",
       "                      (default): Linear(in_features=3584, out_features=8, bias=False)\n",
       "                    )\n",
       "                    (lora_B): ModuleDict(\n",
       "                      (default): Linear(in_features=8, out_features=3584, bias=False)\n",
       "                    )\n",
       "                    (lora_embedding_A): ParameterDict()\n",
       "                    (lora_embedding_B): ParameterDict()\n",
       "                  )\n",
       "                  (k_proj): lora.Linear(\n",
       "                    (base_layer): Linear(in_features=3584, out_features=512, bias=True)\n",
       "                    (lora_dropout): ModuleDict(\n",
       "                      (default): Dropout(p=0.1, inplace=False)\n",
       "                    )\n",
       "                    (lora_A): ModuleDict(\n",
       "                      (default): Linear(in_features=3584, out_features=8, bias=False)\n",
       "                    )\n",
       "                    (lora_B): ModuleDict(\n",
       "                      (default): Linear(in_features=8, out_features=512, bias=False)\n",
       "                    )\n",
       "                    (lora_embedding_A): ParameterDict()\n",
       "                    (lora_embedding_B): ParameterDict()\n",
       "                  )\n",
       "                  (v_proj): lora.Linear(\n",
       "                    (base_layer): Linear(in_features=3584, out_features=512, bias=True)\n",
       "                    (lora_dropout): ModuleDict(\n",
       "                      (default): Dropout(p=0.1, inplace=False)\n",
       "                    )\n",
       "                    (lora_A): ModuleDict(\n",
       "                      (default): Linear(in_features=3584, out_features=8, bias=False)\n",
       "                    )\n",
       "                    (lora_B): ModuleDict(\n",
       "                      (default): Linear(in_features=8, out_features=512, bias=False)\n",
       "                    )\n",
       "                    (lora_embedding_A): ParameterDict()\n",
       "                    (lora_embedding_B): ParameterDict()\n",
       "                  )\n",
       "                  (o_proj): lora.Linear(\n",
       "                    (base_layer): Linear(in_features=3584, out_features=3584, bias=False)\n",
       "                    (lora_dropout): ModuleDict(\n",
       "                      (default): Dropout(p=0.1, inplace=False)\n",
       "                    )\n",
       "                    (lora_A): ModuleDict(\n",
       "                      (default): Linear(in_features=3584, out_features=8, bias=False)\n",
       "                    )\n",
       "                    (lora_B): ModuleDict(\n",
       "                      (default): Linear(in_features=8, out_features=3584, bias=False)\n",
       "                    )\n",
       "                    (lora_embedding_A): ParameterDict()\n",
       "                    (lora_embedding_B): ParameterDict()\n",
       "                  )\n",
       "                  (rotary_emb): Qwen2RotaryEmbedding()\n",
       "                )\n",
       "                (mlp): Qwen2MLP(\n",
       "                  (gate_proj): lora.Linear(\n",
       "                    (base_layer): Linear(in_features=3584, out_features=18944, bias=False)\n",
       "                    (lora_dropout): ModuleDict(\n",
       "                      (default): Dropout(p=0.1, inplace=False)\n",
       "                    )\n",
       "                    (lora_A): ModuleDict(\n",
       "                      (default): Linear(in_features=3584, out_features=8, bias=False)\n",
       "                    )\n",
       "                    (lora_B): ModuleDict(\n",
       "                      (default): Linear(in_features=8, out_features=18944, bias=False)\n",
       "                    )\n",
       "                    (lora_embedding_A): ParameterDict()\n",
       "                    (lora_embedding_B): ParameterDict()\n",
       "                  )\n",
       "                  (up_proj): lora.Linear(\n",
       "                    (base_layer): Linear(in_features=3584, out_features=18944, bias=False)\n",
       "                    (lora_dropout): ModuleDict(\n",
       "                      (default): Dropout(p=0.1, inplace=False)\n",
       "                    )\n",
       "                    (lora_A): ModuleDict(\n",
       "                      (default): Linear(in_features=3584, out_features=8, bias=False)\n",
       "                    )\n",
       "                    (lora_B): ModuleDict(\n",
       "                      (default): Linear(in_features=8, out_features=18944, bias=False)\n",
       "                    )\n",
       "                    (lora_embedding_A): ParameterDict()\n",
       "                    (lora_embedding_B): ParameterDict()\n",
       "                  )\n",
       "                  (down_proj): lora.Linear(\n",
       "                    (base_layer): Linear(in_features=18944, out_features=3584, bias=False)\n",
       "                    (lora_dropout): ModuleDict(\n",
       "                      (default): Dropout(p=0.1, inplace=False)\n",
       "                    )\n",
       "                    (lora_A): ModuleDict(\n",
       "                      (default): Linear(in_features=18944, out_features=8, bias=False)\n",
       "                    )\n",
       "                    (lora_B): ModuleDict(\n",
       "                      (default): Linear(in_features=8, out_features=3584, bias=False)\n",
       "                    )\n",
       "                    (lora_embedding_A): ParameterDict()\n",
       "                    (lora_embedding_B): ParameterDict()\n",
       "                  )\n",
       "                  (act_fn): SiLU()\n",
       "                )\n",
       "                (input_layernorm): Qwen2RMSNorm()\n",
       "                (post_attention_layernorm): Qwen2RMSNorm()\n",
       "              )\n",
       "            )\n",
       "            (norm): Qwen2RMSNorm()\n",
       "          )\n",
       "          (lm_head): Linear(in_features=3584, out_features=152064, bias=False)\n",
       "        )\n",
       "      )\n",
       "    )\n",
       "  )\n",
       ")"
      ]
     },
     "execution_count": 12,
     "metadata": {},
     "output_type": "execute_result"
    }
   ],
   "source": [
    "from peft import LoraConfig, TaskType, get_peft_model\n",
    "\n",
    "config = LoraConfig(\n",
    "    task_type=TaskType.CAUSAL_LM, \n",
    "    target_modules=[\"q_proj\", \"k_proj\", \"v_proj\", \"o_proj\", \"gate_proj\", \"up_proj\", \"down_proj\"],\n",
    "    inference_mode=False, # 训练模式\n",
    "    r=8, # Lora 秩\n",
    "    lora_alpha=32, # Lora alaph，具体作用参见 Lora 原理\n",
    "    lora_dropout=0.1# Dropout 比例\n",
    ")\n",
    "model = get_peft_model(model, config)\n",
    "model.print_trainable_parameters()\n",
    "model.to(device)"
   ]
  },
  {
   "cell_type": "code",
   "execution_count": 20,
   "id": "94d9ad29-2447-4900-ade1-16865712c463",
   "metadata": {
    "ExecutionIndicator": {
     "show": false
    },
    "execution": {
     "iopub.execute_input": "2024-07-17T15:26:09.263343Z",
     "iopub.status.busy": "2024-07-17T15:26:09.262959Z",
     "iopub.status.idle": "2024-07-17T15:26:09.268563Z",
     "shell.execute_reply": "2024-07-17T15:26:09.267845Z",
     "shell.execute_reply.started": "2024-07-17T15:26:09.263317Z"
    },
    "tags": []
   },
   "outputs": [],
   "source": [
    "args = TrainingArguments(\n",
    "    output_dir=\"./output/Qwen2_instruct_lora/20240716\",\n",
    "    per_device_train_batch_size=1,\n",
    "    gradient_accumulation_steps=8,\n",
    "    per_device_eval_batch_size=1,\n",
    "    weight_decay=0.01,\n",
    "    logging_steps=50,\n",
    "    eval_steps=200,\n",
    "    eval_strategy=\"steps\",\n",
    "    num_train_epochs=3,\n",
    "    save_steps=200, # 为了快速演示，这里设置10，建议你设置成100\n",
    "    learning_rate=1e-4,\n",
    "    save_on_each_node=True,\n",
    "    #bf16=True,\n",
    "    load_best_model_at_end=True,\n",
    "    gradient_checkpointing=True\n",
    ")"
   ]
  },
  {
   "cell_type": "code",
   "execution_count": 21,
   "id": "307cfd21-89ff-473e-b358-c957a50125ac",
   "metadata": {
    "ExecutionIndicator": {
     "show": true
    },
    "execution": {
     "iopub.execute_input": "2024-07-17T15:26:13.106941Z",
     "iopub.status.busy": "2024-07-17T15:26:13.106596Z",
     "iopub.status.idle": "2024-07-17T15:26:13.111547Z",
     "shell.execute_reply": "2024-07-17T15:26:13.110918Z",
     "shell.execute_reply.started": "2024-07-17T15:26:13.106920Z"
    },
    "tags": []
   },
   "outputs": [
    {
     "name": "stdout",
     "output_type": "stream",
     "text": [
      "Allocated: 19.47 GB, Cached: 19.89 GB, Total Used: 39.37 GB\n"
     ]
    }
   ],
   "source": [
    "import torch\n",
    "\n",
    "def print_memory_usage():\n",
    "    allocated = torch.cuda.memory_allocated() / (1024 * 1024 * 1024)\n",
    "    cached = torch.cuda.memory_reserved() / (1024 * 1024 * 1024)\n",
    "    total_used = allocated + cached\n",
    "    print(f'Allocated: {allocated:.2f} GB, Cached: {cached:.2f} GB, Total Used: {total_used:.2f} GB')\n",
    "\n",
    "torch.cuda.empty_cache()\n",
    "print_memory_usage()\n"
   ]
  },
  {
   "cell_type": "code",
   "execution_count": null,
   "id": "d9fbfbc1-0b42-4f5a-9948-4c56fb2d6bcd",
   "metadata": {
    "ExecutionIndicator": {
     "show": false
    },
    "execution": {
     "iopub.execute_input": "2024-07-17T15:26:16.237061Z",
     "iopub.status.busy": "2024-07-17T15:26:16.236468Z"
    },
    "tags": []
   },
   "outputs": [
    {
     "name": "stderr",
     "output_type": "stream",
     "text": [
      "Detected kernel version 4.19.91, which is below the recommended minimum of 5.5.0; this can cause the process to hang. It is recommended to upgrade the kernel to the minimum version or higher.\n"
     ]
    },
    {
     "data": {
      "text/html": [
       "\n",
       "    <div>\n",
       "      \n",
       "      <progress value='801' max='936' style='width:300px; height:20px; vertical-align: middle;'></progress>\n",
       "      [801/936 1:24:49 < 14:19, 0.16 it/s, Epoch 2.56/3]\n",
       "    </div>\n",
       "    <table border=\"1\" class=\"dataframe\">\n",
       "  <thead>\n",
       " <tr style=\"text-align: left;\">\n",
       "      <th>Step</th>\n",
       "      <th>Training Loss</th>\n",
       "      <th>Validation Loss</th>\n",
       "    </tr>\n",
       "  </thead>\n",
       "  <tbody>\n",
       "    <tr>\n",
       "      <td>200</td>\n",
       "      <td>0.381100</td>\n",
       "      <td>nan</td>\n",
       "    </tr>\n",
       "    <tr>\n",
       "      <td>400</td>\n",
       "      <td>0.207900</td>\n",
       "      <td>nan</td>\n",
       "    </tr>\n",
       "    <tr>\n",
       "      <td>600</td>\n",
       "      <td>0.214700</td>\n",
       "      <td>nan</td>\n",
       "    </tr>\n",
       "  </tbody>\n",
       "</table><p>\n",
       "    <div>\n",
       "      \n",
       "      <progress value='244' max='1000' style='width:300px; height:20px; vertical-align: middle;'></progress>\n",
       "      [ 244/1000 00:28 < 01:28, 8.58 it/s]\n",
       "    </div>\n",
       "    "
      ],
      "text/plain": [
       "<IPython.core.display.HTML object>"
      ]
     },
     "metadata": {},
     "output_type": "display_data"
    },
    {
     "name": "stderr",
     "output_type": "stream",
     "text": [
      "/usr/local/lib/python3.10/site-packages/torch/utils/checkpoint.py:464: UserWarning: torch.utils.checkpoint: the use_reentrant parameter should be passed explicitly. In version 2.4 we will raise an exception if use_reentrant is not passed. use_reentrant=False is recommended, but if you need to preserve the current default behavior, you can pass use_reentrant=True. Refer to docs for more details on the differences between the two variants.\n",
      "  warnings.warn(\n",
      "/usr/local/lib/python3.10/site-packages/torch/utils/checkpoint.py:464: UserWarning: torch.utils.checkpoint: the use_reentrant parameter should be passed explicitly. In version 2.4 we will raise an exception if use_reentrant is not passed. use_reentrant=False is recommended, but if you need to preserve the current default behavior, you can pass use_reentrant=True. Refer to docs for more details on the differences between the two variants.\n",
      "  warnings.warn(\n",
      "/usr/local/lib/python3.10/site-packages/torch/utils/checkpoint.py:464: UserWarning: torch.utils.checkpoint: the use_reentrant parameter should be passed explicitly. In version 2.4 we will raise an exception if use_reentrant is not passed. use_reentrant=False is recommended, but if you need to preserve the current default behavior, you can pass use_reentrant=True. Refer to docs for more details on the differences between the two variants.\n",
      "  warnings.warn(\n"
     ]
    }
   ],
   "source": [
    "trainer = Trainer(\n",
    "    model=model,\n",
    "    args=args,\n",
    "    train_dataset=tokenized_id,\n",
    "    eval_dataset=dev_data_id,\n",
    "    data_collator=DataCollatorForSeq2Seq(tokenizer=tokenizer, padding=True),\n",
    ")\n",
    "trainer.train()"
   ]
  },
  {
   "cell_type": "code",
   "execution_count": null,
   "id": "0ffc725c-7cb7-4d2b-b2ad-a74a37434db7",
   "metadata": {
    "ExecutionIndicator": {
     "show": true
    },
    "execution": {
     "iopub.status.busy": "2024-07-16T05:06:21.653911Z",
     "iopub.status.idle": "2024-07-16T05:06:21.654185Z",
     "shell.execute_reply": "2024-07-16T05:06:21.654094Z",
     "shell.execute_reply.started": "2024-07-16T05:06:21.654085Z"
    },
    "tags": []
   },
   "outputs": [],
   "source": [
    "# #模型下载\n",
    "# from modelscope import snapshot_download\n",
    "# from modelscope import AutoModelForCausalLM, AutoTokenizer\n",
    "# from prompt_template import get_sys_prompt\n",
    "# from peft import PeftModel\n",
    "# model_dir = snapshot_download('qwen/Qwen2-7B-Instruct')\n",
    "# lora_path = './output/Qwen2_instruct_lora/checkpoint-600'\n",
    "\n",
    "# device = \"cuda\"\n",
    "# # the device to load the model onto\n",
    "\n",
    "# model = AutoModelForCausalLM.from_pretrained(\n",
    "#     model_dir,\n",
    "#     torch_dtype=\"auto\",\n",
    "#     device_map=\"auto\"\n",
    "# )\n",
    "# model = PeftModel.from_pretrained(model, model_id=lora_path)\n",
    "# tokenizer = AutoTokenizer.from_pretrained(model_dir)\n",
    "\n",
    "\n",
    "# def qwen_response(prompt):\n",
    "\n",
    "#     messages = [\n",
    "#         {\"role\": \"system\", \"content\": get_sys_prompt()},\n",
    "#         {\"role\": \"user\", \"content\": prompt}\n",
    "#     ]\n",
    "#     text = tokenizer.apply_chat_template(\n",
    "#         messages,\n",
    "#         tokenize=False,\n",
    "#         add_generation_prompt=True\n",
    "#     )\n",
    "#     model_inputs = tokenizer([text], return_tensors=\"pt\").to(device)\n",
    "\n",
    "#     generated_ids = model.generate(\n",
    "#         model_inputs.input_ids,\n",
    "#         max_new_tokens=512\n",
    "#     )\n",
    "#     generated_ids = [\n",
    "#         output_ids[len(input_ids):] for input_ids, output_ids in zip(model_inputs.input_ids, generated_ids)\n",
    "#     ]\n",
    "\n",
    "#     response = tokenizer.batch_decode(generated_ids, skip_special_tokens=True)[0]\n",
    "#     return response\n"
   ]
  },
  {
   "cell_type": "code",
   "execution_count": null,
   "id": "0263109a-f7ab-4a76-881c-a75931b52196",
   "metadata": {
    "ExecutionIndicator": {
     "show": true
    },
    "execution": {
     "iopub.status.busy": "2024-07-16T05:06:21.654966Z",
     "iopub.status.idle": "2024-07-16T05:06:21.655159Z",
     "shell.execute_reply": "2024-07-16T05:06:21.655072Z",
     "shell.execute_reply.started": "2024-07-16T05:06:21.655063Z"
    },
    "tags": []
   },
   "outputs": [],
   "source": [
    "#qwen_response(\"你是谁\")"
   ]
  }
 ],
 "metadata": {
  "kernelspec": {
   "display_name": "Python 3 (ipykernel)",
   "language": "python",
   "name": "python3"
  },
  "language_info": {
   "codemirror_mode": {
    "name": "ipython",
    "version": 3
   },
   "file_extension": ".py",
   "mimetype": "text/x-python",
   "name": "python",
   "nbconvert_exporter": "python",
   "pygments_lexer": "ipython3",
   "version": "3.10.14"
  }
 },
 "nbformat": 4,
 "nbformat_minor": 5
}
