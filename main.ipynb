{
 "cells": [
  {
   "cell_type": "code",
   "execution_count": 11,
   "id": "65b94a19-e36c-4e18-80f2-93261b367201",
   "metadata": {
    "ExecutionIndicator": {
     "show": false
    },
    "execution": {
     "iopub.execute_input": "2024-07-19T13:06:21.664389Z",
     "iopub.status.busy": "2024-07-19T13:06:21.664077Z",
     "iopub.status.idle": "2024-07-19T13:08:20.184398Z",
     "shell.execute_reply": "2024-07-19T13:08:20.183869Z",
     "shell.execute_reply.started": "2024-07-19T13:06:21.664370Z"
    },
    "tags": []
   },
   "outputs": [
    {
     "name": "stderr",
     "output_type": "stream",
     "text": [
      "Downloading: 100%|██████████| 663/663 [00:00<00:00, 1.09kB/s]\n",
      "Downloading: 100%|██████████| 48.0/48.0 [00:00<00:00, 74.5B/s]\n",
      "Downloading: 100%|██████████| 243/243 [00:00<00:00, 494B/s]\n",
      "Downloading: 100%|██████████| 11.1k/11.1k [00:00<00:00, 21.6kB/s]\n",
      "Downloading: 100%|██████████| 1.59M/1.59M [00:00<00:00, 2.76MB/s]\n",
      "Downloading: 100%|██████████| 3.67G/3.67G [00:09<00:00, 396MB/s] \n",
      "Downloading: 100%|██████████| 3.60G/3.60G [00:09<00:00, 389MB/s] \n",
      "Downloading: 100%|██████████| 3.60G/3.60G [00:09<00:00, 402MB/s] \n",
      "Downloading: 100%|██████████| 3.31G/3.31G [00:11<00:00, 317MB/s] \n",
      "Downloading: 100%|██████████| 27.1k/27.1k [00:00<00:00, 65.7kB/s]\n",
      "Downloading: 100%|██████████| 6.41k/6.41k [00:00<00:00, 17.2kB/s]\n",
      "Downloading: 100%|██████████| 6.70M/6.70M [00:00<00:00, 9.67MB/s]\n",
      "Downloading: 100%|██████████| 1.26k/1.26k [00:00<00:00, 3.24kB/s]\n",
      "Downloading: 100%|██████████| 2.65M/2.65M [00:00<00:00, 5.81MB/s]\n"
     ]
    },
    {
     "data": {
      "application/vnd.jupyter.widget-view+json": {
       "model_id": "1f9873ba5ce24e0d97e602cfc31433d8",
       "version_major": 2,
       "version_minor": 0
      },
      "text/plain": [
       "Loading checkpoint shards:   0%|          | 0/4 [00:00<?, ?it/s]"
      ]
     },
     "metadata": {},
     "output_type": "display_data"
    },
    {
     "name": "stderr",
     "output_type": "stream",
     "text": [
      "Special tokens have been added in the vocabulary, make sure the associated word embeddings are fine-tuned or trained.\n"
     ]
    }
   ],
   "source": [
    "from openai import OpenAI\n",
    "import os\n",
    "from dotenv import dotenv_values\n",
    "from ReadLoad import read_jsonl, write_jsonl, read_json,write_json\n",
    "from tqdm import tqdm\n",
    "from evaluation import get_embedding, cosine_similarity\n",
    "from prompt_template import get_sys_prompt, get_qa_prompt\n",
    "#from shusheng import  get_respond\n",
    "from eval_data import key_word_score\n",
    "from qwen import qwen_response\n",
    "import pandas as pd\n",
    "import time\n",
    "\n",
    "config = dotenv_values('.env')\n",
    "client = OpenAI(\n",
    "    api_key=config['qwen_key'],\n",
    "    base_url=config['qwen_url']\n",
    ")\n",
    "\n",
    "\n",
    "def get_response(prompt):\n",
    "    time.sleep(0.1)\n",
    "    try:\n",
    "        completion = client.chat.completions.create(\n",
    "            model=\"qwen2-7b-instruct\",\n",
    "            messages=[\n",
    "                {'role': 'system', 'content': get_sys_prompt()},\n",
    "                {'role': 'user', 'content': prompt}\n",
    "            ]\n",
    "\n",
    "            )\n",
    "        return completion.choices[0].message.content\n",
    "    except Exception as e:\n",
    "    # Handle any other unexpected exceptions\n",
    "        print(f\"An unexpected error occurred: {e}\")\n",
    "        return f\"An unexpected error occurred: {e}\"\n"
   ]
  },
  {
   "cell_type": "code",
   "execution_count": 2,
   "id": "1ad2555a-89a6-48d7-aa98-34ad67cc8f6c",
   "metadata": {
    "ExecutionIndicator": {
     "show": true
    },
    "execution": {
     "iopub.execute_input": "2024-07-18T15:45:10.240386Z",
     "iopub.status.busy": "2024-07-18T15:45:10.239948Z",
     "iopub.status.idle": "2024-07-18T15:45:10.244035Z",
     "shell.execute_reply": "2024-07-18T15:45:10.243578Z",
     "shell.execute_reply.started": "2024-07-18T15:45:10.240367Z"
    },
    "tags": []
   },
   "outputs": [],
   "source": [
    "def completion(data):\n",
    "    for d in tqdm(data):\n",
    "        query = d['问题']\n",
    "        clause = d['条款']\n",
    "        name = d['产品名']\n",
    "        prompt = get_qa_prompt(name,clause,query)\n",
    "        d['prompt'] = prompt\n",
    "        #d['answer'] = get_response(prompt)\n",
    "        #d['answer'] = get_respond(prompt)\n",
    "        d['answer'] = qwen_response(prompt)\n",
    "    return data"
   ]
  },
  {
   "cell_type": "code",
   "execution_count": 3,
   "id": "9b3ce02f-6c56-4b5f-af8a-cafc12ea95f7",
   "metadata": {
    "ExecutionIndicator": {
     "show": false
    },
    "execution": {
     "iopub.execute_input": "2024-07-18T15:45:10.245072Z",
     "iopub.status.busy": "2024-07-18T15:45:10.244748Z",
     "iopub.status.idle": "2024-07-18T15:45:10.249016Z",
     "shell.execute_reply": "2024-07-18T15:45:10.248490Z",
     "shell.execute_reply.started": "2024-07-18T15:45:10.245054Z"
    },
    "tags": []
   },
   "outputs": [],
   "source": [
    "def evaluation(data, name=\"测试数据\"):\n",
    "    similaritys = []\n",
    "    for d in tqdm(data):\n",
    "        vec1 = dev_data_embd[d['ID']]\n",
    "        vec2 = get_embedding(d['answer'])\n",
    "        similarity = cosine_similarity(vec1, vec2)\n",
    "        d['similarity'] = similarity\n",
    "        d['key_word_similarity'] = key_word_score(d['答案'], d['answer'])\n",
    "        similaritys.append(similarity)\n",
    "    length = len(data)\n",
    "    score = sum(similaritys)/length\n",
    "    print(f'测评数据集：{length} 模型推理结果与答案的相识度得分：{score}')\n",
    "    df = pd.DataFrame(data)\n",
    "    df.to_excel(f\"{name}_score_{score}.xlsx\", index=False)\n",
    "    return data"
   ]
  },
  {
   "cell_type": "code",
   "execution_count": 29,
   "id": "77f50be4-e373-4c4c-bef9-0ed5aa5d51d5",
   "metadata": {
    "ExecutionIndicator": {
     "show": true
    },
    "execution": {
     "iopub.execute_input": "2024-07-19T13:31:10.001598Z",
     "iopub.status.busy": "2024-07-19T13:31:10.001099Z",
     "iopub.status.idle": "2024-07-19T13:31:11.345273Z",
     "shell.execute_reply": "2024-07-19T13:31:11.344751Z",
     "shell.execute_reply.started": "2024-07-19T13:31:10.001561Z"
    },
    "tags": []
   },
   "outputs": [],
   "source": [
    "df = pd.DataFrame(train_eval)\n",
    "df.to_excel(\"train_eval.xlsx\", index=False)"
   ]
  },
  {
   "cell_type": "code",
   "execution_count": 4,
   "id": "77369f89-2d8a-483e-b50f-a41ce77e2a9c",
   "metadata": {
    "ExecutionIndicator": {
     "show": true
    },
    "execution": {
     "iopub.execute_input": "2024-07-18T15:45:10.249952Z",
     "iopub.status.busy": "2024-07-18T15:45:10.249738Z",
     "iopub.status.idle": "2024-07-18T15:45:10.253345Z",
     "shell.execute_reply": "2024-07-18T15:45:10.252682Z",
     "shell.execute_reply.started": "2024-07-18T15:45:10.249936Z"
    },
    "tags": []
   },
   "outputs": [],
   "source": [
    "def to_summit_json(data, commit=\"大道至简_result\"):\n",
    "    result = []\n",
    "    for d in data:\n",
    "        rd = {\n",
    "            \"ID\": d['ID'],\n",
    "            \"question\": d['问题'],\n",
    "            \"answer\": d['answer']\n",
    "        }\n",
    "        result.append(rd)\n",
    "    #write_json(result, commit)\n",
    "    write_jsonl(result, commit)"
   ]
  },
  {
   "cell_type": "markdown",
   "id": "c47b107e-4453-4bc6-b33b-0f9e07c4fcdd",
   "metadata": {},
   "source": [
    "### loading data"
   ]
  },
  {
   "cell_type": "code",
   "execution_count": 12,
   "id": "0df35a68-bade-4048-8944-a1d885dff3b3",
   "metadata": {
    "ExecutionIndicator": {
     "show": true
    },
    "execution": {
     "iopub.execute_input": "2024-07-19T13:08:36.158218Z",
     "iopub.status.busy": "2024-07-19T13:08:36.157743Z",
     "iopub.status.idle": "2024-07-19T13:08:36.164722Z",
     "shell.execute_reply": "2024-07-19T13:08:36.164235Z",
     "shell.execute_reply.started": "2024-07-19T13:08:36.158198Z"
    },
    "tags": []
   },
   "outputs": [],
   "source": [
    "test_data = read_json(\"dataset/test.json\")\n",
    "# dev_data = read_jsonl(\"dataset/resultdev_with_embedding.jsonl\")\n",
    "# dev_data_embd = {}\n",
    "# for d in dev_data:\n",
    "#     dev_data_embd[d['ID']] = d['ans_embedding']\n",
    "#     d.pop('ans_embedding')"
   ]
  },
  {
   "cell_type": "code",
   "execution_count": 6,
   "id": "256fa651-bc68-440e-a7d8-2d7fe84232f2",
   "metadata": {
    "ExecutionIndicator": {
     "show": true
    },
    "execution": {
     "iopub.execute_input": "2024-07-18T15:45:10.265979Z",
     "iopub.status.busy": "2024-07-18T15:45:10.265714Z",
     "iopub.status.idle": "2024-07-18T16:10:36.562691Z",
     "shell.execute_reply": "2024-07-18T16:10:36.562118Z",
     "shell.execute_reply.started": "2024-07-18T15:45:10.265960Z"
    },
    "tags": []
   },
   "outputs": [
    {
     "name": "stderr",
     "output_type": "stream",
     "text": [
      "100%|██████████| 1000/1000 [25:26<00:00,  1.53s/it]\n"
     ]
    }
   ],
   "source": [
    "# 将数据也移到GPU上\n",
    "# comp_data = completion(dev_data[:100])\n",
    "# eval_data = evaluation(comp_data)\n",
    "\n",
    "test_data_result = completion(test_data)\n",
    "to_summit_json(test_data_result)\n"
   ]
  },
  {
   "cell_type": "code",
   "execution_count": 7,
   "id": "b1aef090-1de2-477f-a3d0-2ce7c1389335",
   "metadata": {
    "ExecutionIndicator": {
     "show": true
    },
    "execution": {
     "iopub.execute_input": "2024-07-18T16:10:36.564788Z",
     "iopub.status.busy": "2024-07-18T16:10:36.564116Z",
     "iopub.status.idle": "2024-07-18T16:10:37.217434Z",
     "shell.execute_reply": "2024-07-18T16:10:37.216803Z",
     "shell.execute_reply.started": "2024-07-18T16:10:36.564760Z"
    },
    "tags": []
   },
   "outputs": [
    {
     "data": {
      "text/plain": [
       "'你好！有什么关于保险条款的问题我可以帮助你解答吗？'"
      ]
     },
     "execution_count": 7,
     "metadata": {},
     "output_type": "execute_result"
    }
   ],
   "source": [
    "from qwen import qwen_response\n",
    "qwen_response(\"你好\")"
   ]
  },
  {
   "cell_type": "markdown",
   "id": "86fc179f-60b2-48ea-9a3b-2afd8eecf130",
   "metadata": {},
   "source": [
    "### 参考资料"
   ]
  },
  {
   "cell_type": "markdown",
   "id": "3f0de316-f32f-45dc-9fe5-61129933bf24",
   "metadata": {},
   "source": [
    "https://dashscope.console.aliyun.com/billing"
   ]
  }
 ],
 "metadata": {
  "kernelspec": {
   "display_name": "Python 3 (ipykernel)",
   "language": "python",
   "name": "python3"
  },
  "language_info": {
   "codemirror_mode": {
    "name": "ipython",
    "version": 3
   },
   "file_extension": ".py",
   "mimetype": "text/x-python",
   "name": "python",
   "nbconvert_exporter": "python",
   "pygments_lexer": "ipython3",
   "version": "3.10.14"
  }
 },
 "nbformat": 4,
 "nbformat_minor": 5
}
