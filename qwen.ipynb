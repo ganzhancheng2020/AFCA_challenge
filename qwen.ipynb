{
 "cells": [
  {
   "cell_type": "code",
   "execution_count": 55,
   "id": "65b94a19-e36c-4e18-80f2-93261b367201",
   "metadata": {
    "ExecutionIndicator": {
     "show": true
    },
    "execution": {
     "iopub.execute_input": "2024-07-06T14:45:38.823225Z",
     "iopub.status.busy": "2024-07-06T14:45:38.822879Z",
     "iopub.status.idle": "2024-07-06T14:45:38.873635Z",
     "shell.execute_reply": "2024-07-06T14:45:38.873022Z",
     "shell.execute_reply.started": "2024-07-06T14:45:38.823205Z"
    },
    "tags": []
   },
   "outputs": [],
   "source": [
    "from openai import OpenAI\n",
    "import os\n",
    "from dotenv import dotenv_values\n",
    "from ReadLoad import read_jsonl, write_jsonl, read_json\n",
    "from tqdm import tqdm\n",
    "\n",
    "config = dotenv_values('.env')\n",
    "client = OpenAI(\n",
    "    api_key = config['qwen_key'],\n",
    "    base_url = config['qwen_url']\n",
    ")\n",
    "\n",
    "def get_response(prompt):\n",
    "    try:\n",
    "        completion = client.chat.completions.create(\n",
    "            model=\"qwen2-7b-instruct\",\n",
    "            messages=[\n",
    "                {'role': 'system', 'content': \"你是一个基于保险条款的问答系统，对用户提出的有关保险条款的问题给予准确、清晰的回答。\"},\n",
    "                {'role': 'user', 'content': prompt}\n",
    "            ]\n",
    "\n",
    "            )\n",
    "        return completion.choices[0].message.content\n",
    "    except Exception as e:\n",
    "    # Handle any other unexpected exceptions\n",
    "        print(f\"An unexpected error occurred: {e}\")\n",
    "        return f\"An unexpected error occurred: {e}\"\n"
   ]
  },
  {
   "cell_type": "code",
   "execution_count": 24,
   "id": "e0602df2-d4fd-470e-b359-c8d739c48433",
   "metadata": {
    "ExecutionIndicator": {
     "show": true
    },
    "execution": {
     "iopub.execute_input": "2024-07-06T12:39:33.252144Z",
     "iopub.status.busy": "2024-07-06T12:39:33.251779Z",
     "iopub.status.idle": "2024-07-06T12:39:33.256183Z",
     "shell.execute_reply": "2024-07-06T12:39:33.255597Z",
     "shell.execute_reply.started": "2024-07-06T12:39:33.252123Z"
    },
    "tags": []
   },
   "outputs": [],
   "source": [
    "import numpy as np\n",
    "def cosine_similarity(vec1, vec2):\n",
    "    \"\"\"\n",
    "    Calculate the cosine similarity between two vectors.\n",
    "    \n",
    "    :param vec1: First vector (numpy array).\n",
    "    :param vec2: Second vector (numpy array).\n",
    "    :return: Cosine similarity score (float).\n",
    "    \"\"\"\n",
    "    vec1 = np.array(vec1)\n",
    "    vec2 = np.array(vec2)\n",
    "    dot_product = np.dot(vec1, vec2)\n",
    "    norm_vec1 = np.linalg.norm(vec1)\n",
    "    norm_vec2 = np.linalg.norm(vec2)\n",
    "    similarity = dot_product / (norm_vec1 * norm_vec2)\n",
    "    return similarity"
   ]
  },
  {
   "cell_type": "code",
   "execution_count": 56,
   "id": "021dc6ec-d244-4f85-94f7-8ceda1352c33",
   "metadata": {
    "execution": {
     "iopub.execute_input": "2024-07-06T14:45:46.673517Z",
     "iopub.status.busy": "2024-07-06T14:45:46.673159Z",
     "iopub.status.idle": "2024-07-06T14:45:46.677317Z",
     "shell.execute_reply": "2024-07-06T14:45:46.676847Z",
     "shell.execute_reply.started": "2024-07-06T14:45:46.673497Z"
    },
    "tags": []
   },
   "outputs": [],
   "source": [
    "#!pip install dashscope\n",
    "import dashscope\n",
    "from http import HTTPStatus\n",
    "dashscope.api_key = config['qwen_key'] \n",
    "\n",
    "def get_embedding(embed_text):\n",
    "    \n",
    "    respond = ''\n",
    "    try:\n",
    "        respond = dashscope.TextEmbedding.call(\n",
    "            model = dashscope.TextEmbedding.Models.text_embedding_v2,\n",
    "            input = embed_text)\n",
    "        \n",
    "        embedding = respond.output['embeddings'][0]['embedding']\n",
    "        \n",
    "    except Exception as e:\n",
    "        # Handle any other unexpected exceptions\n",
    "        print(f\"An unexpected error occurred: {e}\")\n",
    "    \n",
    "    return embedding"
   ]
  },
  {
   "cell_type": "code",
   "execution_count": 57,
   "id": "e0a309e2-0256-42f4-9b6d-7791f07b9ba0",
   "metadata": {
    "ExecutionIndicator": {
     "show": true
    },
    "execution": {
     "iopub.execute_input": "2024-07-06T14:45:48.741485Z",
     "iopub.status.busy": "2024-07-06T14:45:48.741124Z",
     "iopub.status.idle": "2024-07-06T14:45:48.744591Z",
     "shell.execute_reply": "2024-07-06T14:45:48.744049Z",
     "shell.execute_reply.started": "2024-07-06T14:45:48.741464Z"
    },
    "tags": []
   },
   "outputs": [],
   "source": [
    "qa_prompt = '''从保险条款\n",
    "==========\n",
    "{}\n",
    "==========\n",
    "中找问题\n",
    "==========\n",
    "{}\n",
    "==========\n",
    "的答案，找到答案就仅使用保险条款中的语句回答问题，找不到答案就用自身知识回答并且告诉用户该信息不是来自文档。\n",
    "不要复述问题，不要回答无关的内容, 直接开始回答问题。\n",
    "'''\n",
    "\n",
    "qa_prompt = '''\n",
    "保险条款: \"\"\"{}\"\"\"\n",
    "用户问题：\"\"\"{}\"\"\"\n",
    "回答规则：\"\"\"仅使用保险条款中的语句回答问题\"\"\"\n",
    "回答: \n",
    "'''"
   ]
  },
  {
   "cell_type": "code",
   "execution_count": 58,
   "id": "0df35a68-bade-4048-8944-a1d885dff3b3",
   "metadata": {
    "ExecutionIndicator": {
     "show": true
    },
    "execution": {
     "iopub.execute_input": "2024-07-06T14:46:07.149436Z",
     "iopub.status.busy": "2024-07-06T14:46:07.149073Z",
     "iopub.status.idle": "2024-07-06T14:46:07.356224Z",
     "shell.execute_reply": "2024-07-06T14:46:07.355477Z",
     "shell.execute_reply.started": "2024-07-06T14:46:07.149415Z"
    },
    "tags": []
   },
   "outputs": [],
   "source": [
    "data = read_jsonl(\"resultdev_with_embedding.jsonl\")"
   ]
  },
  {
   "cell_type": "code",
   "execution_count": null,
   "id": "1ad2555a-89a6-48d7-aa98-34ad67cc8f6c",
   "metadata": {
    "ExecutionIndicator": {
     "show": true
    },
    "tags": []
   },
   "outputs": [],
   "source": [
    "#data = read_json(\"resultdev_with_embedding.json\")\n",
    "similaritys = []\n",
    "for d in tqdm(data):\n",
    "    query = d['问题']\n",
    "    clause = d['条款']\n",
    "    prompt = qa_prompt.format(clause, query)\n",
    "    d['prompt'] = prompt\n",
    "    d['answer'] = get_response(prompt)\n",
    "    vec1 = data['embedding']\n",
    "    vec2 = get_embedding(d['answer'])\n",
    "    similarity = cosine_similarity(vec1, vec2)\n",
    "    d['similarity'] = similarity\n",
    "    similaritys.append(similarity)\n",
    "\n"
   ]
  },
  {
   "cell_type": "code",
   "execution_count": 40,
   "id": "9b94d5c8-4826-4915-8198-8e445b0a8739",
   "metadata": {
    "ExecutionIndicator": {
     "show": true
    },
    "execution": {
     "iopub.execute_input": "2024-07-06T13:19:29.337026Z",
     "iopub.status.busy": "2024-07-06T13:19:29.336644Z",
     "iopub.status.idle": "2024-07-06T13:23:23.186188Z",
     "shell.execute_reply": "2024-07-06T13:23:23.185704Z",
     "shell.execute_reply.started": "2024-07-06T13:19:29.337005Z"
    },
    "tags": []
   },
   "outputs": [
    {
     "name": "stderr",
     "output_type": "stream",
     "text": [
      "100%|██████████| 1000/1000 [03:53<00:00,  4.28it/s]\n"
     ]
    }
   ],
   "source": [
    "similaritys = []\n",
    "for d in tqdm(data):\n",
    "    vec1 = d['ans_embedding']\n",
    "    vec2 = get_embedding(d['answer'])\n",
    "    similarity = cosine_similarity(vec1, vec2)\n",
    "    d['similarity'] = similarity\n",
    "    similaritys.append(similarity)"
   ]
  },
  {
   "cell_type": "code",
   "execution_count": 49,
   "id": "256fa651-bc68-440e-a7d8-2d7fe84232f2",
   "metadata": {
    "ExecutionIndicator": {
     "show": false
    },
    "execution": {
     "iopub.execute_input": "2024-07-06T14:00:12.822189Z",
     "iopub.status.busy": "2024-07-06T14:00:12.821456Z",
     "iopub.status.idle": "2024-07-06T14:00:12.830105Z",
     "shell.execute_reply": "2024-07-06T14:00:12.829344Z",
     "shell.execute_reply.started": "2024-07-06T14:00:12.822148Z"
    },
    "tags": []
   },
   "outputs": [],
   "source": [
    "import pandas as pd\n",
    "df = pd.DataFrame(data)\n",
    "df.to_excel(\"AFAC240706.xlsx\",index=False)"
   ]
  },
  {
   "cell_type": "code",
   "execution_count": 65,
   "id": "b442b1b2-00a2-4171-9d2d-f1af44f1c498",
   "metadata": {
    "ExecutionIndicator": {
     "show": true
    },
    "execution": {
     "iopub.execute_input": "2024-07-06T14:52:21.254598Z",
     "iopub.status.busy": "2024-07-06T14:52:21.254065Z",
     "iopub.status.idle": "2024-07-06T15:09:38.931116Z",
     "shell.execute_reply": "2024-07-06T15:09:38.930303Z",
     "shell.execute_reply.started": "2024-07-06T14:52:21.254528Z"
    },
    "tags": []
   },
   "outputs": [
    {
     "name": "stderr",
     "output_type": "stream",
     "text": [
      " 22%|██▏       | 219/1000 [03:36<18:51,  1.45s/it]"
     ]
    },
    {
     "name": "stdout",
     "output_type": "stream",
     "text": [
      "An unexpected error occurred: Error code: 429 - {'error': {'code': 'limit_requests', 'param': None, 'message': 'You exceeded your current requests list.', 'type': 'limit_requests'}, 'id': 'chatcmpl-f99d9c89-0351-9f26-8ab6-49c1a10612ff'}\n"
     ]
    },
    {
     "name": "stderr",
     "output_type": "stream",
     "text": [
      " 28%|██▊       | 280/1000 [04:31<17:50,  1.49s/it]"
     ]
    },
    {
     "name": "stdout",
     "output_type": "stream",
     "text": [
      "An unexpected error occurred: Error code: 429 - {'error': {'code': 'limit_requests', 'param': None, 'message': 'You exceeded your current requests list.', 'type': 'limit_requests'}, 'id': 'chatcmpl-c6507938-acb5-98e9-a5cb-9a4e8219869a'}\n"
     ]
    },
    {
     "name": "stderr",
     "output_type": "stream",
     "text": [
      " 28%|██▊       | 281/1000 [04:34<23:00,  1.92s/it]"
     ]
    },
    {
     "name": "stdout",
     "output_type": "stream",
     "text": [
      "An unexpected error occurred: Error code: 429 - {'error': {'code': 'limit_requests', 'param': None, 'message': 'You exceeded your current requests list.', 'type': 'limit_requests'}, 'id': 'chatcmpl-7a3aa16b-b7e4-92aa-946d-c5a7ccbcbd00'}\n"
     ]
    },
    {
     "name": "stderr",
     "output_type": "stream",
     "text": [
      " 28%|██▊       | 282/1000 [04:36<25:33,  2.14s/it]"
     ]
    },
    {
     "name": "stdout",
     "output_type": "stream",
     "text": [
      "An unexpected error occurred: Error code: 429 - {'error': {'code': 'limit_requests', 'param': None, 'message': 'You exceeded your current requests list.', 'type': 'limit_requests'}, 'id': 'chatcmpl-da386601-13c9-98cc-8172-f6737b664bb3'}\n"
     ]
    },
    {
     "name": "stderr",
     "output_type": "stream",
     "text": [
      " 40%|███▉      | 396/1000 [06:33<05:34,  1.81it/s]"
     ]
    },
    {
     "name": "stdout",
     "output_type": "stream",
     "text": [
      "An unexpected error occurred: Error code: 400 - {'error': {'code': 'data_inspection_failed', 'param': None, 'message': 'Input data may contain inappropriate content.', 'type': 'data_inspection_failed'}, 'id': 'chatcmpl-a1a483b7-c678-92b9-83f8-8ebe5c50b1fc'}\n"
     ]
    },
    {
     "name": "stderr",
     "output_type": "stream",
     "text": [
      " 40%|███▉      | 397/1000 [06:36<12:14,  1.22s/it]"
     ]
    },
    {
     "name": "stdout",
     "output_type": "stream",
     "text": [
      "An unexpected error occurred: Error code: 429 - {'error': {'code': 'limit_requests', 'param': None, 'message': 'You exceeded your current requests list.', 'type': 'limit_requests'}, 'id': 'chatcmpl-5f97278b-cc0f-913a-bdab-ee862c36a1a0'}\n"
     ]
    },
    {
     "name": "stderr",
     "output_type": "stream",
     "text": [
      " 62%|██████▏   | 618/1000 [10:33<08:32,  1.34s/it]"
     ]
    },
    {
     "name": "stdout",
     "output_type": "stream",
     "text": [
      "An unexpected error occurred: Error code: 429 - {'error': {'code': 'limit_requests', 'param': None, 'message': 'You exceeded your current requests list.', 'type': 'limit_requests'}, 'id': 'chatcmpl-d9a6e6e6-6636-92a4-9988-7055b55656d3'}\n"
     ]
    },
    {
     "name": "stderr",
     "output_type": "stream",
     "text": [
      " 62%|██████▏   | 619/1000 [10:35<10:58,  1.73s/it]"
     ]
    },
    {
     "name": "stdout",
     "output_type": "stream",
     "text": [
      "An unexpected error occurred: Error code: 429 - {'error': {'code': 'limit_requests', 'param': None, 'message': 'You exceeded your current requests list.', 'type': 'limit_requests'}, 'id': 'chatcmpl-c2a70e6c-1063-9cbd-b9e6-b2da9dfef4a2'}\n"
     ]
    },
    {
     "name": "stderr",
     "output_type": "stream",
     "text": [
      " 62%|██████▏   | 620/1000 [10:38<12:27,  1.97s/it]"
     ]
    },
    {
     "name": "stdout",
     "output_type": "stream",
     "text": [
      "An unexpected error occurred: Error code: 429 - {'error': {'code': 'limit_requests', 'param': None, 'message': 'You exceeded your current requests list.', 'type': 'limit_requests'}, 'id': 'chatcmpl-8344bbb3-30a9-9f95-8995-c5131bb53e07'}\n"
     ]
    },
    {
     "name": "stderr",
     "output_type": "stream",
     "text": [
      " 68%|██████▊   | 681/1000 [11:38<07:21,  1.38s/it]"
     ]
    },
    {
     "name": "stdout",
     "output_type": "stream",
     "text": [
      "An unexpected error occurred: Error code: 429 - {'error': {'code': 'limit_requests', 'param': None, 'message': 'You exceeded your current requests list.', 'type': 'limit_requests'}, 'id': 'chatcmpl-d9802d3a-cc58-94ff-96a7-f0cf23994de5'}\n"
     ]
    },
    {
     "name": "stderr",
     "output_type": "stream",
     "text": [
      " 86%|████████▌ | 859/1000 [14:50<01:01,  2.31it/s]"
     ]
    },
    {
     "name": "stdout",
     "output_type": "stream",
     "text": [
      "An unexpected error occurred: Error code: 400 - {'error': {'code': 'data_inspection_failed', 'param': None, 'message': 'Input data may contain inappropriate content.', 'type': 'data_inspection_failed'}, 'id': 'chatcmpl-ce9d52c4-2ddd-9813-b1cf-f65a79c2733f'}\n"
     ]
    },
    {
     "name": "stderr",
     "output_type": "stream",
     "text": [
      " 90%|█████████ | 905/1000 [15:35<02:11,  1.39s/it]"
     ]
    },
    {
     "name": "stdout",
     "output_type": "stream",
     "text": [
      "An unexpected error occurred: Error code: 429 - {'error': {'code': 'limit_requests', 'param': None, 'message': 'You exceeded your current requests list.', 'type': 'limit_requests'}, 'id': 'chatcmpl-ec9d686c-c5ce-959e-98cf-285121238e14'}\n"
     ]
    },
    {
     "name": "stderr",
     "output_type": "stream",
     "text": [
      " 91%|█████████ | 906/1000 [15:38<02:48,  1.79s/it]"
     ]
    },
    {
     "name": "stdout",
     "output_type": "stream",
     "text": [
      "An unexpected error occurred: Error code: 429 - {'error': {'code': 'limit_requests', 'param': None, 'message': 'You exceeded your current requests list.', 'type': 'limit_requests'}, 'id': 'chatcmpl-c6acd433-2145-9faf-89d0-bd46a69e8224'}\n"
     ]
    },
    {
     "name": "stderr",
     "output_type": "stream",
     "text": [
      "100%|██████████| 1000/1000 [17:17<00:00,  1.04s/it]\n"
     ]
    }
   ],
   "source": [
    "test_data = read_json(\"test.json\")\n",
    "result = []\n",
    "for d in tqdm(test_data):\n",
    "    query = d['问题']\n",
    "    clause = d['条款']\n",
    "    prompt = qa_prompt.format(clause, query)\n",
    "    answer = get_response(prompt)\n",
    "    rd = {\n",
    "        \"ID\": d['ID'],\n",
    "        \"question\": query,\n",
    "        \"answer\": answer\n",
    "    }\n",
    "    result.append(rd)"
   ]
  },
  {
   "cell_type": "code",
   "execution_count": null,
   "id": "a0376497-d67c-4695-988c-40fdcd6f80e9",
   "metadata": {
    "ExecutionIndicator": {
     "show": true
    },
    "tags": []
   },
   "outputs": [],
   "source": [
    "for i in [218,279,280,281,386,617,618,619,680,904,905]:\n",
    "    query = test_data[i]['问题']\n",
    "    clause = test_data[i]['条款']\n",
    "    prompt = qa_prompt.format(clause, query)\n",
    "    answer = get_response(prompt)\n",
    "    rd = {\n",
    "        \"ID\": test_data[i]['ID'],\n",
    "        \"question\": query,\n",
    "        \"answer\": answer\n",
    "    }\n",
    "    result[i] = rd"
   ]
  },
  {
   "cell_type": "code",
   "execution_count": null,
   "id": "748255fc-9c8d-4119-aaa8-8f86e455e8ea",
   "metadata": {
    "ExecutionIndicator": {
     "show": true
    },
    "tags": []
   },
   "outputs": [],
   "source": [
    "test_data[858]"
   ]
  },
  {
   "cell_type": "code",
   "execution_count": 86,
   "id": "e9412f5f-e976-4fc8-bedd-4e4b9a31af54",
   "metadata": {
    "ExecutionIndicator": {
     "show": true
    },
    "execution": {
     "iopub.execute_input": "2024-07-06T15:29:38.355769Z",
     "iopub.status.busy": "2024-07-06T15:29:38.355312Z",
     "iopub.status.idle": "2024-07-06T15:29:38.359259Z",
     "shell.execute_reply": "2024-07-06T15:29:38.358696Z",
     "shell.execute_reply.started": "2024-07-06T15:29:38.355737Z"
    },
    "tags": []
   },
   "outputs": [],
   "source": [
    "result[395]['answer'] = \"在战争期间，如果被保险人身故或残疾，保险人不负任何给付保险金责任。\"\n",
    "result[858]['answer'] = \"如果被保险人使用或拥有的海、陆、空运输工具造成损失和责任，保险人不负责赔偿。\""
   ]
  },
  {
   "cell_type": "code",
   "execution_count": null,
   "id": "773e1bd3-a0ff-41e5-8a04-4d790c8a781a",
   "metadata": {},
   "outputs": [],
   "source": []
  },
  {
   "cell_type": "code",
   "execution_count": 75,
   "id": "7d142ef8-6145-4991-8606-ea889e360a04",
   "metadata": {
    "ExecutionIndicator": {
     "show": true
    },
    "execution": {
     "iopub.execute_input": "2024-07-06T15:20:34.203607Z",
     "iopub.status.busy": "2024-07-06T15:20:34.203198Z",
     "iopub.status.idle": "2024-07-06T15:20:34.207816Z",
     "shell.execute_reply": "2024-07-06T15:20:34.207181Z",
     "shell.execute_reply.started": "2024-07-06T15:20:34.203579Z"
    },
    "tags": []
   },
   "outputs": [
    {
     "data": {
      "text/plain": [
       "6218"
      ]
     },
     "execution_count": 75,
     "metadata": {},
     "output_type": "execute_result"
    }
   ],
   "source": [
    "test_data[218]['ID']"
   ]
  },
  {
   "cell_type": "code",
   "execution_count": 87,
   "id": "492e476d-a485-4b36-afc2-9e77c245d1ae",
   "metadata": {
    "ExecutionIndicator": {
     "show": true
    },
    "execution": {
     "iopub.execute_input": "2024-07-06T15:30:06.660045Z",
     "iopub.status.busy": "2024-07-06T15:30:06.659590Z",
     "iopub.status.idle": "2024-07-06T15:30:06.682883Z",
     "shell.execute_reply": "2024-07-06T15:30:06.682022Z",
     "shell.execute_reply.started": "2024-07-06T15:30:06.660016Z"
    },
    "tags": []
   },
   "outputs": [],
   "source": [
    " write_jsonl(result,\"result0706\")"
   ]
  },
  {
   "cell_type": "code",
   "execution_count": 18,
   "id": "82df5b50-115b-4caf-b26e-29f4db399900",
   "metadata": {
    "ExecutionIndicator": {
     "show": true
    },
    "execution": {
     "iopub.execute_input": "2024-07-06T07:36:29.823212Z",
     "iopub.status.busy": "2024-07-06T07:36:29.822854Z",
     "iopub.status.idle": "2024-07-06T07:40:33.116296Z",
     "shell.execute_reply": "2024-07-06T07:40:33.115574Z",
     "shell.execute_reply.started": "2024-07-06T07:36:29.823193Z"
    },
    "tags": []
   },
   "outputs": [
    {
     "name": "stdout",
     "output_type": "stream",
     "text": [
      "Looking in indexes: https://mirrors.cloud.aliyuncs.com/pypi/simple\n",
      "Requirement already satisfied: tqdm in /usr/local/lib/python3.10/site-packages (4.66.4)\n",
      "\u001b[33mDEPRECATION: pytorch-lightning 1.7.7 has a non-standard dependency specifier torch>=1.9.*. pip 24.1 will enforce this behaviour change. A possible replacement is to upgrade to a newer version of pytorch-lightning or contact the author to suggest that they release a version with a conforming dependency specifiers. Discussion can be found at https://github.com/pypa/pip/issues/12063\u001b[0m\u001b[33m\n",
      "\u001b[0m\u001b[33mWARNING: Running pip as the 'root' user can result in broken permissions and conflicting behaviour with the system package manager. It is recommended to use a virtual environment instead: https://pip.pypa.io/warnings/venv\u001b[0m\u001b[33m\n",
      "\u001b[0m\n",
      "\u001b[1m[\u001b[0m\u001b[34;49mnotice\u001b[0m\u001b[1;39;49m]\u001b[0m\u001b[39;49m A new release of pip is available: \u001b[0m\u001b[31;49m24.0\u001b[0m\u001b[39;49m -> \u001b[0m\u001b[32;49m24.1.1\u001b[0m\n",
      "\u001b[1m[\u001b[0m\u001b[34;49mnotice\u001b[0m\u001b[1;39;49m]\u001b[0m\u001b[39;49m To update, run: \u001b[0m\u001b[32;49mpip install --upgrade pip\u001b[0m\n"
     ]
    },
    {
     "name": "stderr",
     "output_type": "stream",
     "text": [
      "100%|██████████| 1000/1000 [03:59<00:00,  4.17it/s]\n"
     ]
    }
   ],
   "source": [
    "!pip install tqdm\n",
    "from tqdm import tqdm\n",
    "for data in tqdm(dev_data):\n",
    "    embed_text = data['答案']\n",
    "    data['ans_embedding'] = get_embedding(embed_text)"
   ]
  },
  {
   "cell_type": "code",
   "execution_count": 21,
   "id": "7ddae650-cca2-47a5-aa76-b1270673706a",
   "metadata": {
    "ExecutionIndicator": {
     "show": true
    },
    "execution": {
     "iopub.execute_input": "2024-07-06T07:41:32.135238Z",
     "iopub.status.busy": "2024-07-06T07:41:32.134716Z",
     "iopub.status.idle": "2024-07-06T07:41:34.293279Z",
     "shell.execute_reply": "2024-07-06T07:41:34.292687Z",
     "shell.execute_reply.started": "2024-07-06T07:41:32.135199Z"
    },
    "tags": []
   },
   "outputs": [],
   "source": [
    " write_jsonl(dev_data,\"dev_with_embedding\")"
   ]
  },
  {
   "cell_type": "code",
   "execution_count": 17,
   "id": "256f672e-2fbf-46c1-9f9f-ef8aab252746",
   "metadata": {
    "ExecutionIndicator": {
     "show": true
    },
    "execution": {
     "iopub.execute_input": "2024-07-06T07:34:05.556864Z",
     "iopub.status.busy": "2024-07-06T07:34:05.556511Z",
     "iopub.status.idle": "2024-07-06T07:34:05.991375Z",
     "shell.execute_reply": "2024-07-06T07:34:05.990867Z",
     "shell.execute_reply.started": "2024-07-06T07:34:05.556844Z"
    },
    "tags": []
   },
   "outputs": [
    {
     "name": "stdout",
     "output_type": "stream",
     "text": [
      "0.9570271829028671\n"
     ]
    }
   ],
   "source": [
    "text1 = \"1000万航空意外险具有一年的默认保险期间\"\n",
    "text2 = \"1000万航空意外险默认保险期间一年。\"\n",
    "vec1 = get_embedding(text1)\n",
    "vec2 = get_embedding(text2)\n",
    "similarity = cosine_similarity(vec1, vec2)\n",
    "print(similarity)"
   ]
  },
  {
   "cell_type": "markdown",
   "id": "86fc179f-60b2-48ea-9a3b-2afd8eecf130",
   "metadata": {},
   "source": [
    "### 参考资料"
   ]
  },
  {
   "cell_type": "markdown",
   "id": "3f0de316-f32f-45dc-9fe5-61129933bf24",
   "metadata": {},
   "source": [
    "https://dashscope.console.aliyun.com/billing"
   ]
  }
 ],
 "metadata": {
  "kernelspec": {
   "display_name": "Python 3 (ipykernel)",
   "language": "python",
   "name": "python3"
  },
  "language_info": {
   "codemirror_mode": {
    "name": "ipython",
    "version": 3
   },
   "file_extension": ".py",
   "mimetype": "text/x-python",
   "name": "python",
   "nbconvert_exporter": "python",
   "pygments_lexer": "ipython3",
   "version": "3.10.14"
  }
 },
 "nbformat": 4,
 "nbformat_minor": 5
}
