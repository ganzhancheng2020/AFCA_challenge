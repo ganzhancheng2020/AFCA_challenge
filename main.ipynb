{
 "cells": [
  {
   "cell_type": "code",
   "execution_count": 1,
   "id": "65b94a19-e36c-4e18-80f2-93261b367201",
   "metadata": {
    "ExecutionIndicator": {
     "show": false
    },
    "execution": {
     "iopub.execute_input": "2024-07-21T04:32:03.624012Z",
     "iopub.status.busy": "2024-07-21T04:32:03.623610Z",
     "iopub.status.idle": "2024-07-21T04:34:21.119897Z",
     "shell.execute_reply": "2024-07-21T04:34:21.119316Z",
     "shell.execute_reply.started": "2024-07-21T04:32:03.623993Z"
    },
    "tags": []
   },
   "outputs": [
    {
     "name": "stderr",
     "output_type": "stream",
     "text": [
      "2024-07-21 12:32:06.604592: I tensorflow/core/util/port.cc:153] oneDNN custom operations are on. You may see slightly different numerical results due to floating-point round-off errors from different computation orders. To turn them off, set the environment variable `TF_ENABLE_ONEDNN_OPTS=0`.\n",
      "2024-07-21 12:32:06.616424: E external/local_xla/xla/stream_executor/cuda/cuda_fft.cc:485] Unable to register cuFFT factory: Attempting to register factory for plugin cuFFT when one has already been registered\n",
      "2024-07-21 12:32:06.630553: E external/local_xla/xla/stream_executor/cuda/cuda_dnn.cc:8454] Unable to register cuDNN factory: Attempting to register factory for plugin cuDNN when one has already been registered\n",
      "2024-07-21 12:32:06.634769: E external/local_xla/xla/stream_executor/cuda/cuda_blas.cc:1452] Unable to register cuBLAS factory: Attempting to register factory for plugin cuBLAS when one has already been registered\n",
      "2024-07-21 12:32:06.648729: I tensorflow/core/platform/cpu_feature_guard.cc:210] This TensorFlow binary is optimized to use available CPU instructions in performance-critical operations.\n",
      "To enable the following instructions: AVX2 AVX512F AVX512_VNNI FMA, in other operations, rebuild TensorFlow with the appropriate compiler flags.\n",
      "2024-07-21 12:32:07.581842: W tensorflow/compiler/tf2tensorrt/utils/py_utils.cc:38] TF-TRT Warning: Could not find TensorRT\n",
      "/usr/local/lib/python3.10/site-packages/_distutils_hack/__init__.py:55: UserWarning: Reliance on distutils from stdlib is deprecated. Users must rely on setuptools to provide the distutils module. Avoid importing distutils or import setuptools first, and avoid setting SETUPTOOLS_USE_DISTUTILS=stdlib. Register concerns at https://github.com/pypa/setuptools/issues/new?template=distutils-deprecation.yml\n",
      "  warnings.warn(\n",
      "Downloading: 100%|██████████| 663/663 [00:00<00:00, 1.50kB/s]\n",
      "Downloading: 100%|██████████| 48.0/48.0 [00:00<00:00, 110B/s]\n",
      "Downloading: 100%|██████████| 243/243 [00:00<00:00, 491B/s]\n",
      "Downloading: 100%|██████████| 11.1k/11.1k [00:00<00:00, 24.7kB/s]\n",
      "Downloading: 100%|██████████| 1.59M/1.59M [00:00<00:00, 3.32MB/s]\n",
      "Downloading: 100%|██████████| 3.67G/3.67G [00:10<00:00, 365MB/s] \n",
      "Downloading: 100%|██████████| 3.60G/3.60G [00:13<00:00, 291MB/s] \n",
      "Downloading: 100%|██████████| 3.60G/3.60G [00:10<00:00, 365MB/s] \n",
      "Downloading: 100%|██████████| 3.31G/3.31G [00:10<00:00, 340MB/s] \n",
      "Downloading: 100%|██████████| 27.1k/27.1k [00:00<00:00, 62.3kB/s]\n",
      "Downloading: 100%|██████████| 6.41k/6.41k [00:00<00:00, 15.4kB/s]\n",
      "Downloading: 100%|██████████| 6.70M/6.70M [00:00<00:00, 12.2MB/s]\n",
      "Downloading: 100%|██████████| 1.26k/1.26k [00:00<00:00, 2.07kB/s]\n",
      "Downloading: 100%|██████████| 2.65M/2.65M [00:00<00:00, 5.60MB/s]\n"
     ]
    },
    {
     "data": {
      "application/vnd.jupyter.widget-view+json": {
       "model_id": "2a7818098c2844539747bccfa7f323ff",
       "version_major": 2,
       "version_minor": 0
      },
      "text/plain": [
       "Loading checkpoint shards:   0%|          | 0/4 [00:00<?, ?it/s]"
      ]
     },
     "metadata": {},
     "output_type": "display_data"
    },
    {
     "name": "stderr",
     "output_type": "stream",
     "text": [
      "Special tokens have been added in the vocabulary, make sure the associated word embeddings are fine-tuned or trained.\n"
     ]
    }
   ],
   "source": [
    "from openai import OpenAI\n",
    "import os\n",
    "from dotenv import dotenv_values\n",
    "from ReadLoad import read_jsonl, write_jsonl, read_json,write_json\n",
    "from tqdm import tqdm\n",
    "from evaluation import get_embedding, cosine_similarity\n",
    "from prompt_template import get_sys_prompt, get_qa_prompt\n",
    "#from shusheng import  get_respond\n",
    "from eval_data import key_word_score\n",
    "from qwen import qwen_response\n",
    "import pandas as pd\n",
    "import time\n",
    "\n",
    "config = dotenv_values('.env')\n",
    "client = OpenAI(\n",
    "    api_key=config['qwen_key'],\n",
    "    base_url=config['qwen_url']\n",
    ")\n",
    "\n",
    "\n",
    "def get_response(prompt):\n",
    "    time.sleep(0.1)\n",
    "    try:\n",
    "        completion = client.chat.completions.create(\n",
    "            model=\"qwen2-7b-instruct\",\n",
    "            messages=[\n",
    "                {'role': 'system', 'content': get_sys_prompt()},\n",
    "                {'role': 'user', 'content': prompt}\n",
    "            ]\n",
    "\n",
    "            )\n",
    "        return completion.choices[0].message.content\n",
    "    except Exception as e:\n",
    "    # Handle any other unexpected exceptions\n",
    "        print(f\"An unexpected error occurred: {e}\")\n",
    "        return f\"An unexpected error occurred: {e}\"\n"
   ]
  },
  {
   "cell_type": "code",
   "execution_count": 2,
   "id": "1ad2555a-89a6-48d7-aa98-34ad67cc8f6c",
   "metadata": {
    "ExecutionIndicator": {
     "show": true
    },
    "execution": {
     "iopub.execute_input": "2024-07-21T04:34:21.121398Z",
     "iopub.status.busy": "2024-07-21T04:34:21.120943Z",
     "iopub.status.idle": "2024-07-21T04:34:21.125437Z",
     "shell.execute_reply": "2024-07-21T04:34:21.124896Z",
     "shell.execute_reply.started": "2024-07-21T04:34:21.121379Z"
    },
    "tags": []
   },
   "outputs": [],
   "source": [
    "def completion(data):\n",
    "    for d in tqdm(data):\n",
    "        query = d['问题']\n",
    "        clause = d['条款']\n",
    "        name = d['产品名']\n",
    "        prompt = get_qa_prompt(name,clause,query)\n",
    "        d['prompt'] = prompt\n",
    "        #d['answer'] = get_response(prompt)\n",
    "        #d['answer'] = get_respond(prompt)\n",
    "        d['answer'] = qwen_response(prompt)\n",
    "    return data"
   ]
  },
  {
   "cell_type": "code",
   "execution_count": 3,
   "id": "9b3ce02f-6c56-4b5f-af8a-cafc12ea95f7",
   "metadata": {
    "ExecutionIndicator": {
     "show": false
    },
    "execution": {
     "iopub.execute_input": "2024-07-21T04:34:21.126536Z",
     "iopub.status.busy": "2024-07-21T04:34:21.126118Z",
     "iopub.status.idle": "2024-07-21T04:34:21.130344Z",
     "shell.execute_reply": "2024-07-21T04:34:21.129847Z",
     "shell.execute_reply.started": "2024-07-21T04:34:21.126520Z"
    },
    "tags": []
   },
   "outputs": [],
   "source": [
    "def evaluation(data, name=\"测试数据\"):\n",
    "    similaritys = []\n",
    "    for d in tqdm(data):\n",
    "        vec1 = dev_data_embd[d['ID']]\n",
    "        vec2 = get_embedding(d['answer'])\n",
    "        similarity = cosine_similarity(vec1, vec2)\n",
    "        d['similarity'] = similarity\n",
    "        d['key_word_similarity'] = key_word_score(d['答案'], d['answer'])\n",
    "        similaritys.append(similarity)\n",
    "    length = len(data)\n",
    "    score = sum(similaritys)/length\n",
    "    print(f'测评数据集：{length} 模型推理结果与答案的相识度得分：{score}')\n",
    "    df = pd.DataFrame(data)\n",
    "    df.to_excel(f\"{name}_score_{score}.xlsx\", index=False)\n",
    "    return data"
   ]
  },
  {
   "cell_type": "code",
   "execution_count": 4,
   "id": "77369f89-2d8a-483e-b50f-a41ce77e2a9c",
   "metadata": {
    "ExecutionIndicator": {
     "show": true
    },
    "execution": {
     "iopub.execute_input": "2024-07-21T04:34:21.131236Z",
     "iopub.status.busy": "2024-07-21T04:34:21.131022Z",
     "iopub.status.idle": "2024-07-21T04:34:21.134183Z",
     "shell.execute_reply": "2024-07-21T04:34:21.133726Z",
     "shell.execute_reply.started": "2024-07-21T04:34:21.131217Z"
    },
    "tags": []
   },
   "outputs": [],
   "source": [
    "def to_summit_json(data, commit=\"大道至简_result\"):\n",
    "    result = []\n",
    "    for d in data:\n",
    "        rd = {\n",
    "            \"ID\": d['ID'],\n",
    "            \"question\": d['问题'],\n",
    "            \"answer\": d['answer']\n",
    "        }\n",
    "        result.append(rd)\n",
    "    #write_json(result, commit)\n",
    "    write_jsonl(result, commit)"
   ]
  },
  {
   "cell_type": "markdown",
   "id": "c47b107e-4453-4bc6-b33b-0f9e07c4fcdd",
   "metadata": {},
   "source": [
    "### loading data"
   ]
  },
  {
   "cell_type": "code",
   "execution_count": 5,
   "id": "0df35a68-bade-4048-8944-a1d885dff3b3",
   "metadata": {
    "ExecutionIndicator": {
     "show": true
    },
    "execution": {
     "iopub.execute_input": "2024-07-21T04:34:21.135401Z",
     "iopub.status.busy": "2024-07-21T04:34:21.135203Z",
     "iopub.status.idle": "2024-07-21T04:34:21.415083Z",
     "shell.execute_reply": "2024-07-21T04:34:21.414585Z",
     "shell.execute_reply.started": "2024-07-21T04:34:21.135387Z"
    },
    "tags": []
   },
   "outputs": [],
   "source": [
    "#test_data = read_json(\"dataset/test.json\")\n",
    "dev_data = read_jsonl(\"dataset/resultdev_with_embedding.jsonl\")\n",
    "dev_data_embd = {}\n",
    "for d in dev_data:\n",
    "    dev_data_embd[d['ID']] = d['ans_embedding']\n",
    "    d.pop('ans_embedding')"
   ]
  },
  {
   "cell_type": "code",
   "execution_count": 6,
   "id": "256fa651-bc68-440e-a7d8-2d7fe84232f2",
   "metadata": {
    "ExecutionIndicator": {
     "show": true
    },
    "execution": {
     "iopub.execute_input": "2024-07-21T04:34:21.416031Z",
     "iopub.status.busy": "2024-07-21T04:34:21.415776Z",
     "iopub.status.idle": "2024-07-21T04:36:58.216766Z",
     "shell.execute_reply": "2024-07-21T04:36:58.216262Z",
     "shell.execute_reply.started": "2024-07-21T04:34:21.416014Z"
    },
    "tags": []
   },
   "outputs": [
    {
     "name": "stderr",
     "output_type": "stream",
     "text": [
      "100%|██████████| 100/100 [02:13<00:00,  1.33s/it]\n",
      "  0%|          | 0/100 [00:00<?, ?it/s]Building prefix dict from the default dictionary ...\n",
      "Dumping model to file cache /tmp/jieba.cache\n",
      "Loading model cost 0.576 seconds.\n",
      "Prefix dict has been built successfully.\n",
      "100%|██████████| 100/100 [00:23<00:00,  4.28it/s]\n"
     ]
    },
    {
     "name": "stdout",
     "output_type": "stream",
     "text": [
      "测评数据集：100 模型推理结果与答案的相识度得分：0.9169045935792026\n"
     ]
    }
   ],
   "source": [
    "# 将数据也移到GPU上\n",
    "comp_data = completion(dev_data[200:300])\n",
    "eval_data = evaluation(comp_data)\n",
    "\n",
    "# test_data_result = completion(test_data)\n",
    "# to_summit_json(test_data_result)\n"
   ]
  },
  {
   "cell_type": "code",
   "execution_count": 8,
   "id": "6b9663e4-fa06-4cdf-9ddc-e96173982f07",
   "metadata": {
    "execution": {
     "iopub.execute_input": "2024-07-21T04:37:59.302429Z",
     "iopub.status.busy": "2024-07-21T04:37:59.302078Z",
     "iopub.status.idle": "2024-07-21T04:37:59.306074Z",
     "shell.execute_reply": "2024-07-21T04:37:59.305599Z",
     "shell.execute_reply.started": "2024-07-21T04:37:59.302411Z"
    },
    "tags": []
   },
   "outputs": [
    {
     "data": {
      "text/plain": [
       "'产品名称：\"\"\"\"\"\"\\n保险条款：\"\"\"\"\"\"\\n用户问题：\"\"\"\"\"\"\\n回答规则：\"\"\"回答用户问题时，严格依据产品名称和保险条款中的内容提供精确且清晰的回答。\\n如果在保险条款中找不到答案，告诉用户在段落内容中并未提供具体的答案，并描述所提及的内容。\"\"\"\\n回答:'"
      ]
     },
     "execution_count": 8,
     "metadata": {},
     "output_type": "execute_result"
    }
   ],
   "source": [
    " get_qa_prompt(\"\",\"\",\"\")"
   ]
  },
  {
   "cell_type": "code",
   "execution_count": 7,
   "id": "b1aef090-1de2-477f-a3d0-2ce7c1389335",
   "metadata": {
    "ExecutionIndicator": {
     "show": true
    },
    "execution": {
     "iopub.execute_input": "2024-07-21T04:36:58.217980Z",
     "iopub.status.busy": "2024-07-21T04:36:58.217564Z",
     "iopub.status.idle": "2024-07-21T04:36:58.793799Z",
     "shell.execute_reply": "2024-07-21T04:36:58.793358Z",
     "shell.execute_reply.started": "2024-07-21T04:36:58.217962Z"
    },
    "tags": []
   },
   "outputs": [
    {
     "data": {
      "text/plain": [
       "'你好！有什么关于保险条款的问题我可以帮助解答吗？'"
      ]
     },
     "execution_count": 7,
     "metadata": {},
     "output_type": "execute_result"
    }
   ],
   "source": [
    "from qwen import qwen_response\n",
    "qwen_response(\"你好\")"
   ]
  },
  {
   "cell_type": "markdown",
   "id": "86fc179f-60b2-48ea-9a3b-2afd8eecf130",
   "metadata": {},
   "source": [
    "### 参考资料"
   ]
  },
  {
   "cell_type": "markdown",
   "id": "3f0de316-f32f-45dc-9fe5-61129933bf24",
   "metadata": {},
   "source": [
    "https://dashscope.console.aliyun.com/billing"
   ]
  }
 ],
 "metadata": {
  "kernelspec": {
   "display_name": "Python 3 (ipykernel)",
   "language": "python",
   "name": "python3"
  },
  "language_info": {
   "codemirror_mode": {
    "name": "ipython",
    "version": 3
   },
   "file_extension": ".py",
   "mimetype": "text/x-python",
   "name": "python",
   "nbconvert_exporter": "python",
   "pygments_lexer": "ipython3",
   "version": "3.10.14"
  }
 },
 "nbformat": 4,
 "nbformat_minor": 5
}
