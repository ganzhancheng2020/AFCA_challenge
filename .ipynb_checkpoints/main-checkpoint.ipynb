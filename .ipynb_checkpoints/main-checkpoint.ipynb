{
 "cells": [
  {
   "cell_type": "code",
   "execution_count": 1,
   "id": "65b94a19-e36c-4e18-80f2-93261b367201",
   "metadata": {
    "ExecutionIndicator": {
     "show": false
    },
    "execution": {
     "iopub.execute_input": "2024-07-21T09:28:53.242049Z",
     "iopub.status.busy": "2024-07-21T09:28:53.241895Z",
     "iopub.status.idle": "2024-07-21T09:29:42.812782Z",
     "shell.execute_reply": "2024-07-21T09:29:42.812257Z",
     "shell.execute_reply.started": "2024-07-21T09:28:53.242030Z"
    },
    "scrolled": true,
    "tags": []
   },
   "outputs": [
    {
     "name": "stderr",
     "output_type": "stream",
     "text": [
      "2024-07-21 17:28:57.284705: I tensorflow/core/util/port.cc:153] oneDNN custom operations are on. You may see slightly different numerical results due to floating-point round-off errors from different computation orders. To turn them off, set the environment variable `TF_ENABLE_ONEDNN_OPTS=0`.\n",
      "2024-07-21 17:28:57.297000: E external/local_xla/xla/stream_executor/cuda/cuda_fft.cc:485] Unable to register cuFFT factory: Attempting to register factory for plugin cuFFT when one has already been registered\n",
      "2024-07-21 17:28:57.312758: E external/local_xla/xla/stream_executor/cuda/cuda_dnn.cc:8454] Unable to register cuDNN factory: Attempting to register factory for plugin cuDNN when one has already been registered\n",
      "2024-07-21 17:28:57.317230: E external/local_xla/xla/stream_executor/cuda/cuda_blas.cc:1452] Unable to register cuBLAS factory: Attempting to register factory for plugin cuBLAS when one has already been registered\n",
      "2024-07-21 17:28:57.328403: I tensorflow/core/platform/cpu_feature_guard.cc:210] This TensorFlow binary is optimized to use available CPU instructions in performance-critical operations.\n",
      "To enable the following instructions: AVX2 AVX512F AVX512_VNNI FMA, in other operations, rebuild TensorFlow with the appropriate compiler flags.\n",
      "2024-07-21 17:28:58.573436: W tensorflow/compiler/tf2tensorrt/utils/py_utils.cc:38] TF-TRT Warning: Could not find TensorRT\n",
      "/usr/local/lib/python3.10/site-packages/_distutils_hack/__init__.py:55: UserWarning: Reliance on distutils from stdlib is deprecated. Users must rely on setuptools to provide the distutils module. Avoid importing distutils or import setuptools first, and avoid setting SETUPTOOLS_USE_DISTUTILS=stdlib. Register concerns at https://github.com/pypa/setuptools/issues/new?template=distutils-deprecation.yml\n",
      "  warnings.warn(\n"
     ]
    },
    {
     "data": {
      "application/vnd.jupyter.widget-view+json": {
       "model_id": "7643d74867514cdb8cd8a8ce325880d1",
       "version_major": 2,
       "version_minor": 0
      },
      "text/plain": [
       "Loading checkpoint shards:   0%|          | 0/4 [00:00<?, ?it/s]"
      ]
     },
     "metadata": {},
     "output_type": "display_data"
    },
    {
     "name": "stderr",
     "output_type": "stream",
     "text": [
      "Special tokens have been added in the vocabulary, make sure the associated word embeddings are fine-tuned or trained.\n"
     ]
    }
   ],
   "source": [
    "from openai import OpenAI\n",
    "import os\n",
    "from dotenv import dotenv_values\n",
    "from ReadLoad import read_jsonl, write_jsonl, read_json,write_json\n",
    "from tqdm import tqdm\n",
    "from evaluation import get_embedding, cosine_similarity\n",
    "from prompt_template import get_sys_prompt, get_qa_prompt, get_refine_prompt, re_query\n",
    "#from shusheng import  get_respond\n",
    "from eval_data import key_word_score\n",
    "from qwen import qwen_response\n",
    "import pandas as pd\n",
    "import time\n",
    "\n",
    "config = dotenv_values('.env')\n",
    "client = OpenAI(\n",
    "    api_key=config['qwen_key'],\n",
    "    base_url=config['qwen_url']\n",
    ")\n",
    "\n",
    "\n",
    "def get_response(prompt):\n",
    "    time.sleep(0.1)\n",
    "    try:\n",
    "        completion = client.chat.completions.create(\n",
    "            model=\"qwen2-7b-instruct\",\n",
    "            messages=[\n",
    "                {'role': 'system', 'content': get_sys_prompt()},\n",
    "                {'role': 'user', 'content': prompt}\n",
    "            ]\n",
    "\n",
    "            )\n",
    "        return completion.choices[0].message.content\n",
    "    except Exception as e:\n",
    "    # Handle any other unexpected exceptions\n",
    "        print(f\"An unexpected error occurred: {e}\")\n",
    "        return f\"An unexpected error occurred: {e}\"\n"
   ]
  },
  {
   "cell_type": "code",
   "execution_count": 2,
   "id": "1ad2555a-89a6-48d7-aa98-34ad67cc8f6c",
   "metadata": {
    "ExecutionIndicator": {
     "show": true
    },
    "execution": {
     "iopub.execute_input": "2024-07-21T09:29:42.814388Z",
     "iopub.status.busy": "2024-07-21T09:29:42.813932Z",
     "iopub.status.idle": "2024-07-21T09:29:42.818164Z",
     "shell.execute_reply": "2024-07-21T09:29:42.817635Z",
     "shell.execute_reply.started": "2024-07-21T09:29:42.814370Z"
    },
    "tags": []
   },
   "outputs": [],
   "source": [
    "def completion(data):\n",
    "    for d in tqdm(data):\n",
    "        query = d['问题']\n",
    "        clause = d['条款']\n",
    "        name = d['产品名']\n",
    "        prompt = get_qa_prompt(name,clause,query)\n",
    "        d['prompt'] = prompt\n",
    "        #d['answer'] = get_response(prompt)\n",
    "        #d['answer'] = get_respond(prompt)\n",
    "        d['original_answer'] = qwen_response(prompt)\n",
    "        d['refine_prompt'] = get_refine_prompt(query, d['original_answer'], name, clause)\n",
    "        d['answer'] = qwen_response(d['refine_prompt'])\n",
    "    return data"
   ]
  },
  {
   "cell_type": "code",
   "execution_count": 3,
   "id": "9b3ce02f-6c56-4b5f-af8a-cafc12ea95f7",
   "metadata": {
    "ExecutionIndicator": {
     "show": true
    },
    "execution": {
     "iopub.execute_input": "2024-07-21T09:29:42.818957Z",
     "iopub.status.busy": "2024-07-21T09:29:42.818759Z",
     "iopub.status.idle": "2024-07-21T09:29:42.823016Z",
     "shell.execute_reply": "2024-07-21T09:29:42.822499Z",
     "shell.execute_reply.started": "2024-07-21T09:29:42.818942Z"
    },
    "tags": []
   },
   "outputs": [],
   "source": [
    "def evaluation(data, name=\"测试数据\"):\n",
    "    similaritys = []\n",
    "    key_word_simi  = []\n",
    "    for d in tqdm(data):\n",
    "        vec1 = dev_data_embd[d['ID']]\n",
    "        vec2 = get_embedding(d['answer'])\n",
    "        similarity = cosine_similarity(vec1, vec2)\n",
    "        kw_score = key_word_score(d['答案'], d['answer'])\n",
    "        d['similarity'] = similarity\n",
    "        d['key_word_similarity'] = kw_score\n",
    "        similaritys.append(similarity)\n",
    "        key_word_simi.append(kw_score)\n",
    "    length = len(data)\n",
    "    score = sum(similaritys)/length\n",
    "    key_word_simi = sum(key_word_simi)/length\n",
    "    print(f'测评数据集：{length} \\n相识度得分：{score} \\n关键词得分：{key_word_simi}')\n",
    "    df = pd.DataFrame(data)\n",
    "    df.to_excel(f\"{name}_score_{score}.xlsx\", index=False)\n",
    "    return data"
   ]
  },
  {
   "cell_type": "code",
   "execution_count": 4,
   "id": "77369f89-2d8a-483e-b50f-a41ce77e2a9c",
   "metadata": {
    "ExecutionIndicator": {
     "show": true
    },
    "execution": {
     "iopub.execute_input": "2024-07-21T09:29:42.824095Z",
     "iopub.status.busy": "2024-07-21T09:29:42.823761Z",
     "iopub.status.idle": "2024-07-21T09:29:42.826946Z",
     "shell.execute_reply": "2024-07-21T09:29:42.826538Z",
     "shell.execute_reply.started": "2024-07-21T09:29:42.824072Z"
    },
    "tags": []
   },
   "outputs": [],
   "source": [
    "def to_summit_json(data, commit=\"大道至简_result\"):\n",
    "    result = []\n",
    "    for d in data:\n",
    "        rd = {\n",
    "            \"ID\": d['ID'],\n",
    "            \"question\": d['问题'],\n",
    "            \"answer\": d['answer']\n",
    "        }\n",
    "        result.append(rd)\n",
    "    #write_json(result, commit)\n",
    "    write_jsonl(result, commit)"
   ]
  },
  {
   "cell_type": "markdown",
   "id": "c47b107e-4453-4bc6-b33b-0f9e07c4fcdd",
   "metadata": {},
   "source": [
    "### loading data"
   ]
  },
  {
   "cell_type": "code",
   "execution_count": 5,
   "id": "0df35a68-bade-4048-8944-a1d885dff3b3",
   "metadata": {
    "ExecutionIndicator": {
     "show": true
    },
    "execution": {
     "iopub.execute_input": "2024-07-21T09:29:42.827790Z",
     "iopub.status.busy": "2024-07-21T09:29:42.827523Z",
     "iopub.status.idle": "2024-07-21T09:29:43.116455Z",
     "shell.execute_reply": "2024-07-21T09:29:43.115798Z",
     "shell.execute_reply.started": "2024-07-21T09:29:42.827776Z"
    },
    "tags": []
   },
   "outputs": [],
   "source": [
    "#test_data = read_json(\"dataset/test.json\")\n",
    "dev_data = read_jsonl(\"dataset/resultdev_with_embedding.jsonl\")\n",
    "dev_data_embd = {}\n",
    "for d in dev_data:\n",
    "    dev_data_embd[d['ID']] = d['ans_embedding']\n",
    "    d.pop('ans_embedding')"
   ]
  },
  {
   "cell_type": "code",
   "execution_count": 6,
   "id": "256fa651-bc68-440e-a7d8-2d7fe84232f2",
   "metadata": {
    "ExecutionIndicator": {
     "show": true
    },
    "execution": {
     "iopub.execute_input": "2024-07-21T09:29:43.118958Z",
     "iopub.status.busy": "2024-07-21T09:29:43.118491Z",
     "iopub.status.idle": "2024-07-21T09:35:09.766419Z",
     "shell.execute_reply": "2024-07-21T09:35:09.765834Z",
     "shell.execute_reply.started": "2024-07-21T09:29:43.118925Z"
    },
    "tags": []
   },
   "outputs": [
    {
     "name": "stderr",
     "output_type": "stream",
     "text": [
      "100%|██████████| 100/100 [04:59<00:00,  3.00s/it]\n",
      "  0%|          | 0/100 [00:00<?, ?it/s]Building prefix dict from the default dictionary ...\n",
      "Loading model from cache /tmp/jieba.cache\n",
      "Loading model cost 0.705 seconds.\n",
      "Prefix dict has been built successfully.\n",
      "100%|██████████| 100/100 [00:26<00:00,  3.78it/s]"
     ]
    },
    {
     "name": "stdout",
     "output_type": "stream",
     "text": [
      "测评数据集：100 \n",
      "相识度得分：0.9053258468069402 \n",
      "关键词得分：0.7778728034021839\n"
     ]
    },
    {
     "name": "stderr",
     "output_type": "stream",
     "text": [
      "\n"
     ]
    }
   ],
   "source": [
    "# 将数据也移到GPU上\n",
    "comp_data = completion(dev_data[200:300])\n",
    "eval_data = evaluation(comp_data)\n",
    "\n",
    "# test_data_result = completion(test_data)\n",
    "# to_summit_json(test_data_result)\n"
   ]
  },
  {
   "cell_type": "code",
   "execution_count": 7,
   "id": "b1aef090-1de2-477f-a3d0-2ce7c1389335",
   "metadata": {
    "ExecutionIndicator": {
     "show": true
    },
    "execution": {
     "iopub.execute_input": "2024-07-21T09:35:09.767868Z",
     "iopub.status.busy": "2024-07-21T09:35:09.767316Z",
     "iopub.status.idle": "2024-07-21T09:35:10.377596Z",
     "shell.execute_reply": "2024-07-21T09:35:10.377005Z",
     "shell.execute_reply.started": "2024-07-21T09:35:09.767840Z"
    },
    "tags": []
   },
   "outputs": [
    {
     "data": {
      "text/plain": [
       "'你好！有什么关于保险条款的问题我可以帮助你解答吗？'"
      ]
     },
     "execution_count": 7,
     "metadata": {},
     "output_type": "execute_result"
    }
   ],
   "source": [
    "from qwen import qwen_response\n",
    "qwen_response(\"你好\")"
   ]
  },
  {
   "cell_type": "markdown",
   "id": "86fc179f-60b2-48ea-9a3b-2afd8eecf130",
   "metadata": {},
   "source": [
    "### 参考资料"
   ]
  },
  {
   "cell_type": "markdown",
   "id": "3f0de316-f32f-45dc-9fe5-61129933bf24",
   "metadata": {},
   "source": [
    "https://dashscope.console.aliyun.com/billing"
   ]
  }
 ],
 "metadata": {
  "kernelspec": {
   "display_name": "Python 3 (ipykernel)",
   "language": "python",
   "name": "python3"
  },
  "language_info": {
   "codemirror_mode": {
    "name": "ipython",
    "version": 3
   },
   "file_extension": ".py",
   "mimetype": "text/x-python",
   "name": "python",
   "nbconvert_exporter": "python",
   "pygments_lexer": "ipython3",
   "version": "3.10.14"
  }
 },
 "nbformat": 4,
 "nbformat_minor": 5
}
