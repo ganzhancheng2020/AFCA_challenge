{
 "cells": [
  {
   "cell_type": "code",
   "execution_count": 1,
   "id": "cff0a314-4ff9-4a8d-8f5a-ba2ef77dab65",
   "metadata": {
    "ExecutionIndicator": {
     "show": true
    },
    "execution": {
     "iopub.execute_input": "2024-07-14T09:54:01.007253Z",
     "iopub.status.busy": "2024-07-14T09:54:01.006947Z",
     "iopub.status.idle": "2024-07-14T09:54:04.298724Z",
     "shell.execute_reply": "2024-07-14T09:54:04.298214Z",
     "shell.execute_reply.started": "2024-07-14T09:54:01.007234Z"
    },
    "tags": []
   },
   "outputs": [
    {
     "name": "stderr",
     "output_type": "stream",
     "text": [
      "/usr/local/lib/python3.10/site-packages/tqdm/auto.py:21: TqdmWarning: IProgress not found. Please update jupyter and ipywidgets. See https://ipywidgets.readthedocs.io/en/stable/user_install.html\n",
      "  from .autonotebook import tqdm as notebook_tqdm\n"
     ]
    }
   ],
   "source": [
    "from datasets import Dataset\n",
    "from ReadLoad import read_json\n",
    "from prompt_template import get_input_template, get_sys_prompt\n",
    "import pandas as pd\n",
    "from transformers import AutoTokenizer, AutoModelForCausalLM, DataCollatorForSeq2Seq, TrainingArguments, Trainer, GenerationConfig"
   ]
  },
  {
   "cell_type": "code",
   "execution_count": 5,
   "id": "787529c7-899d-46c7-b89f-5918edfae708",
   "metadata": {
    "execution": {
     "iopub.execute_input": "2024-07-14T10:00:04.306402Z",
     "iopub.status.busy": "2024-07-14T10:00:04.306092Z",
     "iopub.status.idle": "2024-07-14T10:01:43.894806Z",
     "shell.execute_reply": "2024-07-14T10:01:43.894287Z",
     "shell.execute_reply.started": "2024-07-14T10:00:04.306383Z"
    },
    "tags": []
   },
   "outputs": [
    {
     "name": "stderr",
     "output_type": "stream",
     "text": [
      "Downloading: 100%|██████████| 663/663 [00:00<00:00, 1.30kB/s]\n",
      "Downloading: 100%|██████████| 48.0/48.0 [00:00<00:00, 84.3B/s]\n",
      "Downloading: 100%|██████████| 243/243 [00:00<00:00, 489B/s]\n",
      "Downloading: 100%|██████████| 11.1k/11.1k [00:00<00:00, 29.1kB/s]\n",
      "Downloading: 100%|██████████| 1.59M/1.59M [00:00<00:00, 3.06MB/s]\n",
      "Downloading: 100%|██████████| 3.67G/3.67G [00:09<00:00, 403MB/s] \n",
      "Downloading: 100%|██████████| 3.60G/3.60G [00:15<00:00, 247MB/s] \n",
      "Downloading: 100%|██████████| 3.60G/3.60G [00:29<00:00, 133MB/s] \n",
      "Downloading: 100%|██████████| 3.31G/3.31G [00:07<00:00, 449MB/s] \n",
      "Downloading: 100%|██████████| 27.1k/27.1k [00:00<00:00, 57.1kB/s]\n",
      "Downloading: 100%|██████████| 6.41k/6.41k [00:00<00:00, 15.1kB/s]\n",
      "Downloading: 100%|██████████| 6.70M/6.70M [00:00<00:00, 10.7MB/s]\n",
      "Downloading: 100%|██████████| 1.26k/1.26k [00:00<00:00, 3.37kB/s]\n",
      "Downloading: 100%|██████████| 2.65M/2.65M [00:00<00:00, 4.84MB/s]\n"
     ]
    }
   ],
   "source": [
    "#模型下载\n",
    "from modelscope import snapshot_download\n",
    "model_dir = snapshot_download('qwen/Qwen2-7B-Instruct')"
   ]
  },
  {
   "cell_type": "code",
   "execution_count": 18,
   "id": "34a10829-45dc-4b56-af81-b676697424e1",
   "metadata": {
    "ExecutionIndicator": {
     "show": true
    },
    "execution": {
     "iopub.execute_input": "2024-07-14T10:06:00.540327Z",
     "iopub.status.busy": "2024-07-14T10:06:00.540014Z",
     "iopub.status.idle": "2024-07-14T10:06:00.543911Z",
     "shell.execute_reply": "2024-07-14T10:06:00.543394Z",
     "shell.execute_reply.started": "2024-07-14T10:06:00.540308Z"
    },
    "tags": []
   },
   "outputs": [],
   "source": [
    "def processing(data_path):\n",
    "    data = read_json(data_path)\n",
    "    train_data = [{\n",
    "        'instruction': '对用户提出的有关保险条款的问题给予准确、清晰的回答。',\n",
    "        'input': get_input_template(d['产品名'], d['条款'], d['问题']),\n",
    "        'output': d['答案']\n",
    "    } for d in data]\n",
    "    df = pd.DataFrame(train_data)\n",
    "    ds = Dataset.from_pandas(df)\n",
    "    return ds "
   ]
  },
  {
   "cell_type": "code",
   "execution_count": 19,
   "id": "1365d613-1339-4694-beb5-153deca09cb0",
   "metadata": {
    "execution": {
     "iopub.execute_input": "2024-07-14T10:06:02.083106Z",
     "iopub.status.busy": "2024-07-14T10:06:02.082748Z",
     "iopub.status.idle": "2024-07-14T10:06:02.142538Z",
     "shell.execute_reply": "2024-07-14T10:06:02.142042Z",
     "shell.execute_reply.started": "2024-07-14T10:06:02.083088Z"
    },
    "tags": []
   },
   "outputs": [],
   "source": [
    "train_data = processing('dataset/train.json')\n",
    "dev_data = processing('dataset/dev.json')"
   ]
  },
  {
   "cell_type": "code",
   "execution_count": 20,
   "id": "0eaea0e9-2d51-4b84-bf1f-33ce0b5c1c3a",
   "metadata": {
    "ExecutionIndicator": {
     "show": true
    },
    "execution": {
     "iopub.execute_input": "2024-07-14T10:06:03.089893Z",
     "iopub.status.busy": "2024-07-14T10:06:03.089568Z",
     "iopub.status.idle": "2024-07-14T10:06:03.273711Z",
     "shell.execute_reply": "2024-07-14T10:06:03.273254Z",
     "shell.execute_reply.started": "2024-07-14T10:06:03.089874Z"
    },
    "tags": []
   },
   "outputs": [
    {
     "name": "stderr",
     "output_type": "stream",
     "text": [
      "Special tokens have been added in the vocabulary, make sure the associated word embeddings are fine-tuned or trained.\n"
     ]
    },
    {
     "data": {
      "text/plain": [
       "Qwen2Tokenizer(name_or_path='/mnt/workspace/.cache/modelscope/hub/qwen/Qwen2-7B-Instruct', vocab_size=151643, model_max_length=131072, is_fast=False, padding_side='right', truncation_side='right', special_tokens={'eos_token': '<|im_end|>', 'pad_token': '<|endoftext|>', 'additional_special_tokens': ['<|im_start|>', '<|im_end|>']}, clean_up_tokenization_spaces=False),  added_tokens_decoder={\n",
       "\t151643: AddedToken(\"<|endoftext|>\", rstrip=False, lstrip=False, single_word=False, normalized=False, special=True),\n",
       "\t151644: AddedToken(\"<|im_start|>\", rstrip=False, lstrip=False, single_word=False, normalized=False, special=True),\n",
       "\t151645: AddedToken(\"<|im_end|>\", rstrip=False, lstrip=False, single_word=False, normalized=False, special=True),\n",
       "}"
      ]
     },
     "execution_count": 20,
     "metadata": {},
     "output_type": "execute_result"
    }
   ],
   "source": [
    "tokenizer = AutoTokenizer.from_pretrained(model_dir, use_fast=False, trust_remote_code=True)\n",
    "tokenizer"
   ]
  },
  {
   "cell_type": "code",
   "execution_count": 21,
   "id": "9d133a50-1b96-43bb-836f-565f4a8c1124",
   "metadata": {
    "ExecutionIndicator": {
     "show": true
    },
    "execution": {
     "iopub.execute_input": "2024-07-14T10:06:05.950679Z",
     "iopub.status.busy": "2024-07-14T10:06:05.950355Z",
     "iopub.status.idle": "2024-07-14T10:06:33.494195Z",
     "shell.execute_reply": "2024-07-14T10:06:33.493738Z",
     "shell.execute_reply.started": "2024-07-14T10:06:05.950659Z"
    },
    "tags": []
   },
   "outputs": [
    {
     "name": "stderr",
     "output_type": "stream",
     "text": [
      "                                                                \r"
     ]
    },
    {
     "data": {
      "text/plain": [
       "Dataset({\n",
       "    features: ['input_ids', 'attention_mask', 'labels'],\n",
       "    num_rows: 5000\n",
       "})"
      ]
     },
     "execution_count": 21,
     "metadata": {},
     "output_type": "execute_result"
    }
   ],
   "source": [
    "def process_func(example):\n",
    "    MAX_LENGTH = 384    # Llama分词器会将一个中文字切分为多个token，因此需要放开一些最大长度，保证数据的完整性\n",
    "    input_ids, attention_mask, labels = [], [], []\n",
    "    instruction = tokenizer(f\"<|im_start|>system\\n你是一个基于保险条款的问答系统<|im_end|>\\n<|im_start|>user\\n{example['instruction'] + example['input']}<|im_end|>\\n<|im_start|>assistant\\n\", add_special_tokens=False)  # add_special_tokens 不在开头加 special_tokens\n",
    "    response = tokenizer(f\"{example['output']}\", add_special_tokens=False)\n",
    "    input_ids = instruction[\"input_ids\"] + response[\"input_ids\"] + [tokenizer.pad_token_id]\n",
    "    attention_mask = instruction[\"attention_mask\"] + response[\"attention_mask\"] + [1]  # 因为eos token咱们也是要关注的所以 补充为1\n",
    "    labels = [-100] * len(instruction[\"input_ids\"]) + response[\"input_ids\"] + [tokenizer.pad_token_id]  \n",
    "    if len(input_ids) > MAX_LENGTH:  # 做一个截断\n",
    "        input_ids = input_ids[:MAX_LENGTH]\n",
    "        attention_mask = attention_mask[:MAX_LENGTH]\n",
    "        labels = labels[:MAX_LENGTH]\n",
    "    return {\n",
    "        \"input_ids\": input_ids,\n",
    "        \"attention_mask\": attention_mask,\n",
    "        \"labels\": labels\n",
    "    }\n",
    "\n",
    "tokenized_id = train_data.map(process_func, remove_columns=train_data.column_names)\n",
    "tokenized_id"
   ]
  },
  {
   "cell_type": "code",
   "execution_count": 22,
   "id": "f3bf175c-0a18-4933-9d47-d73b214d80a6",
   "metadata": {
    "execution": {
     "iopub.execute_input": "2024-07-14T10:06:45.192248Z",
     "iopub.status.busy": "2024-07-14T10:06:45.191905Z",
     "iopub.status.idle": "2024-07-14T10:06:51.749947Z",
     "shell.execute_reply": "2024-07-14T10:06:51.749361Z",
     "shell.execute_reply.started": "2024-07-14T10:06:45.192229Z"
    },
    "tags": []
   },
   "outputs": [
    {
     "name": "stderr",
     "output_type": "stream",
     "text": [
      "                                                               \r"
     ]
    },
    {
     "data": {
      "text/plain": [
       "Dataset({\n",
       "    features: ['input_ids', 'attention_mask', 'labels'],\n",
       "    num_rows: 1000\n",
       "})"
      ]
     },
     "execution_count": 22,
     "metadata": {},
     "output_type": "execute_result"
    }
   ],
   "source": [
    "dev_data_id = dev_data.map(process_func, remove_columns=dev_data.column_names)\n",
    "dev_data_id"
   ]
  },
  {
   "cell_type": "code",
   "execution_count": 23,
   "id": "2e410277-fbce-4b73-90b4-3855738b6377",
   "metadata": {
    "execution": {
     "iopub.execute_input": "2024-07-14T10:06:54.013919Z",
     "iopub.status.busy": "2024-07-14T10:06:54.013572Z",
     "iopub.status.idle": "2024-07-14T10:07:07.232036Z",
     "shell.execute_reply": "2024-07-14T10:07:07.231536Z",
     "shell.execute_reply.started": "2024-07-14T10:06:54.013899Z"
    },
    "tags": []
   },
   "outputs": [
    {
     "name": "stderr",
     "output_type": "stream",
     "text": [
      "Loading checkpoint shards: 100%|██████████| 4/4 [00:00<00:00,  7.08it/s]\n"
     ]
    }
   ],
   "source": [
    "import torch\n",
    "\n",
    "model = AutoModelForCausalLM.from_pretrained(model_dir, device_map=\"auto\",torch_dtype=torch.bfloat16)\n",
    "model.enable_input_require_grads() # 开启梯度检查点时，要执行该方法"
   ]
  },
  {
   "cell_type": "code",
   "execution_count": 24,
   "id": "a6b64bd8-b433-46cb-884b-afe6d5099590",
   "metadata": {
    "execution": {
     "iopub.execute_input": "2024-07-14T10:07:09.640218Z",
     "iopub.status.busy": "2024-07-14T10:07:09.639885Z",
     "iopub.status.idle": "2024-07-14T10:07:18.346855Z",
     "shell.execute_reply": "2024-07-14T10:07:18.346324Z",
     "shell.execute_reply.started": "2024-07-14T10:07:09.640198Z"
    },
    "tags": []
   },
   "outputs": [
    {
     "name": "stdout",
     "output_type": "stream",
     "text": [
      "trainable params: 20,185,088 || all params: 7,635,801,600 || trainable%: 0.26434798934534914\n"
     ]
    }
   ],
   "source": [
    "from peft import LoraConfig, TaskType, get_peft_model\n",
    "\n",
    "config = LoraConfig(\n",
    "    task_type=TaskType.CAUSAL_LM, \n",
    "    target_modules=[\"q_proj\", \"k_proj\", \"v_proj\", \"o_proj\", \"gate_proj\", \"up_proj\", \"down_proj\"],\n",
    "    inference_mode=False, # 训练模式\n",
    "    r=8, # Lora 秩\n",
    "    lora_alpha=32, # Lora alaph，具体作用参见 Lora 原理\n",
    "    lora_dropout=0.1# Dropout 比例\n",
    ")\n",
    "model = get_peft_model(model, config)\n",
    "model.print_trainable_parameters()"
   ]
  },
  {
   "cell_type": "code",
   "execution_count": null,
   "id": "94d9ad29-2447-4900-ade1-16865712c463",
   "metadata": {},
   "outputs": [],
   "source": [
    "args = TrainingArguments(\n",
    "    output_dir=\"./output/Qwen2_instruct_lora\",\n",
    "    per_device_train_batch_size=8,\n",
    "    gradient_accumulation_steps=4,\n",
    "    weight_decay=0.01,\n",
    "    logging_steps=50,\n",
    "    num_train_epochs=3,\n",
    "    save_steps=500, # 为了快速演示，这里设置10，建议你设置成100\n",
    "    learning_rate=3e-4,\n",
    "    save_on_each_node=True,\n",
    "    gradient_checkpointing=True\n",
    ")"
   ]
  },
  {
   "cell_type": "code",
   "execution_count": null,
   "id": "d9fbfbc1-0b42-4f5a-9948-4c56fb2d6bcd",
   "metadata": {},
   "outputs": [],
   "source": [
    "trainer = Trainer(\n",
    "    model=model,\n",
    "    args=args,\n",
    "    train_dataset=tokenized_id,\n",
    "    eval_dataset=eval_dataset, \n",
    "    data_collator=DataCollatorForSeq2Seq(tokenizer=tokenizer, padding=True),\n",
    ")\n",
    "trainer.train()"
   ]
  }
 ],
 "metadata": {
  "kernelspec": {
   "display_name": "Python 3 (ipykernel)",
   "language": "python",
   "name": "python3"
  },
  "language_info": {
   "codemirror_mode": {
    "name": "ipython",
    "version": 3
   },
   "file_extension": ".py",
   "mimetype": "text/x-python",
   "name": "python",
   "nbconvert_exporter": "python",
   "pygments_lexer": "ipython3",
   "version": "3.10.14"
  }
 },
 "nbformat": 4,
 "nbformat_minor": 5
}
