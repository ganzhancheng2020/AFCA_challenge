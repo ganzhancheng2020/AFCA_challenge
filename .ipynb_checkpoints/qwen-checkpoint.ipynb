{
 "cells": [
  {
   "cell_type": "code",
   "execution_count": 16,
   "id": "65b94a19-e36c-4e18-80f2-93261b367201",
   "metadata": {
    "ExecutionIndicator": {
     "show": false
    },
    "execution": {
     "iopub.execute_input": "2024-07-06T10:51:28.933461Z",
     "iopub.status.busy": "2024-07-06T10:51:28.933003Z",
     "iopub.status.idle": "2024-07-06T10:51:29.379330Z",
     "shell.execute_reply": "2024-07-06T10:51:29.378785Z",
     "shell.execute_reply.started": "2024-07-06T10:51:28.933426Z"
    },
    "tags": []
   },
   "outputs": [],
   "source": [
    "from openai import OpenAI\n",
    "import os\n",
    "from dotenv import dotenv_values\n",
    "from ReadLoad import read_jsonl, write_jsonl, read_json\n",
    "config = dotenv_values('.env')\n",
    "client = OpenAI(\n",
    "    api_key = config['qwen_key'],\n",
    "    base_url = config['qwen_url']\n",
    ")\n",
    "\n",
    "def get_response(prompt):\n",
    "    completion = client.chat.completions.create(\n",
    "        model=\"qwen2-7b-instruct\",\n",
    "        messages=[\n",
    "            {'role': 'system', 'content': \"你是一个一个基于保险条款的问答系统，对用户提出的有关保险条款的问题给予准确、清晰的回答。\"},\n",
    "            {'role': 'user', 'content': prompt}\n",
    "        ]\n",
    "        \n",
    "        )\n",
    "    result = completion.choices[0].message.content\n",
    "    return result\n"
   ]
  },
  {
   "cell_type": "code",
   "execution_count": 27,
   "id": "e0a309e2-0256-42f4-9b6d-7791f07b9ba0",
   "metadata": {
    "ExecutionIndicator": {
     "show": false
    },
    "execution": {
     "iopub.execute_input": "2024-07-06T11:28:41.727736Z",
     "iopub.status.busy": "2024-07-06T11:28:41.727239Z",
     "iopub.status.idle": "2024-07-06T11:28:41.730520Z",
     "shell.execute_reply": "2024-07-06T11:28:41.730016Z",
     "shell.execute_reply.started": "2024-07-06T11:28:41.727717Z"
    },
    "tags": []
   },
   "outputs": [],
   "source": [
    "qa_prompt = '''从保险条款\n",
    "==========\n",
    "{}\n",
    "==========\n",
    "中找问题\n",
    "==========\n",
    "{}\n",
    "==========\n",
    "的答案，找到答案就仅使用保险条款中的语句回答问题，找不到答案就用自身知识回答并且告诉用户该信息不是来自文档。\n",
    "不要复述问题，不要回答无关的内容, 直接开始回答问题。\n",
    "'''\n",
    "\n",
    "qa_prompt = '''\n",
    "\n",
    "保险条款: \"\"\"{}\"\"\"\n",
    "用户的问题: \"\"\"{}\"\"\"\n",
    "回答: \n",
    "\n",
    "'''"
   ]
  },
  {
   "cell_type": "code",
   "execution_count": 25,
   "id": "1ad2555a-89a6-48d7-aa98-34ad67cc8f6c",
   "metadata": {
    "ExecutionIndicator": {
     "show": true
    },
    "execution": {
     "iopub.execute_input": "2024-07-06T11:07:22.280597Z",
     "iopub.status.busy": "2024-07-06T11:07:22.280207Z",
     "iopub.status.idle": "2024-07-06T11:07:23.586346Z",
     "shell.execute_reply": "2024-07-06T11:07:23.585819Z",
     "shell.execute_reply.started": "2024-07-06T11:07:22.280577Z"
    },
    "tags": []
   },
   "outputs": [],
   "source": [
    "data = read_json(\"dev.json\")\n",
    "for d in data:\n",
    "    query = d['问题']\n",
    "    clause = d['条款']\n",
    "    prompt = qa_prompt.format(clause, query)\n",
    "    d['prompt'] = prompt\n",
    "    d['answer'] = get_response(prompt)\n",
    "    break"
   ]
  },
  {
   "cell_type": "code",
   "execution_count": 26,
   "id": "f957d46a-df86-44db-b318-7018fb953c02",
   "metadata": {
    "execution": {
     "iopub.execute_input": "2024-07-06T11:07:25.392253Z",
     "iopub.status.busy": "2024-07-06T11:07:25.391879Z",
     "iopub.status.idle": "2024-07-06T11:07:25.396093Z",
     "shell.execute_reply": "2024-07-06T11:07:25.395558Z",
     "shell.execute_reply.started": "2024-07-06T11:07:25.392233Z"
    },
    "tags": []
   },
   "outputs": [
    {
     "data": {
      "text/plain": [
       "{'ID': '5000',\n",
       " '产品名': '众安中高端医疗险（含门诊）',\n",
       " '条款': '重建手术费 指被保险人为恢复身体外观，在医生建议下于意外事故发生后12个月内进行重建手术的实际开支；或被保险人因疾病而进行乳房切除手术或乳房切除手术后12个月内进行的重建乳房手术的实际开支。在保险期间内，保险人所承担被保险人每次住院重建手术费的累计给付金额可由投保人和保险人在投保时单独约定，并在保险单中载明。',\n",
       " '问题': '什么是众安中高端医疗险中的重建手术费？',\n",
       " '答案': '重建手术费是指被保险人为恢复身体外观，在医生建议下于意外事故发生后12个月内进行重建手术的实际开支；或者是被保险人因疾病而进行乳房切除手术或乳房切除手术后12个月内进行的重建乳房手术的实际开支。',\n",
       " 'prompt': '从保险条款\\n==========\\n重建手术费 指被保险人为恢复身体外观，在医生建议下于意外事故发生后12个月内进行重建手术的实际开支；或被保险人因疾病而进行乳房切除手术或乳房切除手术后12个月内进行的重建乳房手术的实际开支。在保险期间内，保险人所承担被保险人每次住院重建手术费的累计给付金额可由投保人和保险人在投保时单独约定，并在保险单中载明。\\n==========\\n中找问题\\n==========\\n什么是众安中高端医疗险中的重建手术费？\\n==========\\n的答案，找到答案就仅使用保险条款中的语句回答问题，找不到答案就用自身知识回答并且告诉用户该信息不是来自文档。\\n不要复述问题，不要回答无关的内容, 直接开始回答问题。\\n',\n",
       " 'answer': '众安中高端医疗险中的“重建手术费”指的是在保险期间内，被保险人在意外事故后12个月内或因疾病导致需要进行乳房切除手术后12个月内，为了恢复身体外观而进行的重建手术的实际开支。在保险合同中，双方可以约定每次住院重建手术费的累计给付限额。'}"
      ]
     },
     "execution_count": 26,
     "metadata": {},
     "output_type": "execute_result"
    }
   ],
   "source": [
    "data[0]"
   ]
  },
  {
   "cell_type": "code",
   "execution_count": 6,
   "id": "021dc6ec-d244-4f85-94f7-8ceda1352c33",
   "metadata": {
    "execution": {
     "iopub.execute_input": "2024-07-06T07:20:18.471438Z",
     "iopub.status.busy": "2024-07-06T07:20:18.471118Z",
     "iopub.status.idle": "2024-07-06T07:20:18.475345Z",
     "shell.execute_reply": "2024-07-06T07:20:18.474897Z",
     "shell.execute_reply.started": "2024-07-06T07:20:18.471419Z"
    },
    "tags": []
   },
   "outputs": [],
   "source": [
    "#!pip install dashscope\n",
    "import dashscope\n",
    "from http import HTTPStatus\n",
    "dashscope.api_key = config['qwen_key'] \n",
    "\n",
    "def get_embedding(embed_text):\n",
    "    \n",
    "    respond = ''\n",
    "    try:\n",
    "        respond = dashscope.TextEmbedding.call(\n",
    "            model = dashscope.TextEmbedding.Models.text_embedding_v2,\n",
    "            input = embed_text)\n",
    "        \n",
    "        embedding = respond.output['embeddings'][0]['embedding']\n",
    "        \n",
    "    except Exception as e:\n",
    "        # Handle any other unexpected exceptions\n",
    "        print(f\"An unexpected error occurred: {e}\")\n",
    "    \n",
    "    return embedding"
   ]
  },
  {
   "cell_type": "code",
   "execution_count": 18,
   "id": "82df5b50-115b-4caf-b26e-29f4db399900",
   "metadata": {
    "ExecutionIndicator": {
     "show": true
    },
    "execution": {
     "iopub.execute_input": "2024-07-06T07:36:29.823212Z",
     "iopub.status.busy": "2024-07-06T07:36:29.822854Z",
     "iopub.status.idle": "2024-07-06T07:40:33.116296Z",
     "shell.execute_reply": "2024-07-06T07:40:33.115574Z",
     "shell.execute_reply.started": "2024-07-06T07:36:29.823193Z"
    },
    "tags": []
   },
   "outputs": [
    {
     "name": "stdout",
     "output_type": "stream",
     "text": [
      "Looking in indexes: https://mirrors.cloud.aliyuncs.com/pypi/simple\n",
      "Requirement already satisfied: tqdm in /usr/local/lib/python3.10/site-packages (4.66.4)\n",
      "\u001b[33mDEPRECATION: pytorch-lightning 1.7.7 has a non-standard dependency specifier torch>=1.9.*. pip 24.1 will enforce this behaviour change. A possible replacement is to upgrade to a newer version of pytorch-lightning or contact the author to suggest that they release a version with a conforming dependency specifiers. Discussion can be found at https://github.com/pypa/pip/issues/12063\u001b[0m\u001b[33m\n",
      "\u001b[0m\u001b[33mWARNING: Running pip as the 'root' user can result in broken permissions and conflicting behaviour with the system package manager. It is recommended to use a virtual environment instead: https://pip.pypa.io/warnings/venv\u001b[0m\u001b[33m\n",
      "\u001b[0m\n",
      "\u001b[1m[\u001b[0m\u001b[34;49mnotice\u001b[0m\u001b[1;39;49m]\u001b[0m\u001b[39;49m A new release of pip is available: \u001b[0m\u001b[31;49m24.0\u001b[0m\u001b[39;49m -> \u001b[0m\u001b[32;49m24.1.1\u001b[0m\n",
      "\u001b[1m[\u001b[0m\u001b[34;49mnotice\u001b[0m\u001b[1;39;49m]\u001b[0m\u001b[39;49m To update, run: \u001b[0m\u001b[32;49mpip install --upgrade pip\u001b[0m\n"
     ]
    },
    {
     "name": "stderr",
     "output_type": "stream",
     "text": [
      "100%|██████████| 1000/1000 [03:59<00:00,  4.17it/s]\n"
     ]
    }
   ],
   "source": [
    "!pip install tqdm\n",
    "from tqdm import tqdm\n",
    "for data in tqdm(dev_data):\n",
    "    embed_text = data['答案']\n",
    "    data['ans_embedding'] = get_embedding(embed_text)"
   ]
  },
  {
   "cell_type": "code",
   "execution_count": 21,
   "id": "7ddae650-cca2-47a5-aa76-b1270673706a",
   "metadata": {
    "ExecutionIndicator": {
     "show": true
    },
    "execution": {
     "iopub.execute_input": "2024-07-06T07:41:32.135238Z",
     "iopub.status.busy": "2024-07-06T07:41:32.134716Z",
     "iopub.status.idle": "2024-07-06T07:41:34.293279Z",
     "shell.execute_reply": "2024-07-06T07:41:34.292687Z",
     "shell.execute_reply.started": "2024-07-06T07:41:32.135199Z"
    },
    "tags": []
   },
   "outputs": [],
   "source": [
    " write_jsonl(dev_data,\"dev_with_embedding\")"
   ]
  },
  {
   "cell_type": "code",
   "execution_count": 17,
   "id": "256f672e-2fbf-46c1-9f9f-ef8aab252746",
   "metadata": {
    "ExecutionIndicator": {
     "show": true
    },
    "execution": {
     "iopub.execute_input": "2024-07-06T07:34:05.556864Z",
     "iopub.status.busy": "2024-07-06T07:34:05.556511Z",
     "iopub.status.idle": "2024-07-06T07:34:05.991375Z",
     "shell.execute_reply": "2024-07-06T07:34:05.990867Z",
     "shell.execute_reply.started": "2024-07-06T07:34:05.556844Z"
    },
    "tags": []
   },
   "outputs": [
    {
     "name": "stdout",
     "output_type": "stream",
     "text": [
      "0.9570271829028671\n"
     ]
    }
   ],
   "source": [
    "text1 = \"1000万航空意外险具有一年的默认保险期间\"\n",
    "text2 = \"1000万航空意外险默认保险期间一年。\"\n",
    "vec1 = get_embedding(text1)\n",
    "vec2 = get_embedding(text2)\n",
    "similarity = cosine_similarity(vec1, vec2)\n",
    "print(similarity)"
   ]
  },
  {
   "cell_type": "markdown",
   "id": "86fc179f-60b2-48ea-9a3b-2afd8eecf130",
   "metadata": {},
   "source": [
    "### 参考资料"
   ]
  },
  {
   "cell_type": "markdown",
   "id": "3f0de316-f32f-45dc-9fe5-61129933bf24",
   "metadata": {},
   "source": [
    "https://dashscope.console.aliyun.com/billing"
   ]
  }
 ],
 "metadata": {
  "kernelspec": {
   "display_name": "Python 3 (ipykernel)",
   "language": "python",
   "name": "python3"
  },
  "language_info": {
   "codemirror_mode": {
    "name": "ipython",
    "version": 3
   },
   "file_extension": ".py",
   "mimetype": "text/x-python",
   "name": "python",
   "nbconvert_exporter": "python",
   "pygments_lexer": "ipython3",
   "version": "3.10.14"
  }
 },
 "nbformat": 4,
 "nbformat_minor": 5
}
